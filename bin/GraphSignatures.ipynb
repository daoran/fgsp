{
 "cells": [
  {
   "cell_type": "markdown",
   "metadata": {},
   "source": [
    "## Compare Graph Signatures"
   ]
  },
  {
   "cell_type": "code",
   "execution_count": 1,
   "metadata": {},
   "outputs": [
    {
     "name": "stdout",
     "output_type": "stream",
     "text": [
      "\n",
      "\n",
      "Loading....\n",
      "Loading data from /mnt/data/datasets/fgsp/test2/\n",
      "=======================================\n"
     ]
    }
   ],
   "source": [
    "%matplotlib widget\n",
    "\n",
    "import numpy as np\n",
    "import matplotlib.pyplot as plt\n",
    "from mpl_toolkits.mplot3d import axes3d \n",
    "\n",
    "from pygsp import graphs, filters, plotting, reduction\n",
    "import os.path\n",
    "from global_graph import GlobalGraph\n",
    "from wavelet_evaluator import WaveletEvaluator\n",
    "\n",
    "\n",
    "%load_ext autoreload\n",
    "%autoreload 2\n",
    "\n",
    "plotting.BACKEND = 'matplotlib'\n",
    "plt.rcParams['figure.figsize'] = (10, 5)\n",
    "\n",
    "print(f'\\n\\nLoading....')\n",
    "\n",
    "dataroot = '/mnt/data/datasets/fgsp/'\n",
    "datasets = ['test2/']\n",
    "\n",
    "n_datasets = len(datasets)\n",
    "opt_signals = []\n",
    "est_signals = []\n",
    "opt_trajectory = []\n",
    "est_trajectory = []\n",
    "est_raw_trajectory = []\n",
    "opt_graph_coords = []\n",
    "opt_graph_adj = []\n",
    "for ds in datasets:\n",
    "    ds_path = dataroot + ds\n",
    "    print(f'Loading data from {ds_path}')\n",
    "    opt_signal_path = ds_path + 'opt_signal.npy'\n",
    "    opt_traj_path = ds_path + 'opt_trajectory.npy'\n",
    "    est_signal_path = ds_path + 'est_signal.npy'\n",
    "    est_traj_path = ds_path + 'est_trajectory.npy'  \n",
    "    est_raw_traj_path = ds_path + 'est_raw_trajectory.npy'  \n",
    "    opt_graph_coords_path = ds_path + 'opt_graph_coords.npy'\n",
    "    opt_graph_adj_path = ds_path + 'opt_graph_adj.npy'\n",
    " \n",
    "    if os.path.isfile(opt_signal_path) and os.path.isfile(est_signal_path):\n",
    "        opt_signals.append(np.load(opt_signal_path))\n",
    "        est_signals.append(np.load(est_signal_path))\n",
    "    else:\n",
    "        print(f'Signal files are not available:')\n",
    "        print(f'Opt file: {opt_signal_path}')\n",
    "        print(f'Est file: {est_signal_path}')\n",
    "        \n",
    "    if os.path.isfile(opt_traj_path) and os.path.isfile(est_traj_path) and os.path.isfile(est_raw_traj_path):\n",
    "        opt_trajectory.append(np.load(opt_traj_path))\n",
    "        est_trajectory.append(np.load(est_traj_path))\n",
    "        est_raw_trajectory.append(np.load(est_raw_traj_path))\n",
    "    else:\n",
    "        print(f'Trajectory files are not available.')\n",
    "        print(f'Opt file: {opt_traj_path}')\n",
    "        print(f'Est file: {est_traj_path}')\n",
    "        print(f'Est raw file: {est_raw_traj_path}')\n",
    "    \n",
    "    if os.path.isfile(opt_graph_coords_path) and os.path.isfile(opt_graph_adj_path):\n",
    "        opt_graph_coords.append(np.load(opt_graph_coords_path))\n",
    "        opt_graph_adj.append(np.load(opt_graph_adj_path))\n",
    "    else:\n",
    "        print(f'Graph files are not available.')\n",
    "        print(f'Coords file: {opt_graph_coords_path}')\n",
    "        print(f'Adj file: {opt_graph_adj_path}')\n",
    "    \n",
    "print(f'=======================================')"
   ]
  },
  {
   "cell_type": "code",
   "execution_count": 36,
   "metadata": {},
   "outputs": [
    {
     "name": "stdout",
     "output_type": "stream",
     "text": [
      "Built 1 global and robot graphs.\n"
     ]
    },
    {
     "name": "stderr",
     "output_type": "stream",
     "text": [
      "/usr/local/lib/python3.6/dist-packages/matplotlib/pyplot.py:522: RuntimeWarning: More than 20 figures have been opened. Figures created through the pyplot interface (`matplotlib.pyplot.figure`) are retained until explicitly closed and may consume too much memory. (To control this warning, see the rcParam `figure.max_open_warning`).\n",
      "  max_open_warning, RuntimeWarning)\n",
      "/usr/local/lib/python3.6/dist-packages/matplotlib/__init__.py:941: MatplotlibDeprecationWarning: nbagg.transparent is deprecated and ignored. Use figure.facecolor instead.\n",
      "  mplDeprecation)\n"
     ]
    },
    {
     "data": {
      "application/vnd.jupyter.widget-view+json": {
       "model_id": "157f189423d44b13bef11cc60d3ee02d",
       "version_major": 2,
       "version_minor": 0
      },
      "text/plain": [
       "Canvas(toolbar=Toolbar(toolitems=[('Home', 'Reset original view', 'home', 'home'), ('Back', 'Back to  previous…"
      ]
     },
     "metadata": {},
     "output_type": "display_data"
    },
    {
     "data": {
      "application/vnd.jupyter.widget-view+json": {
       "model_id": "e071caac812042a0852a199e24f486ec",
       "version_major": 2,
       "version_minor": 0
      },
      "text/plain": [
       "Canvas(toolbar=Toolbar(toolitems=[('Home', 'Reset original view', 'home', 'home'), ('Back', 'Back to  previous…"
      ]
     },
     "metadata": {},
     "output_type": "display_data"
    },
    {
     "data": {
      "text/plain": [
       "(<Figure size 1000x500 with 1 Axes>,\n",
       " <matplotlib.axes._subplots.AxesSubplot at 0x7f33d3a9ee48>)"
      ]
     },
     "execution_count": 36,
     "metadata": {},
     "output_type": "execute_result"
    }
   ],
   "source": [
    "global_graph_per_dataset = []\n",
    "robot_graph_per_dataset = []\n",
    "\n",
    "for i in range(0, n_datasets):\n",
    "    global_graph = GlobalGraph()\n",
    "    global_graph.build_graph_from_coords_and_adj(opt_graph_coords[i], opt_graph_adj[i])    \n",
    "    global_graph_per_dataset.append(global_graph)\n",
    "    \n",
    "    robot_graph = GlobalGraph()        \n",
    "    robot_graph.build_from_poses(est_trajectory[i][:,1:4])    \n",
    "    robot_graph_per_dataset.append(robot_graph)\n",
    "\n",
    "n_graphs = len(global_graph_per_dataset)\n",
    "assert n_graphs  == len(robot_graph_per_dataset)\n",
    "print(f'Built {n_graphs} global and robot graphs.')\n",
    "\n",
    "global_graph_per_dataset[0].G.plot()\n",
    "robot_graph_per_dataset[0].G.plot()"
   ]
  },
  {
   "cell_type": "code",
   "execution_count": 15,
   "metadata": {},
   "outputs": [
    {
     "name": "stdout",
     "output_type": "stream",
     "text": [
      "Global graph[0] opt dirichlet energy is 4114.66470153841\n",
      "Global graph[0] est dirichlet energy is 4303.282093437623\n",
      "diff is -188.61739189921354\n"
     ]
    }
   ],
   "source": [
    "i = 0\n",
    "opt_origin = opt_trajectory[i][0,1:4]\n",
    "est_origin = est_trajectory[i][0,1:4]\n",
    "\n",
    "opt_pos_signal = (opt_trajectory[i][:,1:4] - opt_origin).squeeze()\n",
    "est_pos_signal = (est_trajectory[i][:,1:4] - est_origin).squeeze()\n",
    "\n",
    "x_opt = np.linalg.norm(opt_pos_signal, ord=2, axis=1)\n",
    "x_est = np.linalg.norm(est_pos_signal, ord=2, axis=1)\n",
    "\n",
    "print(f'Global graph[{i}] opt dirichlet energy is {global_graph_per_dataset[0].G.dirichlet_energy(x_opt)}')\n",
    "print(f'Global graph[{i}] est dirichlet energy is {global_graph_per_dataset[0].G.dirichlet_energy(x_est)}')\n",
    "print(f'diff is {global_graph_per_dataset[0].G.dirichlet_energy(x_opt) - global_graph_per_dataset[0].G.dirichlet_energy(x_est)}')"
   ]
  },
  {
   "cell_type": "code",
   "execution_count": 4,
   "metadata": {},
   "outputs": [
    {
     "data": {
      "application/vnd.jupyter.widget-view+json": {
       "model_id": "515e90c22326428d8760e84e4b9fd180",
       "version_major": 2,
       "version_minor": 0
      },
      "text/plain": [
       "Canvas(toolbar=Toolbar(toolitems=[('Home', 'Reset original view', 'home', 'home'), ('Back', 'Back to  previous…"
      ]
     },
     "metadata": {},
     "output_type": "display_data"
    }
   ],
   "source": [
    "fig, ax = plt.subplots(1, 2)\n",
    "plt.subplot(1, 2, 1)\n",
    "global_adj_plot = plt.imshow(global_graph_per_dataset[0].G.W.toarray())\n",
    "plt.subplot(1, 2, 2)\n",
    "robot_adj_plot = plt.imshow(robot_graph_per_dataset[0].G.W.toarray())"
   ]
  },
  {
   "cell_type": "code",
   "execution_count": 30,
   "metadata": {},
   "outputs": [],
   "source": [
    "i = 0\n",
    "global_graph_eval = WaveletEvaluator(7)\n",
    "robot_graph_eval = WaveletEvaluator(7)\n",
    "global_graph_eval.compute_wavelets(global_graph_per_dataset[i].G)\n",
    "robot_graph_eval.compute_wavelets(robot_graph_per_dataset[i].G)\n",
    "\n",
    "x_opt = opt_signals[i]\n",
    "x_est = est_signals[i]\n",
    "global_psi = global_graph_eval.get_wavelets()\n",
    "robot_psi = robot_graph_eval.get_wavelets()\n",
    "W_opt = global_graph_eval.compute_wavelet_coeffs(x_opt)\n",
    "W_est = robot_graph_eval.compute_wavelet_coeffs(x_est)\n",
    "assert W_opt.shape[0] == W_est.shape[0]\n",
    "assert W_opt.shape[1] == W_est.shape[1]"
   ]
  },
  {
   "cell_type": "code",
   "execution_count": 65,
   "metadata": {},
   "outputs": [],
   "source": [
    "n_nodes = global_psi.shape[0]\n",
    "diff_low = np.array([0] * n_nodes)\n",
    "diff_mid = np.array([0] * n_nodes)\n",
    "diff_high = np.array([0] * n_nodes)\n",
    "for i in range(n_nodes):    \n",
    "    diff = global_psi[0,:,:] - robot_psi[i,:,:]\n",
    "    diff_low[i] = np.mean(np.linalg.norm(diff[:,0:2], axis=1))\n",
    "    diff_mid[i] = np.mean(np.linalg.norm(diff[:,2:5], axis=1))\n",
    "    diff_high[i] = np.mean(np.linalg.norm(diff[:,5:8], axis=1))\n",
    "\n",
    "diff_low = np.reshape(diff_low, (-1,1))\n",
    "diff_mid = np.reshape(diff_mid, (-1,1))\n",
    "diff_high = np.reshape(diff_high, (-1,1))\n",
    "\n",
    "# fig, ax = plt.subplots(1, 2)\n",
    "# plt.subplot(1, 2, 1)\n",
    "# plt.imshow(global_psi[:,:,0])\n",
    "# plt.subplot(1, 2, 2)\n",
    "# plt.imshow(robot_psi[:,:,0])"
   ]
  },
  {
   "cell_type": "code",
   "execution_count": 68,
   "metadata": {},
   "outputs": [
    {
     "data": {
      "application/vnd.jupyter.widget-view+json": {
       "model_id": "d27d905989a64b20af0007a6a74a0e92",
       "version_major": 2,
       "version_minor": 0
      },
      "text/plain": [
       "Canvas(toolbar=Toolbar(toolitems=[('Home', 'Reset original view', 'home', 'home'), ('Back', 'Back to  previous…"
      ]
     },
     "metadata": {},
     "output_type": "display_data"
    }
   ],
   "source": [
    "fig, ax = plt.subplots(1, 3)\n",
    "plt.subplot(1, 3, 1)\n",
    "# difference_low = difference_low / np.max(difference_low)\n",
    "diff_plot = plt.imshow(np.reshape(np.repeat(diff_low, 50, axis=0), (-1,50)))\n",
    "plt.colorbar(diff_plot)\n",
    "\n",
    "# difference_mid = difference_mid / np.max(difference_mid)\n",
    "plt.subplot(1, 3, 2)\n",
    "diff_plot2 = plt.imshow(np.reshape(np.repeat(diff_mid, 50, axis=0), (-1,50)))\n",
    "plt.colorbar(diff_plot2)\n",
    "\n",
    "plt.subplot(1, 3, 3)\n",
    "diff_plot3 = plt.imshow(np.reshape(np.repeat(diff_high, 50, axis=0), (-1,50)))\n",
    "plt.colorbar(diff_plot3)\n",
    "fig.tight_layout()"
   ]
  },
  {
   "cell_type": "code",
   "execution_count": 11,
   "metadata": {},
   "outputs": [],
   "source": [
    "steps = [x*20 for x in range(50)]\n",
    "n_nodes = W_opt.shape[0]\n",
    "\n",
    "global_data = []\n",
    "robot_data = []\n",
    "for i in range(0, n_nodes):    \n",
    "    global_wavelet_coefficients = [np.mean(np.exp(W_opt[i,:]*1.0*step*1j)) for step in steps]\n",
    "    robot_wavelet_coefficients = [np.mean(np.exp(W_est[i,:]*1.0*step*1j)) for step in steps]\n",
    "    global_data.append(global_wavelet_coefficients)\n",
    "    robot_data.append(robot_wavelet_coefficients)"
   ]
  },
  {
   "cell_type": "code",
   "execution_count": 69,
   "metadata": {},
   "outputs": [
    {
     "data": {
      "application/vnd.jupyter.widget-view+json": {
       "model_id": "b6c082a2bb7f41b6a9111916fe20ed79",
       "version_major": 2,
       "version_minor": 0
      },
      "text/plain": [
       "Canvas(toolbar=Toolbar(toolitems=[('Home', 'Reset original view', 'home', 'home'), ('Back', 'Back to  previous…"
      ]
     },
     "metadata": {},
     "output_type": "display_data"
    }
   ],
   "source": [
    "fig, ax = plt.subplots(1, 5)\n",
    "plt.subplot(1, 5, 1)\n",
    "# global_energy = np.abs(np.array(global_data))\n",
    "# robot_energy = np.abs(np.array(robot_data))\n",
    "\n",
    "global_energy = np.abs(np.array(W_opt))\n",
    "robot_energy = np.abs(np.array(W_est))\n",
    "\n",
    "plt.imshow(global_energy)\n",
    "plt.subplot(1, 5, 2)\n",
    "plt.imshow(robot_energy)\n",
    "\n",
    "difference_low = np.linalg.norm(global_energy[:,0:2] - robot_energy[:,0:2], axis=1)\n",
    "difference_low = np.reshape(difference_low, (-1,1))\n",
    "# difference_low = difference_low / np.max(difference_low)\n",
    "plt.subplot(1, 5, 3)\n",
    "diff_plot = plt.imshow(np.reshape(np.repeat(difference_low, 50, axis=0), (-1,50)))\n",
    "plt.colorbar(diff_plot)\n",
    "\n",
    "difference_mid = np.linalg.norm(global_energy[:,2:5] - robot_energy[:,2:5], axis=1)\n",
    "difference_mid = np.reshape(difference_mid, (-1,1))\n",
    "# difference_mid = difference_mid / np.max(difference_mid)\n",
    "plt.subplot(1, 5, 4)\n",
    "diff_plot2 = plt.imshow(np.reshape(np.repeat(difference_mid, 50, axis=0), (-1,50)))\n",
    "plt.colorbar(diff_plot2)\n",
    "\n",
    "difference_high = np.linalg.norm(global_energy[:,5:8] - robot_energy[:,5:8], axis=1)\n",
    "# difference_high = difference_high / np.max(difference_high)\n",
    "difference_high = np.reshape(difference_high, (-1,1))\n",
    "plt.subplot(1, 5, 5)\n",
    "diff_plot3 = plt.imshow(np.reshape(np.repeat(difference_high, 50, axis=0), (-1,50)))\n",
    "plt.colorbar(diff_plot3)\n",
    "fig.tight_layout()"
   ]
  },
  {
   "cell_type": "code",
   "execution_count": 34,
   "metadata": {},
   "outputs": [
    {
     "data": {
      "application/vnd.jupyter.widget-view+json": {
       "model_id": "2d90c40e315341ceb31d080c717f6ebc",
       "version_major": 2,
       "version_minor": 0
      },
      "text/plain": [
       "Canvas(toolbar=Toolbar(toolitems=[('Home', 'Reset original view', 'home', 'home'), ('Back', 'Back to  previous…"
      ]
     },
     "metadata": {},
     "output_type": "display_data"
    }
   ],
   "source": [
    "fig, axes = plt.subplots(7, 1, figsize=(8, 8))\n",
    "#fig.subplots_adjust(hspace=0.5)\n",
    "\n",
    "for i in range(0, 7):\n",
    "    axes[i].plot(W_opt[:,i], label='Optimized')\n",
    "    axes[i].plot(W_est[:,i], label='Estimated')    \n",
    "    axes[i].legend()\n",
    "plt.tight_layout()"
   ]
  },
  {
   "cell_type": "code",
   "execution_count": 35,
   "metadata": {},
   "outputs": [
    {
     "data": {
      "application/vnd.jupyter.widget-view+json": {
       "model_id": "d2db6c9e50ff4d538c1f173a03535ef1",
       "version_major": 2,
       "version_minor": 0
      },
      "text/plain": [
       "Canvas(toolbar=Toolbar(toolitems=[('Home', 'Reset original view', 'home', 'home'), ('Back', 'Back to  previous…"
      ]
     },
     "metadata": {},
     "output_type": "display_data"
    },
    {
     "data": {
      "application/vnd.jupyter.widget-view+json": {
       "model_id": "bd1e7ca5364742efa4db2282068ce317",
       "version_major": 2,
       "version_minor": 0
      },
      "text/plain": [
       "Canvas(toolbar=Toolbar(toolitems=[('Home', 'Reset original view', 'home', 'home'), ('Back', 'Back to  previous…"
      ]
     },
     "metadata": {},
     "output_type": "display_data"
    },
    {
     "data": {
      "application/vnd.jupyter.widget-view+json": {
       "model_id": "2e6b14d4d0464f3ab8fd1621391c59be",
       "version_major": 2,
       "version_minor": 0
      },
      "text/plain": [
       "Canvas(toolbar=Toolbar(toolitems=[('Home', 'Reset original view', 'home', 'home'), ('Back', 'Back to  previous…"
      ]
     },
     "metadata": {},
     "output_type": "display_data"
    }
   ],
   "source": [
    "top_n = 20\n",
    "\n",
    "ind = np.unravel_index(np.argsort(difference_low, axis=None), difference_low.shape)\n",
    "peaks = ind[0][-top_n:][::-1]\n",
    "_ = global_graph_per_dataset[0].G.plot(title=f'Top {top_n} low difference', highlight=peaks)\n",
    "\n",
    "ind = np.unravel_index(np.argsort(difference_mid, axis=None), difference_mid.shape)\n",
    "peaks = ind[0][-top_n:][::-1]\n",
    "_ = global_graph_per_dataset[0].G.plot(title=f'Top {top_n} mid difference', highlight=peaks)\n",
    "\n",
    "ind = np.unravel_index(np.argsort(difference_high, axis=None), difference_high.shape)\n",
    "peaks = ind[0][-top_n:][::-1]\n",
    "_ = global_graph_per_dataset[0].G.plot(title=f'Top {top_n} high difference', highlight=peaks)"
   ]
  },
  {
   "cell_type": "markdown",
   "metadata": {},
   "source": [
    "## Baseline Solution (Simple distance-based)"
   ]
  },
  {
   "cell_type": "code",
   "execution_count": 38,
   "metadata": {},
   "outputs": [
    {
     "name": "stdout",
     "output_type": "stream",
     "text": [
      "Synced signal shapes are (386, 8) and (386, 8)\n"
     ]
    },
    {
     "data": {
      "application/vnd.jupyter.widget-view+json": {
       "model_id": "b4487796d2b24597a46a5e1b3d3051b9",
       "version_major": 2,
       "version_minor": 0
      },
      "text/plain": [
       "Canvas(toolbar=Toolbar(toolitems=[('Home', 'Reset original view', 'home', 'home'), ('Back', 'Back to  previous…"
      ]
     },
     "metadata": {},
     "output_type": "display_data"
    }
   ],
   "source": [
    "def compare_trajectories(est_traj, opt_traj):    \n",
    "    fig = plt.figure(figsize=(8,8))\n",
    "    ax = fig.add_subplot(111, projection='3d')\n",
    "    \n",
    "    ax.scatter(est_traj[:,1], est_traj[:,2], est_traj[:,3], label='Estimated Trajectory')\n",
    "    ax.scatter(opt_traj[:,1], opt_traj[:,2], opt_traj[:,3], label='Optimized Trajectory')\n",
    "    plt.legend()\n",
    "    plt.show()\n",
    "    \n",
    "i = 0\n",
    "print(f'Synced signal shapes are {est_trajectory[i].shape} and {opt_trajectory[i].shape}')\n",
    "compare_trajectories(est_trajectory[i], opt_trajectory[i])"
   ]
  },
  {
   "cell_type": "code",
   "execution_count": 37,
   "metadata": {},
   "outputs": [
    {
     "data": {
      "application/vnd.jupyter.widget-view+json": {
       "model_id": "bdfe06dd4d354597af80ac59111b8fb5",
       "version_major": 2,
       "version_minor": 0
      },
      "text/plain": [
       "Canvas(toolbar=Toolbar(toolitems=[('Home', 'Reset original view', 'home', 'home'), ('Back', 'Back to  previous…"
      ]
     },
     "metadata": {},
     "output_type": "display_data"
    }
   ],
   "source": [
    "top_n = 20\n",
    "diff_simple = np.linalg.norm(est_trajectory[i][:,1:4] - opt_trajectory[i][:,1:4], axis=1)\n",
    "ind = np.unravel_index(np.argsort(diff_simple, axis=None), diff_simple.shape)\n",
    "peaks = ind[0][-top_n:][::-1]\n",
    "_ = global_graph_per_dataset[0].G.plot(title='Top 20 difference L2', highlight=peaks)"
   ]
  },
  {
   "cell_type": "code",
   "execution_count": 98,
   "metadata": {},
   "outputs": [],
   "source": [
    "from scipy.spatial.transform import Rotation\n",
    "\n",
    "n_nodes = opt_trajectory[0].shape[0]\n",
    "x_opt_rot = [0] * n_nodes\n",
    "x_est_rot = [0] * n_nodes\n",
    "\n",
    "wxyz = opt_trajectory[0][i,4:8]\n",
    "opt_origin = np.linalg.norm(Rotation.from_quat([wxyz[1], wxyz[2], wxyz[3], wxyz[0]]).as_rotvec())\n",
    "\n",
    "wxyz = est_trajectory[0][i,4:8]\n",
    "est_origin = np.linalg.norm(Rotation.from_quat([wxyz[1], wxyz[2], wxyz[3], wxyz[0]]).as_rotvec())\n",
    "\n",
    "\n",
    "for i in range(0, n_nodes):\n",
    "    wxyz = opt_trajectory[0][i,4:8]\n",
    "    x_opt_rot[i] = opt_origin - np.linalg.norm(Rotation.from_quat([wxyz[1], wxyz[2], wxyz[3], wxyz[0]]).as_rotvec())\n",
    "    \n",
    "    wxyz = est_trajectory[0][i,4:8]\n",
    "    x_est_rot[i] = est_origin - np.linalg.norm(Rotation.from_quat([wxyz[1], wxyz[2], wxyz[3], wxyz[0]]).as_rotvec())\n",
    "                                  \n",
    "x_opt_rot = np.array(x_opt_rot)\n",
    "x_est_rot = np.array(x_est_rot)"
   ]
  },
  {
   "cell_type": "code",
   "execution_count": 97,
   "metadata": {},
   "outputs": [
    {
     "data": {
      "text/plain": [
       "array([[0.00000000e+00, 1.57588065e+00],\n",
       "       [3.47911446e-02, 1.57417836e+00],\n",
       "       [8.87123920e-01, 1.51381749e+00],\n",
       "       [8.85582381e-01, 1.53933672e+00],\n",
       "       [8.85648410e-01, 1.53916194e+00],\n",
       "       [8.85363362e-01, 1.53912652e+00],\n",
       "       [8.83947976e-01, 1.53916920e+00],\n",
       "       [8.85093464e-01, 1.53910525e+00],\n",
       "       [8.85868875e-01, 1.53948276e+00],\n",
       "       [8.85336797e-01, 1.53923855e+00],\n",
       "       [8.84482260e-01, 1.53919832e+00],\n",
       "       [7.24735823e-01, 1.95564477e+00],\n",
       "       [6.22329672e-01, 2.32054291e+00],\n",
       "       [5.02005243e-01, 2.52916273e+00],\n",
       "       [8.18009985e-01, 2.64812987e+00],\n",
       "       [1.84992991e+00, 2.82883844e+00],\n",
       "       [2.60006341e+00, 2.82762607e+00],\n",
       "       [3.33147306e+00, 2.67494250e+00],\n",
       "       [4.25714679e+00, 2.70788827e+00],\n",
       "       [5.23429120e+00, 2.68442028e+00],\n",
       "       [5.42486047e+00, 2.67590553e+00],\n",
       "       [6.45361679e+00, 2.66294203e+00],\n",
       "       [7.37716944e+00, 2.09840562e+00],\n",
       "       [7.62484703e+00, 1.58936420e+00],\n",
       "       [8.12293492e+00, 1.62181479e+00],\n",
       "       [8.68576082e+00, 1.69220663e+00],\n",
       "       [9.22320580e+00, 1.67772455e+00],\n",
       "       [1.02103430e+01, 1.65321879e+00],\n",
       "       [1.10400721e+01, 1.67759856e+00],\n",
       "       [1.13012384e+01, 1.51573430e+00],\n",
       "       [1.22497636e+01, 1.54127978e+00],\n",
       "       [1.31654289e+01, 1.48151772e+00],\n",
       "       [1.40365729e+01, 1.04276861e+00],\n",
       "       [1.47533759e+01, 9.48500596e-01],\n",
       "       [1.50823118e+01, 9.37423810e-01],\n",
       "       [1.58108843e+01, 9.13284408e-01],\n",
       "       [1.68263695e+01, 8.96698611e-01],\n",
       "       [1.77143103e+01, 8.63105911e-01],\n",
       "       [1.80828043e+01, 8.54172806e-01],\n",
       "       [1.86866553e+01, 8.42816866e-01],\n",
       "       [1.94727907e+01, 1.23987041e+00],\n",
       "       [2.05838404e+01, 1.73430680e+00],\n",
       "       [2.05838404e+01, 1.73430680e+00],\n",
       "       [2.17108137e+01, 1.64094645e+00],\n",
       "       [2.27499099e+01, 2.09544561e+00],\n",
       "       [2.39095371e+01, 1.92244834e+00],\n",
       "       [2.49719162e+01, 1.93614253e+00],\n",
       "       [2.59331773e+01, 1.96751909e+00],\n",
       "       [2.69957556e+01, 1.89095358e+00],\n",
       "       [2.80104489e+01, 1.77975375e+00],\n",
       "       [2.90237127e+01, 1.68165851e+00],\n",
       "       [3.01309102e+01, 1.64049927e+00],\n",
       "       [3.02394948e+01, 1.63505724e+00],\n",
       "       [3.05229372e+01, 1.66173589e+00],\n",
       "       [3.05252569e+01, 1.64087894e+00],\n",
       "       [3.05218174e+01, 1.63786271e+00],\n",
       "       [3.05150916e+01, 1.64132016e+00],\n",
       "       [3.17215193e+01, 1.72545229e+00],\n",
       "       [3.27863707e+01, 1.75616532e+00],\n",
       "       [3.38278214e+01, 1.78413579e+00],\n",
       "       [3.49221141e+01, 1.75438718e+00],\n",
       "       [3.55728470e+01, 1.81505394e+00],\n",
       "       [3.71573211e+01, 1.85018309e+00],\n",
       "       [3.86691846e+01, 1.85195981e+00],\n",
       "       [4.01859534e+01, 1.86480502e+00],\n",
       "       [4.06311201e+01, 1.85694539e+00],\n",
       "       [4.18094857e+01, 1.84756924e+00],\n",
       "       [4.28426125e+01, 1.84616360e+00],\n",
       "       [4.43856242e+01, 1.85118460e+00],\n",
       "       [4.52615543e+01, 1.83145450e+00],\n",
       "       [4.64087789e+01, 1.82594720e+00],\n",
       "       [4.67351498e+01, 1.38251608e+00],\n",
       "       [4.67089108e+01, 1.00853596e+00],\n",
       "       [4.74301616e+01, 8.18037913e-01],\n",
       "       [4.75075469e+01, 8.54121613e-01],\n",
       "       [4.81333038e+01, 9.50317479e-01],\n",
       "       [4.91638440e+01, 9.47407038e-01],\n",
       "       [4.98326237e+01, 9.46205815e-01],\n",
       "       [5.05384412e+01, 9.60765297e-01],\n",
       "       [5.05896501e+01, 8.32123066e-01],\n",
       "       [5.12999424e+01, 8.63397218e-01],\n",
       "       [5.24681664e+01, 9.84061119e-01],\n",
       "       [5.33311158e+01, 1.01578776e+00],\n",
       "       [5.41192722e+01, 1.02282558e+00],\n",
       "       [5.43057960e+01, 1.01412901e+00],\n",
       "       [5.44263140e+01, 4.01994245e-01],\n",
       "       [5.51462131e+01, 3.31022232e-01],\n",
       "       [5.58979838e+01, 2.21037694e-01],\n",
       "       [5.62802115e+01, 1.98932899e-01],\n",
       "       [5.62857239e+01, 2.04122843e-01],\n",
       "       [5.60978315e+01, 4.05550439e-01],\n",
       "       [5.57354979e+01, 2.88076481e-01],\n",
       "       [5.56791841e+01, 1.86430760e-01],\n",
       "       [5.58068729e+01, 1.68455422e-01],\n",
       "       [5.58376396e+01, 1.58778127e-01],\n",
       "       [5.57054855e+01, 3.70448586e-01],\n",
       "       [5.48792433e+01, 6.78058314e-01],\n",
       "       [5.45017500e+01, 7.08317031e-01],\n",
       "       [5.36552104e+01, 7.84563399e-01],\n",
       "       [5.36664013e+01, 3.52320761e-01],\n",
       "       [5.37343751e+01, 1.38286142e-01],\n",
       "       [5.42058387e+01, 2.59466777e-01],\n",
       "       [5.46310684e+01, 2.10376516e-01],\n",
       "       [5.51137896e+01, 2.02595338e-01],\n",
       "       [5.52966914e+01, 1.69826887e-01],\n",
       "       [5.56547404e+01, 2.38270630e-01],\n",
       "       [5.57591718e+01, 1.39091421e-01],\n",
       "       [5.61200485e+01, 3.71136867e-01],\n",
       "       [5.66250253e+01, 4.32903857e-01],\n",
       "       [5.73959061e+01, 4.45666938e-01],\n",
       "       [5.73959061e+01, 4.45666938e-01],\n",
       "       [5.79219294e+01, 2.50486791e-01],\n",
       "       [5.82682231e+01, 2.64402908e-01],\n",
       "       [5.88714958e+01, 2.42688873e-01],\n",
       "       [5.96717957e+01, 1.91703301e-01],\n",
       "       [6.03066341e+01, 1.64955582e-01],\n",
       "       [6.03066341e+01, 1.64955582e-01],\n",
       "       [6.09099635e+01, 1.14453288e-01],\n",
       "       [6.18814923e+01, 4.17063468e-01],\n",
       "       [6.28674005e+01, 6.93212853e-01],\n",
       "       [6.41933343e+01, 8.06621270e-01],\n",
       "       [6.42384037e+01, 7.96697976e-01],\n",
       "       [6.51150709e+01, 6.38487154e-01],\n",
       "       [6.64382015e+01, 5.77144556e-01],\n",
       "       [6.76688924e+01, 3.04380517e-01],\n",
       "       [6.81939616e+01, 2.97940325e-01],\n",
       "       [6.93934038e+01, 2.28693571e-01],\n",
       "       [7.01798979e+01, 1.99585342e-01],\n",
       "       [7.10498947e+01, 2.26775496e-01],\n",
       "       [7.17393902e+01, 1.83593807e-01],\n",
       "       [7.17393902e+01, 1.83593807e-01],\n",
       "       [7.26188228e+01, 2.58475503e-01],\n",
       "       [7.36920777e+01, 2.88098586e-01],\n",
       "       [7.47288149e+01, 1.31268910e-01],\n",
       "       [7.55788006e+01, 2.51078149e-01],\n",
       "       [7.63586673e+01, 2.35795675e-01],\n",
       "       [7.73355409e+01, 4.49190470e-01],\n",
       "       [7.82523051e+01, 5.51473244e-01],\n",
       "       [7.87484682e+01, 5.21720954e-01],\n",
       "       [7.82733377e+01, 1.20172097e-01],\n",
       "       [7.80531833e+01, 3.41592673e-01],\n",
       "       [7.80391835e+01, 7.04107659e-01],\n",
       "       [7.75594009e+01, 6.93166657e-01],\n",
       "       [7.70884303e+01, 6.48650269e-01],\n",
       "       [7.70167552e+01, 4.75598898e-01],\n",
       "       [7.68828787e+01, 8.28927557e-01],\n",
       "       [7.66140465e+01, 6.89336358e-01],\n",
       "       [7.64576529e+01, 6.26007727e-01],\n",
       "       [7.65182406e+01, 7.94323521e-01],\n",
       "       [7.65182406e+01, 7.94323521e-01],\n",
       "       [7.66042275e+01, 9.14979065e-01],\n",
       "       [7.62829413e+01, 1.15947067e+00],\n",
       "       [7.55123684e+01, 1.56916105e+00],\n",
       "       [7.46271774e+01, 1.78760463e+00],\n",
       "       [7.42470414e+01, 1.75491841e+00],\n",
       "       [7.42657820e+01, 1.77882886e+00],\n",
       "       [7.41711958e+01, 1.19623084e+00],\n",
       "       [7.42514029e+01, 9.64917115e-01],\n",
       "       [7.39127468e+01, 1.32897398e+00],\n",
       "       [7.33498592e+01, 1.70369783e+00],\n",
       "       [7.27894067e+01, 1.78640172e+00],\n",
       "       [7.17702984e+01, 1.84510012e+00],\n",
       "       [7.08723058e+01, 1.96862124e+00],\n",
       "       [7.07362739e+01, 1.98791588e+00],\n",
       "       [6.98161878e+01, 2.08619634e+00],\n",
       "       [6.85623804e+01, 1.97199901e+00],\n",
       "       [6.72782440e+01, 2.30681074e+00],\n",
       "       [6.66544071e+01, 2.51831273e+00],\n",
       "       [6.51977635e+01, 2.81701302e+00],\n",
       "       [6.40495916e+01, 2.88176069e+00],\n",
       "       [6.33485742e+01, 2.85908588e+00],\n",
       "       [6.21809960e+01, 2.84661993e+00],\n",
       "       [6.11031389e+01, 2.87159826e+00],\n",
       "       [5.98488213e+01, 2.37783941e+00],\n",
       "       [5.96666982e+01, 2.00224163e+00],\n",
       "       [5.94553910e+01, 2.03759785e+00],\n",
       "       [5.91182461e+01, 2.40350088e+00],\n",
       "       [5.78713099e+01, 2.73896998e+00],\n",
       "       [5.72267968e+01, 2.87755341e+00],\n",
       "       [5.63543632e+01, 2.85313658e+00],\n",
       "       [5.59097697e+01, 2.86272533e+00],\n",
       "       [5.48455183e+01, 2.91948143e+00],\n",
       "       [5.39721165e+01, 2.86261743e+00],\n",
       "       [5.26947142e+01, 3.13426638e+00],\n",
       "       [5.19639484e+01, 2.62952107e+00],\n",
       "       [5.19603513e+01, 2.57909142e+00],\n",
       "       [5.11370458e+01, 2.66667015e+00],\n",
       "       [5.11182771e+01, 3.13640864e+00],\n",
       "       [5.07288288e+01, 2.99717919e+00],\n",
       "       [5.01504255e+01, 3.07507585e+00],\n",
       "       [4.96083357e+01, 3.00581126e+00],\n",
       "       [4.91281952e+01, 2.95946064e+00],\n",
       "       [4.94162566e+01, 2.86928856e+00],\n",
       "       [4.96585441e+01, 2.61224565e+00],\n",
       "       [4.98710497e+01, 2.12566878e+00],\n",
       "       [5.00988337e+01, 1.54045566e+00],\n",
       "       [5.07463150e+01, 9.97050917e-01],\n",
       "       [5.14455858e+01, 7.58958048e-01],\n",
       "       [5.24599155e+01, 6.79057296e-01],\n",
       "       [5.32313038e+01, 1.05997531e+00],\n",
       "       [5.28726918e+01, 6.25915733e-01],\n",
       "       [5.28726918e+01, 6.25915733e-01],\n",
       "       [5.31253466e+01, 2.29763270e-01],\n",
       "       [5.41346250e+01, 4.26465400e-01],\n",
       "       [5.52703962e+01, 3.40629318e-01],\n",
       "       [5.65151623e+01, 3.24760160e-01],\n",
       "       [5.65548846e+01, 3.21329367e-01],\n",
       "       [5.74525299e+01, 3.15866932e-01],\n",
       "       [5.85743472e+01, 3.09624690e-01],\n",
       "       [5.95651280e+01, 3.36887161e-01],\n",
       "       [5.95651280e+01, 3.36887161e-01],\n",
       "       [6.07987910e+01, 3.52706217e-01],\n",
       "       [6.16492678e+01, 3.76670399e-01],\n",
       "       [6.25533882e+01, 3.74670959e-01],\n",
       "       [6.35148693e+01, 3.87027104e-01],\n",
       "       [6.35148693e+01, 3.87027104e-01],\n",
       "       [6.43071026e+01, 3.29288660e-01],\n",
       "       [6.50376387e+01, 3.02686034e-01],\n",
       "       [6.55657218e+01, 2.58408279e-01],\n",
       "       [6.61868697e+01, 2.05212442e-01],\n",
       "       [6.70345229e+01, 2.85314826e-01],\n",
       "       [6.77770751e+01, 2.56828370e-01],\n",
       "       [6.86795981e+01, 2.57795021e-01],\n",
       "       [6.93615429e+01, 2.50137527e-01],\n",
       "       [6.99737846e+01, 7.78223841e-01],\n",
       "       [7.12656476e+01, 1.08767060e+00],\n",
       "       [7.17110173e+01, 1.21606735e+00],\n",
       "       [7.27095132e+01, 1.23353067e+00],\n",
       "       [7.40255700e+01, 9.12549484e-01],\n",
       "       [7.46948183e+01, 8.20706023e-01],\n",
       "       [7.52260170e+01, 1.54237827e+00],\n",
       "       [7.60054603e+01, 1.46751879e+00],\n",
       "       [7.62818028e+01, 1.49143894e+00],\n",
       "       [7.70321563e+01, 1.52736568e+00],\n",
       "       [7.78089825e+01, 1.50236820e+00],\n",
       "       [7.85945714e+01, 1.51114946e+00],\n",
       "       [7.89101899e+01, 8.57391590e-01],\n",
       "       [7.89101899e+01, 8.57391590e-01],\n",
       "       [7.99548811e+01, 6.86040684e-01],\n",
       "       [8.09714229e+01, 9.13544882e-01],\n",
       "       [8.20819485e+01, 8.36087491e-01],\n",
       "       [8.36131676e+01, 7.60563197e-01],\n",
       "       [8.46385061e+01, 7.21465457e-01],\n",
       "       [8.56882608e+01, 6.75996211e-01],\n",
       "       [8.65950771e+01, 3.75131671e-01],\n",
       "       [8.73510326e+01, 2.49102693e-01],\n",
       "       [8.75833202e+01, 2.40424534e-01],\n",
       "       [8.82070095e+01, 8.03066558e-02],\n",
       "       [8.88725745e+01, 1.63704509e-01],\n",
       "       [8.97887269e+01, 1.78545510e-01],\n",
       "       [9.09012117e+01, 3.06740089e-01],\n",
       "       [9.10687630e+01, 6.37161822e-01],\n",
       "       [9.17827972e+01, 1.16559278e-01],\n",
       "       [9.26528409e+01, 1.35250420e-01],\n",
       "       [9.34979859e+01, 3.26630391e-01],\n",
       "       [9.44271720e+01, 2.47234696e-01],\n",
       "       [9.48031615e+01, 4.05891444e-01],\n",
       "       [9.48501286e+01, 1.09712316e-01],\n",
       "       [9.48119164e+01, 3.96240418e-01],\n",
       "       [9.52484978e+01, 1.28946929e-01],\n",
       "       [9.60644433e+01, 6.13629405e-01],\n",
       "       [9.64864404e+01, 1.10705949e+00],\n",
       "       [9.63329177e+01, 7.18129758e-01],\n",
       "       [9.63385578e+01, 5.06527252e-01],\n",
       "       [9.68241315e+01, 2.23821164e-01],\n",
       "       [9.67869943e+01, 5.54780171e-01],\n",
       "       [9.67696688e+01, 6.11834836e-01],\n",
       "       [9.62915279e+01, 1.27744822e+00],\n",
       "       [9.59410062e+01, 1.71263505e+00],\n",
       "       [9.57971747e+01, 2.21243840e+00],\n",
       "       [9.55678687e+01, 2.62864976e+00],\n",
       "       [9.55678687e+01, 2.62864976e+00],\n",
       "       [9.49787083e+01, 2.70018199e+00],\n",
       "       [9.48424423e+01, 2.24674893e+00],\n",
       "       [9.49961795e+01, 1.86380191e+00],\n",
       "       [9.49279510e+01, 2.22616875e+00],\n",
       "       [9.48499317e+01, 2.48299343e+00],\n",
       "       [9.46679078e+01, 2.87567706e+00],\n",
       "       [9.41409608e+01, 2.71564361e+00],\n",
       "       [9.31194100e+01, 2.85417633e+00],\n",
       "       [9.17069853e+01, 2.63036407e+00],\n",
       "       [9.13783373e+01, 2.67335274e+00],\n",
       "       [9.07421421e+01, 2.96589180e+00],\n",
       "       [8.98552405e+01, 2.79300322e+00],\n",
       "       [8.85950365e+01, 2.70976814e+00],\n",
       "       [8.76877552e+01, 2.68346916e+00],\n",
       "       [8.68266960e+01, 2.61581848e+00],\n",
       "       [8.58572195e+01, 2.63645424e+00],\n",
       "       [8.56816268e+01, 2.70019997e+00],\n",
       "       [8.44378088e+01, 2.93461809e+00],\n",
       "       [8.35278276e+01, 3.02640969e+00],\n",
       "       [8.23805977e+01, 3.07028604e+00],\n",
       "       [8.22172940e+01, 3.07534626e+00],\n",
       "       [8.17407237e+01, 2.90785914e+00],\n",
       "       [8.11727914e+01, 2.83983443e+00],\n",
       "       [8.05995047e+01, 2.79594640e+00],\n",
       "       [8.02311307e+01, 2.77877670e+00],\n",
       "       [7.99148629e+01, 2.74049685e+00],\n",
       "       [7.99148629e+01, 2.74049685e+00],\n",
       "       [7.92352916e+01, 3.13275352e+00],\n",
       "       [7.84206328e+01, 3.00735709e+00],\n",
       "       [7.76361619e+01, 2.95217287e+00],\n",
       "       [7.69699362e+01, 2.97408735e+00],\n",
       "       [7.66385546e+01, 2.95622928e+00],\n",
       "       [7.58400979e+01, 2.94622975e+00],\n",
       "       [7.48512921e+01, 3.06860507e+00],\n",
       "       [7.48280571e+01, 2.81161380e+00],\n",
       "       [7.36297636e+01, 2.68793487e+00],\n",
       "       [7.32205660e+01, 3.00257073e+00],\n",
       "       [7.34088959e+01, 2.92875438e+00],\n",
       "       [7.34557412e+01, 2.56293893e+00],\n",
       "       [7.24583255e+01, 2.48146638e+00],\n",
       "       [7.09720635e+01, 2.47353535e+00],\n",
       "       [7.02261257e+01, 2.49799808e+00],\n",
       "       [6.91235618e+01, 2.51286430e+00],\n",
       "       [6.87431795e+01, 2.89392215e+00],\n",
       "       [6.78197909e+01, 2.88593222e+00],\n",
       "       [6.77818079e+01, 2.88179260e+00],\n",
       "       [6.70718624e+01, 2.75132136e+00],\n",
       "       [6.63515126e+01, 2.70356721e+00],\n",
       "       [6.56293128e+01, 2.91593381e+00],\n",
       "       [6.49750577e+01, 3.10446151e+00],\n",
       "       [6.49750577e+01, 3.10446151e+00],\n",
       "       [6.43667425e+01, 3.00855956e+00],\n",
       "       [6.37788635e+01, 2.99900113e+00],\n",
       "       [6.30763595e+01, 2.97331019e+00],\n",
       "       [6.25408312e+01, 2.98465514e+00],\n",
       "       [6.24200834e+01, 2.79323191e+00],\n",
       "       [6.24200834e+01, 2.79323191e+00],\n",
       "       [6.22916866e+01, 2.38884722e+00],\n",
       "       [6.21325413e+01, 1.99805269e+00],\n",
       "       [6.19622367e+01, 1.59699098e+00],\n",
       "       [6.15941715e+01, 1.81360261e+00],\n",
       "       [6.13467977e+01, 2.16719568e+00],\n",
       "       [6.10354827e+01, 2.53445906e+00],\n",
       "       [6.06645539e+01, 2.90372528e+00],\n",
       "       [6.04210093e+01, 2.99965906e+00],\n",
       "       [5.96495007e+01, 2.81430184e+00],\n",
       "       [5.87105977e+01, 2.71407202e+00],\n",
       "       [5.87105977e+01, 2.71407202e+00],\n",
       "       [5.79790039e+01, 2.68017239e+00],\n",
       "       [5.71314444e+01, 2.74958029e+00],\n",
       "       [5.64268446e+01, 2.73262455e+00],\n",
       "       [5.58842720e+01, 2.78969661e+00],\n",
       "       [5.56976443e+01, 2.86601822e+00],\n",
       "       [5.52904873e+01, 3.04418641e+00],\n",
       "       [5.52133813e+01, 3.06313120e+00],\n",
       "       [5.51091511e+01, 3.03072388e+00],\n",
       "       [5.51456563e+01, 2.97339276e+00],\n",
       "       [5.50385925e+01, 3.00917759e+00],\n",
       "       [5.48875500e+01, 3.04602475e+00],\n",
       "       [5.47928637e+01, 3.11036277e+00],\n",
       "       [5.44346176e+01, 3.00268473e+00],\n",
       "       [5.44346176e+01, 3.00268473e+00],\n",
       "       [5.41476394e+01, 2.94908622e+00],\n",
       "       [5.37646448e+01, 2.82129978e+00],\n",
       "       [5.32574157e+01, 2.71544966e+00],\n",
       "       [5.25832416e+01, 2.62128524e+00],\n",
       "       [5.25832416e+01, 2.62128524e+00],\n",
       "       [5.19650485e+01, 2.52983253e+00],\n",
       "       [5.14022837e+01, 2.51758620e+00],\n",
       "       [5.06477497e+01, 2.51890137e+00],\n",
       "       [5.02188890e+01, 2.44896271e+00],\n",
       "       [4.92900521e+01, 2.37476335e+00],\n",
       "       [4.86850992e+01, 2.65678372e+00],\n",
       "       [4.76081241e+01, 2.28465436e+00],\n",
       "       [4.71984802e+01, 2.27253969e+00],\n",
       "       [4.59739848e+01, 2.08072962e+00],\n",
       "       [4.49913989e+01, 1.89987643e+00],\n",
       "       [4.39061151e+01, 1.68069769e+00],\n",
       "       [4.30201150e+01, 1.49812417e+00],\n",
       "       [4.19976575e+01, 1.42854219e+00],\n",
       "       [4.09526713e+01, 1.49310683e+00],\n",
       "       [3.99212006e+01, 1.52529675e+00],\n",
       "       [3.99212006e+01, 1.52529675e+00],\n",
       "       [3.88443544e+01, 1.55022239e+00],\n",
       "       [3.73709785e+01, 1.92118631e+00],\n",
       "       [3.62489260e+01, 1.46009024e+00],\n",
       "       [3.58435711e+01, 1.48104590e+00],\n",
       "       [3.47726278e+01, 1.70542225e+00],\n",
       "       [3.37771430e+01, 1.64785853e+00],\n",
       "       [3.28204415e+01, 1.65341158e+00],\n",
       "       [3.27020148e+01, 1.65211431e+00],\n",
       "       [3.27097972e+01, 1.67571491e+00],\n",
       "       [3.27084751e+01, 1.67887389e+00],\n",
       "       [3.27104317e+01, 1.67493305e+00]])"
      ]
     },
     "execution_count": 97,
     "metadata": {},
     "output_type": "execute_result"
    }
   ],
   "source": [
    "test = np.column_stack((x_opt, x_opt_rot))"
   ]
  },
  {
   "cell_type": "code",
   "execution_count": 89,
   "metadata": {},
   "outputs": [
    {
     "data": {
      "application/vnd.jupyter.widget-view+json": {
       "model_id": "74d241bdd2d24985b2a9b4e65f68fa36",
       "version_major": 2,
       "version_minor": 0
      },
      "text/plain": [
       "Canvas(toolbar=Toolbar(toolitems=[('Home', 'Reset original view', 'home', 'home'), ('Back', 'Back to  previous…"
      ]
     },
     "metadata": {},
     "output_type": "display_data"
    }
   ],
   "source": [
    "W_opt = global_graph_eval.compute_wavelet_coeffs(x_opt_rot)\n",
    "W_est = robot_graph_eval.compute_wavelet_coeffs(x_est_rot)\n",
    "\n",
    "fig, ax = plt.subplots(1, 5)\n",
    "plt.subplot(1, 5, 1)\n",
    "global_energy = np.abs(np.array(W_opt))\n",
    "robot_energy = np.abs(np.array(W_est))\n",
    "\n",
    "plt.imshow(global_energy)\n",
    "plt.subplot(1, 5, 2)\n",
    "plt.imshow(robot_energy)\n",
    "\n",
    "difference_low = np.linalg.norm(global_energy[:,0:2] - robot_energy[:,0:2], axis=1)\n",
    "difference_low = np.reshape(difference_low, (-1,1))\n",
    "# difference_low = difference_low / np.max(difference_low)\n",
    "plt.subplot(1, 5, 3)\n",
    "diff_plot = plt.imshow(np.reshape(np.repeat(difference_low, 50, axis=0), (-1,50)))\n",
    "plt.colorbar(diff_plot)\n",
    "\n",
    "difference_mid = np.linalg.norm(global_energy[:,2:5] - robot_energy[:,2:5], axis=1)\n",
    "difference_mid = np.reshape(difference_mid, (-1,1))\n",
    "# difference_mid = difference_mid / np.max(difference_mid)\n",
    "plt.subplot(1, 5, 4)\n",
    "diff_plot2 = plt.imshow(np.reshape(np.repeat(difference_mid, 50, axis=0), (-1,50)))\n",
    "plt.colorbar(diff_plot2)\n",
    "\n",
    "difference_high = np.linalg.norm(global_energy[:,5:8] - robot_energy[:,5:8], axis=1)\n",
    "# difference_high = difference_high / np.max(difference_high)\n",
    "difference_high = np.reshape(difference_high, (-1,1))\n",
    "plt.subplot(1, 5, 5)\n",
    "diff_plot3 = plt.imshow(np.reshape(np.repeat(difference_high, 50, axis=0), (-1,50)))\n",
    "plt.colorbar(diff_plot3)\n",
    "fig.tight_layout()"
   ]
  },
  {
   "cell_type": "code",
   "execution_count": 90,
   "metadata": {},
   "outputs": [
    {
     "data": {
      "application/vnd.jupyter.widget-view+json": {
       "model_id": "4d1f4825d72144259b6761332cdebdb2",
       "version_major": 2,
       "version_minor": 0
      },
      "text/plain": [
       "Canvas(toolbar=Toolbar(toolitems=[('Home', 'Reset original view', 'home', 'home'), ('Back', 'Back to  previous…"
      ]
     },
     "metadata": {},
     "output_type": "display_data"
    },
    {
     "data": {
      "application/vnd.jupyter.widget-view+json": {
       "model_id": "3baf8e08979847aaa70a5b1c01dd3be3",
       "version_major": 2,
       "version_minor": 0
      },
      "text/plain": [
       "Canvas(toolbar=Toolbar(toolitems=[('Home', 'Reset original view', 'home', 'home'), ('Back', 'Back to  previous…"
      ]
     },
     "metadata": {},
     "output_type": "display_data"
    },
    {
     "data": {
      "application/vnd.jupyter.widget-view+json": {
       "model_id": "59ca55c966f14603b824d37a00984be5",
       "version_major": 2,
       "version_minor": 0
      },
      "text/plain": [
       "Canvas(toolbar=Toolbar(toolitems=[('Home', 'Reset original view', 'home', 'home'), ('Back', 'Back to  previous…"
      ]
     },
     "metadata": {},
     "output_type": "display_data"
    }
   ],
   "source": [
    "top_n = 20\n",
    "\n",
    "ind = np.unravel_index(np.argsort(difference_low, axis=None), difference_low.shape)\n",
    "peaks = ind[0][-top_n:][::-1]\n",
    "_ = global_graph_per_dataset[0].G.plot(title=f'Top {top_n} low difference', highlight=peaks)\n",
    "\n",
    "ind = np.unravel_index(np.argsort(difference_mid, axis=None), difference_mid.shape)\n",
    "peaks = ind[0][-top_n:][::-1]\n",
    "_ = global_graph_per_dataset[0].G.plot(title=f'Top {top_n} mid difference', highlight=peaks)\n",
    "\n",
    "ind = np.unravel_index(np.argsort(difference_high, axis=None), difference_high.shape)\n",
    "peaks = ind[0][-top_n:][::-1]\n",
    "_ = global_graph_per_dataset[0].G.plot(title=f'Top {top_n} high difference', highlight=peaks)"
   ]
  }
 ],
 "metadata": {
  "kernelspec": {
   "display_name": "Python 3",
   "language": "python",
   "name": "python3"
  },
  "language_info": {
   "codemirror_mode": {
    "name": "ipython",
    "version": 3
   },
   "file_extension": ".py",
   "mimetype": "text/x-python",
   "name": "python",
   "nbconvert_exporter": "python",
   "pygments_lexer": "ipython3",
   "version": "3.6.9"
  }
 },
 "nbformat": 4,
 "nbformat_minor": 4
}
