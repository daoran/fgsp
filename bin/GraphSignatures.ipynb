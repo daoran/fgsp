{
 "cells": [
  {
   "cell_type": "markdown",
   "metadata": {},
   "source": [
    "## Compare Graph Signatures"
   ]
  },
  {
   "cell_type": "code",
   "execution_count": 1,
   "metadata": {},
   "outputs": [
    {
     "name": "stdout",
     "output_type": "stream",
     "text": [
      "\n",
      "\n",
      "Loading....\n",
      "Loading data from /mnt/data/datasets/fgsp/test2/\n",
      "=======================================\n"
     ]
    }
   ],
   "source": [
    "%matplotlib widget\n",
    "\n",
    "import numpy as np\n",
    "import matplotlib.pyplot as plt\n",
    "from mpl_toolkits.mplot3d import axes3d \n",
    "\n",
    "from pygsp import graphs, filters, plotting, reduction\n",
    "import os.path\n",
    "from global_graph import GlobalGraph\n",
    "from wavelet_evaluator import WaveletEvaluator\n",
    "\n",
    "\n",
    "%load_ext autoreload\n",
    "%autoreload 2\n",
    "\n",
    "plotting.BACKEND = 'matplotlib'\n",
    "plt.rcParams['figure.figsize'] = (10, 5)\n",
    "\n",
    "print(f'\\n\\nLoading....')\n",
    "\n",
    "dataroot = '/mnt/data/datasets/fgsp/'\n",
    "datasets = ['test2/']\n",
    "\n",
    "n_datasets = len(datasets)\n",
    "opt_signals = []\n",
    "est_signals = []\n",
    "opt_trajectory = []\n",
    "est_trajectory = []\n",
    "est_raw_trajectory = []\n",
    "opt_graph_coords = []\n",
    "opt_graph_adj = []\n",
    "for ds in datasets:\n",
    "    ds_path = dataroot + ds\n",
    "    print(f'Loading data from {ds_path}')\n",
    "    opt_signal_path = ds_path + 'opt_signal.npy'\n",
    "    opt_traj_path = ds_path + 'opt_trajectory.npy'\n",
    "    est_signal_path = ds_path + 'est_signal.npy'\n",
    "    est_traj_path = ds_path + 'est_trajectory.npy'  \n",
    "    est_raw_traj_path = ds_path + 'est_raw_trajectory.npy'  \n",
    "    opt_graph_coords_path = ds_path + 'opt_graph_coords.npy'\n",
    "    opt_graph_adj_path = ds_path + 'opt_graph_adj.npy'\n",
    " \n",
    "    if os.path.isfile(opt_signal_path) and os.path.isfile(est_signal_path):\n",
    "        opt_signals.append(np.load(opt_signal_path))\n",
    "        est_signals.append(np.load(est_signal_path))\n",
    "    else:\n",
    "        print(f'Signal files are not available:')\n",
    "        print(f'Opt file: {opt_signal_path}')\n",
    "        print(f'Est file: {est_signal_path}')\n",
    "        \n",
    "    if os.path.isfile(opt_traj_path) and os.path.isfile(est_traj_path) and os.path.isfile(est_raw_traj_path):\n",
    "        opt_trajectory.append(np.load(opt_traj_path))\n",
    "        est_trajectory.append(np.load(est_traj_path))\n",
    "        est_raw_trajectory.append(np.load(est_raw_traj_path))\n",
    "    else:\n",
    "        print(f'Trajectory files are not available.')\n",
    "        print(f'Opt file: {opt_traj_path}')\n",
    "        print(f'Est file: {est_traj_path}')\n",
    "        print(f'Est raw file: {est_raw_traj_path}')\n",
    "    \n",
    "    if os.path.isfile(opt_graph_coords_path) and os.path.isfile(opt_graph_adj_path):\n",
    "        opt_graph_coords.append(np.load(opt_graph_coords_path))\n",
    "        opt_graph_adj.append(np.load(opt_graph_adj_path))\n",
    "    else:\n",
    "        print(f'Graph files are not available.')\n",
    "        print(f'Coords file: {opt_graph_coords_path}')\n",
    "        print(f'Adj file: {opt_graph_adj_path}')\n",
    "    \n",
    "print(f'=======================================')"
   ]
  },
  {
   "cell_type": "code",
   "execution_count": 36,
   "metadata": {},
   "outputs": [
    {
     "name": "stdout",
     "output_type": "stream",
     "text": [
      "Built 1 global and robot graphs.\n"
     ]
    },
    {
     "name": "stderr",
     "output_type": "stream",
     "text": [
      "/usr/local/lib/python3.6/dist-packages/matplotlib/pyplot.py:522: RuntimeWarning: More than 20 figures have been opened. Figures created through the pyplot interface (`matplotlib.pyplot.figure`) are retained until explicitly closed and may consume too much memory. (To control this warning, see the rcParam `figure.max_open_warning`).\n",
      "  max_open_warning, RuntimeWarning)\n",
      "/usr/local/lib/python3.6/dist-packages/matplotlib/__init__.py:941: MatplotlibDeprecationWarning: nbagg.transparent is deprecated and ignored. Use figure.facecolor instead.\n",
      "  mplDeprecation)\n"
     ]
    },
    {
     "data": {
      "application/vnd.jupyter.widget-view+json": {
       "model_id": "157f189423d44b13bef11cc60d3ee02d",
       "version_major": 2,
       "version_minor": 0
      },
      "text/plain": [
       "Canvas(toolbar=Toolbar(toolitems=[('Home', 'Reset original view', 'home', 'home'), ('Back', 'Back to  previous…"
      ]
     },
     "metadata": {},
     "output_type": "display_data"
    },
    {
     "data": {
      "application/vnd.jupyter.widget-view+json": {
       "model_id": "e071caac812042a0852a199e24f486ec",
       "version_major": 2,
       "version_minor": 0
      },
      "text/plain": [
       "Canvas(toolbar=Toolbar(toolitems=[('Home', 'Reset original view', 'home', 'home'), ('Back', 'Back to  previous…"
      ]
     },
     "metadata": {},
     "output_type": "display_data"
    },
    {
     "data": {
      "text/plain": [
       "(<Figure size 1000x500 with 1 Axes>,\n",
       " <matplotlib.axes._subplots.AxesSubplot at 0x7f33d3a9ee48>)"
      ]
     },
     "execution_count": 36,
     "metadata": {},
     "output_type": "execute_result"
    }
   ],
   "source": [
    "global_graph_per_dataset = []\n",
    "robot_graph_per_dataset = []\n",
    "\n",
    "for i in range(0, n_datasets):\n",
    "    global_graph = GlobalGraph()\n",
    "    global_graph.build_graph_from_coords_and_adj(opt_graph_coords[i], opt_graph_adj[i])    \n",
    "    global_graph_per_dataset.append(global_graph)\n",
    "    \n",
    "    robot_graph = GlobalGraph()        \n",
    "    robot_graph.build_from_poses(est_trajectory[i][:,1:4])    \n",
    "    robot_graph_per_dataset.append(robot_graph)\n",
    "\n",
    "n_graphs = len(global_graph_per_dataset)\n",
    "assert n_graphs  == len(robot_graph_per_dataset)\n",
    "print(f'Built {n_graphs} global and robot graphs.')\n",
    "\n",
    "global_graph_per_dataset[0].G.plot()\n",
    "robot_graph_per_dataset[0].G.plot()"
   ]
  },
  {
   "cell_type": "code",
   "execution_count": 15,
   "metadata": {},
   "outputs": [
    {
     "name": "stdout",
     "output_type": "stream",
     "text": [
      "Global graph[0] opt dirichlet energy is 4114.66470153841\n",
      "Global graph[0] est dirichlet energy is 4303.282093437623\n",
      "diff is -188.61739189921354\n"
     ]
    }
   ],
   "source": [
    "i = 0\n",
    "opt_origin = opt_trajectory[i][0,1:4]\n",
    "est_origin = est_trajectory[i][0,1:4]\n",
    "\n",
    "opt_pos_signal = (opt_trajectory[i][:,1:4] - opt_origin).squeeze()\n",
    "est_pos_signal = (est_trajectory[i][:,1:4] - est_origin).squeeze()\n",
    "\n",
    "x_opt = np.linalg.norm(opt_pos_signal, ord=2, axis=1)\n",
    "x_est = np.linalg.norm(est_pos_signal, ord=2, axis=1)\n",
    "\n",
    "print(f'Global graph[{i}] opt dirichlet energy is {global_graph_per_dataset[0].G.dirichlet_energy(x_opt)}')\n",
    "print(f'Global graph[{i}] est dirichlet energy is {global_graph_per_dataset[0].G.dirichlet_energy(x_est)}')\n",
    "print(f'diff is {global_graph_per_dataset[0].G.dirichlet_energy(x_opt) - global_graph_per_dataset[0].G.dirichlet_energy(x_est)}')"
   ]
  },
  {
   "cell_type": "code",
   "execution_count": 4,
   "metadata": {},
   "outputs": [
    {
     "data": {
      "application/vnd.jupyter.widget-view+json": {
       "model_id": "515e90c22326428d8760e84e4b9fd180",
       "version_major": 2,
       "version_minor": 0
      },
      "text/plain": [
       "Canvas(toolbar=Toolbar(toolitems=[('Home', 'Reset original view', 'home', 'home'), ('Back', 'Back to  previous…"
      ]
     },
     "metadata": {},
     "output_type": "display_data"
    }
   ],
   "source": [
    "fig, ax = plt.subplots(1, 2)\n",
    "plt.subplot(1, 2, 1)\n",
    "global_adj_plot = plt.imshow(global_graph_per_dataset[0].G.W.toarray())\n",
    "plt.subplot(1, 2, 2)\n",
    "robot_adj_plot = plt.imshow(robot_graph_per_dataset[0].G.W.toarray())"
   ]
  },
  {
   "cell_type": "code",
   "execution_count": 30,
   "metadata": {},
   "outputs": [],
   "source": [
    "i = 0\n",
    "global_graph_eval = WaveletEvaluator(7)\n",
    "robot_graph_eval = WaveletEvaluator(7)\n",
    "global_graph_eval.compute_wavelets(global_graph_per_dataset[i].G)\n",
    "robot_graph_eval.compute_wavelets(robot_graph_per_dataset[i].G)\n",
    "\n",
    "x_opt = opt_signals[i]\n",
    "x_est = est_signals[i]\n",
    "global_psi = global_graph_eval.get_wavelets()\n",
    "robot_psi = robot_graph_eval.get_wavelets()\n",
    "W_opt = global_graph_eval.compute_wavelet_coeffs(x_opt)\n",
    "W_est = robot_graph_eval.compute_wavelet_coeffs(x_est)\n",
    "assert W_opt.shape[0] == W_est.shape[0]\n",
    "assert W_opt.shape[1] == W_est.shape[1]"
   ]
  },
  {
   "cell_type": "code",
   "execution_count": 11,
   "metadata": {},
   "outputs": [],
   "source": [
    "steps = [x*20 for x in range(50)]\n",
    "n_nodes = W_opt.shape[0]\n",
    "\n",
    "global_data = []\n",
    "robot_data = []\n",
    "for i in range(0, n_nodes):    \n",
    "    global_wavelet_coefficients = [np.mean(np.exp(W_opt[i,:]*1.0*step*1j)) for step in steps]\n",
    "    robot_wavelet_coefficients = [np.mean(np.exp(W_est[i,:]*1.0*step*1j)) for step in steps]\n",
    "    global_data.append(global_wavelet_coefficients)\n",
    "    robot_data.append(robot_wavelet_coefficients)"
   ]
  },
  {
   "cell_type": "code",
   "execution_count": 31,
   "metadata": {},
   "outputs": [
    {
     "data": {
      "application/vnd.jupyter.widget-view+json": {
       "model_id": "aea204037c6a468ea0eb52f7f4efac72",
       "version_major": 2,
       "version_minor": 0
      },
      "text/plain": [
       "Canvas(toolbar=Toolbar(toolitems=[('Home', 'Reset original view', 'home', 'home'), ('Back', 'Back to  previous…"
      ]
     },
     "metadata": {},
     "output_type": "display_data"
    }
   ],
   "source": [
    "fig, ax = plt.subplots(1, 5)\n",
    "plt.subplot(1, 5, 1)\n",
    "# global_energy = np.abs(np.array(global_data))\n",
    "# robot_energy = np.abs(np.array(robot_data))\n",
    "\n",
    "global_energy = np.abs(np.array(W_opt))\n",
    "robot_energy = np.abs(np.array(W_est))\n",
    "\n",
    "plt.imshow(global_energy)\n",
    "plt.subplot(1, 5, 2)\n",
    "plt.imshow(robot_energy)\n",
    "\n",
    "difference_low = np.linalg.norm(global_energy[:,0:2] - robot_energy[:,0:2], axis=1)\n",
    "difference_low = np.reshape(difference_low, (-1,1))\n",
    "# difference_low = difference_low / np.max(difference_low)\n",
    "plt.subplot(1, 5, 3)\n",
    "diff_plot = plt.imshow(np.reshape(np.repeat(difference_low, 50, axis=0), (-1,50)))\n",
    "plt.colorbar(diff_plot)\n",
    "\n",
    "difference_mid = np.linalg.norm(global_energy[:,2:5] - robot_energy[:,2:5], axis=1)\n",
    "difference_mid = np.reshape(difference_mid, (-1,1))\n",
    "# difference_mid = difference_mid / np.max(difference_mid)\n",
    "plt.subplot(1, 5, 4)\n",
    "diff_plot2 = plt.imshow(np.reshape(np.repeat(difference_mid, 50, axis=0), (-1,50)))\n",
    "plt.colorbar(diff_plot2)\n",
    "\n",
    "difference_high = np.linalg.norm(global_energy[:,5:8] - robot_energy[:,5:8], axis=1)\n",
    "# difference_high = difference_high / np.max(difference_high)\n",
    "difference_high = np.reshape(difference_high, (-1,1))\n",
    "plt.subplot(1, 5, 5)\n",
    "diff_plot3 = plt.imshow(np.reshape(np.repeat(difference_high, 50, axis=0), (-1,50)))\n",
    "plt.colorbar(diff_plot3)\n",
    "fig.tight_layout()"
   ]
  },
  {
   "cell_type": "code",
   "execution_count": 34,
   "metadata": {},
   "outputs": [
    {
     "data": {
      "application/vnd.jupyter.widget-view+json": {
       "model_id": "2d90c40e315341ceb31d080c717f6ebc",
       "version_major": 2,
       "version_minor": 0
      },
      "text/plain": [
       "Canvas(toolbar=Toolbar(toolitems=[('Home', 'Reset original view', 'home', 'home'), ('Back', 'Back to  previous…"
      ]
     },
     "metadata": {},
     "output_type": "display_data"
    }
   ],
   "source": [
    "fig, axes = plt.subplots(7, 1, figsize=(8, 8))\n",
    "#fig.subplots_adjust(hspace=0.5)\n",
    "\n",
    "for i in range(0, 7):\n",
    "    axes[i].plot(W_opt[:,i], label='Optimized')\n",
    "    axes[i].plot(W_est[:,i], label='Estimated')    \n",
    "    axes[i].legend()\n",
    "plt.tight_layout()"
   ]
  },
  {
   "cell_type": "code",
   "execution_count": 35,
   "metadata": {},
   "outputs": [
    {
     "data": {
      "application/vnd.jupyter.widget-view+json": {
       "model_id": "d2db6c9e50ff4d538c1f173a03535ef1",
       "version_major": 2,
       "version_minor": 0
      },
      "text/plain": [
       "Canvas(toolbar=Toolbar(toolitems=[('Home', 'Reset original view', 'home', 'home'), ('Back', 'Back to  previous…"
      ]
     },
     "metadata": {},
     "output_type": "display_data"
    },
    {
     "data": {
      "application/vnd.jupyter.widget-view+json": {
       "model_id": "bd1e7ca5364742efa4db2282068ce317",
       "version_major": 2,
       "version_minor": 0
      },
      "text/plain": [
       "Canvas(toolbar=Toolbar(toolitems=[('Home', 'Reset original view', 'home', 'home'), ('Back', 'Back to  previous…"
      ]
     },
     "metadata": {},
     "output_type": "display_data"
    },
    {
     "data": {
      "application/vnd.jupyter.widget-view+json": {
       "model_id": "2e6b14d4d0464f3ab8fd1621391c59be",
       "version_major": 2,
       "version_minor": 0
      },
      "text/plain": [
       "Canvas(toolbar=Toolbar(toolitems=[('Home', 'Reset original view', 'home', 'home'), ('Back', 'Back to  previous…"
      ]
     },
     "metadata": {},
     "output_type": "display_data"
    }
   ],
   "source": [
    "top_n = 20\n",
    "\n",
    "ind = np.unravel_index(np.argsort(difference_low, axis=None), difference_low.shape)\n",
    "peaks = ind[0][-top_n:][::-1]\n",
    "_ = global_graph_per_dataset[0].G.plot(title=f'Top {top_n} low difference', highlight=peaks)\n",
    "\n",
    "ind = np.unravel_index(np.argsort(difference_mid, axis=None), difference_mid.shape)\n",
    "peaks = ind[0][-top_n:][::-1]\n",
    "_ = global_graph_per_dataset[0].G.plot(title=f'Top {top_n} mid difference', highlight=peaks)\n",
    "\n",
    "ind = np.unravel_index(np.argsort(difference_high, axis=None), difference_high.shape)\n",
    "peaks = ind[0][-top_n:][::-1]\n",
    "_ = global_graph_per_dataset[0].G.plot(title=f'Top {top_n} high difference', highlight=peaks)"
   ]
  },
  {
   "cell_type": "markdown",
   "metadata": {},
   "source": [
    "## Baseline Solution (Simple distance-based)"
   ]
  },
  {
   "cell_type": "code",
   "execution_count": 38,
   "metadata": {},
   "outputs": [
    {
     "name": "stdout",
     "output_type": "stream",
     "text": [
      "Synced signal shapes are (386, 8) and (386, 8)\n"
     ]
    },
    {
     "data": {
      "application/vnd.jupyter.widget-view+json": {
       "model_id": "b4487796d2b24597a46a5e1b3d3051b9",
       "version_major": 2,
       "version_minor": 0
      },
      "text/plain": [
       "Canvas(toolbar=Toolbar(toolitems=[('Home', 'Reset original view', 'home', 'home'), ('Back', 'Back to  previous…"
      ]
     },
     "metadata": {},
     "output_type": "display_data"
    }
   ],
   "source": [
    "def compare_trajectories(est_traj, opt_traj):    \n",
    "    fig = plt.figure(figsize=(8,8))\n",
    "    ax = fig.add_subplot(111, projection='3d')\n",
    "    \n",
    "    ax.scatter(est_traj[:,1], est_traj[:,2], est_traj[:,3], label='Estimated Trajectory')\n",
    "    ax.scatter(opt_traj[:,1], opt_traj[:,2], opt_traj[:,3], label='Optimized Trajectory')\n",
    "    plt.legend()\n",
    "    plt.show()\n",
    "    \n",
    "i = 0\n",
    "print(f'Synced signal shapes are {est_trajectory[i].shape} and {opt_trajectory[i].shape}')\n",
    "compare_trajectories(est_trajectory[i], opt_trajectory[i])"
   ]
  },
  {
   "cell_type": "code",
   "execution_count": 37,
   "metadata": {},
   "outputs": [
    {
     "data": {
      "application/vnd.jupyter.widget-view+json": {
       "model_id": "bdfe06dd4d354597af80ac59111b8fb5",
       "version_major": 2,
       "version_minor": 0
      },
      "text/plain": [
       "Canvas(toolbar=Toolbar(toolitems=[('Home', 'Reset original view', 'home', 'home'), ('Back', 'Back to  previous…"
      ]
     },
     "metadata": {},
     "output_type": "display_data"
    }
   ],
   "source": [
    "top_n = 20\n",
    "diff_simple = np.linalg.norm(est_trajectory[i][:,1:4] - opt_trajectory[i][:,1:4], axis=1)\n",
    "ind = np.unravel_index(np.argsort(diff_simple, axis=None), diff_simple.shape)\n",
    "peaks = ind[0][-top_n:][::-1]\n",
    "_ = global_graph_per_dataset[0].G.plot(title='Top 20 difference L2', highlight=peaks)"
   ]
  },
  {
   "cell_type": "code",
   "execution_count": null,
   "metadata": {},
   "outputs": [],
   "source": []
  }
 ],
 "metadata": {
  "kernelspec": {
   "display_name": "Python 3",
   "language": "python",
   "name": "python3"
  },
  "language_info": {
   "codemirror_mode": {
    "name": "ipython",
    "version": 3
   },
   "file_extension": ".py",
   "mimetype": "text/x-python",
   "name": "python",
   "nbconvert_exporter": "python",
   "pygments_lexer": "ipython3",
   "version": "3.6.9"
  }
 },
 "nbformat": 4,
 "nbformat_minor": 4
}
