{
 "cells": [
  {
   "cell_type": "markdown",
   "metadata": {},
   "source": [
    "## Lie Algebra Test"
   ]
  },
  {
   "cell_type": "code",
   "execution_count": 68,
   "metadata": {},
   "outputs": [],
   "source": [
    "from liegroups import SO3,SE3\n",
    "import numpy as np"
   ]
  },
  {
   "cell_type": "markdown",
   "metadata": {},
   "source": [
    "$$\n",
    "SE(3) = \\left\\{ \\mathbf{T}=\n",
    "                \\begin{bmatrix}\n",
    "                    \\mathbf{R} & \\mathbf{t} \\\\\n",
    "                    \\mathbf{0}^T & 1\n",
    "                \\end{bmatrix} \\in \\mathbb{R}^{4 \\times 4} ~\\middle|~ \\mathbf{R} \\in SO(3), \\mathbf{t} \\in \\mathbb{R}^3 \\right\\}\\\\\n",
    "\\mathfrak{se}(3) = \\left\\{ \\boldsymbol{\\Xi} =\n",
    "        \\boldsymbol{\\xi}^\\wedge \\in \\mathbb{R}^{4 \\times 4} ~\\middle|~\n",
    "         \\boldsymbol{\\xi}=\n",
    "            \\begin{bmatrix}\n",
    "                \\boldsymbol{\\rho} \\\\ \\boldsymbol{\\phi}\n",
    "            \\end{bmatrix} \\in \\mathbb{R}^6, \\boldsymbol{\\rho} \\in \\mathbb{R}^3, \\boldsymbol{\\phi} \\in \\mathbb{R}^3 \\right\\}\n",
    "$$"
   ]
  },
  {
   "cell_type": "code",
   "execution_count": 88,
   "metadata": {},
   "outputs": [
    {
     "name": "stdout",
     "output_type": "stream",
     "text": [
      "T=[[ 1.          0.          0.          1.        ]\n",
      " [ 0.          0.99500417 -0.09983342  2.        ]\n",
      " [ 0.          0.09983342  0.99500417  3.        ]\n",
      " [ 0.          0.          0.          1.        ]]\n",
      "--------------\n",
      "T2=[[ 1.          0.          0.          5.        ]\n",
      " [ 0.          0.87758256 -0.47942554  2.        ]\n",
      " [ 0.          0.47942554  0.87758256  1.        ]\n",
      " [ 0.          0.          0.          1.        ]]\n",
      "pose1 is <liegroups.numpy.se3.SE3Matrix>\n",
      "| [[ 1.          0.          0.          1.        ]\n",
      "|  [ 0.          0.99500417 -0.09983342  2.        ]\n",
      "|  [ 0.          0.09983342  0.99500417  3.        ]\n",
      "|  [ 0.          0.          0.          1.        ]]\n"
     ]
    }
   ],
   "source": [
    "R = SO3.rotx(0.1)\n",
    "T = np.eye(4,4)\n",
    "T[0:3,3] = np.array([1,2,3])\n",
    "T[0:3,0:3] = R.as_matrix()\n",
    "print(f\"T={T}\")\n",
    "\n",
    "print(\"--------------\")\n",
    "\n",
    "R2 = SO3.rotx(0.5)\n",
    "T2 = np.eye(4,4)\n",
    "T2[0:3,3] = np.array([5,2,1])\n",
    "T2[0:3,0:3] = R2.as_matrix()\n",
    "print(f\"T2={T2}\")\n",
    "\n",
    "pose1 = SE3.from_matrix(T)\n",
    "pose2 = SE3.from_matrix(T2)\n",
    "\n",
    "print(f'pose1 is {pose1}')"
   ]
  },
  {
   "cell_type": "code",
   "execution_count": 89,
   "metadata": {},
   "outputs": [
    {
     "name": "stdout",
     "output_type": "stream",
     "text": [
      "Distance is 7.2148293621016615\n"
     ]
    }
   ],
   "source": [
    "Xi_12 = (pose1.inv().dot(pose2)).log()\n",
    "W = np.eye(4,4)\n",
    "W[0,0] = 100\n",
    "W[1,1] = 100\n",
    "W[2,2] = 100\n",
    "W[3,3] = 1\n",
    "\n",
    "inner = np.trace(np.matmul(np.matmul(SE3.wedge(Xi_12),W),SE3.wedge(Xi_12).transpose()))\n",
    "print(f'Distance is {np.sqrt(inner)}')"
   ]
  },
  {
   "cell_type": "code",
   "execution_count": 67,
   "metadata": {},
   "outputs": [
    {
     "name": "stdout",
     "output_type": "stream",
     "text": [
      "Distance is 2.8284271247461903\n"
     ]
    }
   ],
   "source": [
    "inner = np.matmul(Xi_12.transpose(),Xi_12)\n",
    "print(f'Distance is {np.sqrt(inner)}')"
   ]
  },
  {
   "cell_type": "code",
   "execution_count": 65,
   "metadata": {},
   "outputs": [
    {
     "data": {
      "text/plain": [
       "array([[ 1.,  0.,  0.,  0.,  2.,  0.],\n",
       "       [ 0.,  1.,  0., -2.,  0., -2.],\n",
       "       [ 0.,  0.,  1.,  0.,  2.,  0.],\n",
       "       [ 0.,  0.,  0.,  1.,  0.,  0.],\n",
       "       [ 0.,  0.,  0.,  0.,  1.,  0.],\n",
       "       [ 0.,  0.,  0.,  0.,  0.,  1.]])"
      ]
     },
     "execution_count": 65,
     "metadata": {},
     "output_type": "execute_result"
    }
   ],
   "source": [
    "(np.matmul(pose1.inv().adjoint(), pose2.adjoint(x))"
   ]
  },
  {
   "cell_type": "code",
   "execution_count": 70,
   "metadata": {},
   "outputs": [
    {
     "data": {
      "text/plain": [
       "<liegroups.numpy.so3.SO3Matrix>\n",
       "| [[ 1.          0.          0.        ]\n",
       "|  [ 0.          0.99500417 -0.09983342]\n",
       "|  [ 0.          0.09983342  0.99500417]]"
      ]
     },
     "execution_count": 70,
     "metadata": {},
     "output_type": "execute_result"
    }
   ],
   "source": [
    "R"
   ]
  },
  {
   "cell_type": "code",
   "execution_count": 71,
   "metadata": {},
   "outputs": [
    {
     "data": {
      "text/plain": [
       "array([[ 1.        ,  0.        ,  0.        ],\n",
       "       [ 0.        ,  0.99500417, -0.09983342],\n",
       "       [ 0.        ,  0.09983342,  0.99500417]])"
      ]
     },
     "execution_count": 71,
     "metadata": {},
     "output_type": "execute_result"
    }
   ],
   "source": []
  }
 ],
 "metadata": {
  "kernelspec": {
   "display_name": "Python 3",
   "language": "python",
   "name": "python3"
  },
  "language_info": {
   "codemirror_mode": {
    "name": "ipython",
    "version": 3
   },
   "file_extension": ".py",
   "mimetype": "text/x-python",
   "name": "python",
   "nbconvert_exporter": "python",
   "pygments_lexer": "ipython3",
   "version": "3.6.9"
  }
 },
 "nbformat": 4,
 "nbformat_minor": 4
}
