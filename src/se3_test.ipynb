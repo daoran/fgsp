{
 "cells": [
  {
   "cell_type": "markdown",
   "metadata": {},
   "source": [
    "## Lie Algebra Test"
   ]
  },
  {
   "cell_type": "code",
   "execution_count": 19,
   "metadata": {},
   "outputs": [],
   "source": [
    "from liegroups import SO3,SE3\n",
    "import numpy as np\n",
    "import matplotlib.pyplot as plt"
   ]
  },
  {
   "cell_type": "markdown",
   "metadata": {},
   "source": [
    "$$\n",
    "SE(3) = \\left\\{ \\mathbf{T}=\n",
    "                \\begin{bmatrix}\n",
    "                    \\mathbf{R} & \\mathbf{t} \\\\\n",
    "                    \\mathbf{0}^T & 1\n",
    "                \\end{bmatrix} \\in \\mathbb{R}^{4 \\times 4} ~\\middle|~ \\mathbf{R} \\in SO(3), \\mathbf{t} \\in \\mathbb{R}^3 \\right\\}\\\\\n",
    "\\mathfrak{se}(3) = \\left\\{ \\boldsymbol{\\Xi} =\n",
    "        \\boldsymbol{\\xi}^\\wedge \\in \\mathbb{R}^{4 \\times 4} ~\\middle|~\n",
    "         \\boldsymbol{\\xi}=\n",
    "            \\begin{bmatrix}\n",
    "                \\boldsymbol{\\rho} \\\\ \\boldsymbol{\\phi}\n",
    "            \\end{bmatrix} \\in \\mathbb{R}^6, \\boldsymbol{\\rho} \\in \\mathbb{R}^3, \\boldsymbol{\\phi} \\in \\mathbb{R}^3 \\right\\}\n",
    "$$"
   ]
  },
  {
   "cell_type": "code",
   "execution_count": 7,
   "metadata": {},
   "outputs": [],
   "source": [
    "def create_SE3_pose(trans, rot_angle_x):\n",
    "    R = SO3.rotx(rot_angle_x)\n",
    "    T = np.eye(4,4)\n",
    "    T[0:3,3] = trans\n",
    "    T[0:3,0:3] = R.as_matrix()\n",
    "    return T"
   ]
  },
  {
   "cell_type": "code",
   "execution_count": 8,
   "metadata": {},
   "outputs": [],
   "source": [
    "T = create_SE3_pose(np.array([1,2,3]), 0.1)\n",
    "T2 = create_SE3_pose(np.array([5,2,1]), 0.5)\n",
    "pose1 = SE3.from_matrix(T)\n",
    "pose2 = SE3.from_matrix(T2)"
   ]
  },
  {
   "cell_type": "code",
   "execution_count": 89,
   "metadata": {},
   "outputs": [
    {
     "name": "stdout",
     "output_type": "stream",
     "text": [
      "Distance is 7.2148293621016615\n"
     ]
    }
   ],
   "source": [
    "Xi_12 = (pose1.inv().dot(pose2)).log()\n",
    "W = np.eye(4,4)\n",
    "W[0,0] = 100\n",
    "W[1,1] = 100\n",
    "W[2,2] = 100\n",
    "W[3,3] = 1\n",
    "\n",
    "inner = np.trace(np.matmul(np.matmul(SE3.wedge(Xi_12),W),SE3.wedge(Xi_12).transpose()))\n",
    "print(f'Distance is {np.sqrt(inner)}')"
   ]
  },
  {
   "cell_type": "code",
   "execution_count": 67,
   "metadata": {},
   "outputs": [
    {
     "name": "stdout",
     "output_type": "stream",
     "text": [
      "Distance is 2.8284271247461903\n"
     ]
    }
   ],
   "source": [
    "inner = np.matmul(Xi_12.transpose(),Xi_12)\n",
    "print(f'Distance is {np.sqrt(inner)}')"
   ]
  },
  {
   "cell_type": "markdown",
   "metadata": {},
   "source": [
    "-------------------------------------------"
   ]
  },
  {
   "cell_type": "markdown",
   "metadata": {},
   "source": [
    "# Distance Comparison"
   ]
  },
  {
   "cell_type": "code",
   "execution_count": 44,
   "metadata": {},
   "outputs": [],
   "source": [
    "def compute_trans_diff_R3(T, T2):\n",
    "    return np.linalg.norm(T[0:3, 3] - T2[0:3, 3])\n",
    "def compute_rot_diff_rodr(T, T2):\n",
    "    rot_diff = np.trace(np.matmul(T[0:3, 0:3], T2[0:3, 0:3].T))\n",
    "    return np.arccos((rot_diff - 1)/2)\n",
    "def compute_se3_diff_weighted(T, T2):\n",
    "    pose1 = SE3.from_matrix(T)\n",
    "    pose2 = SE3.from_matrix(T2)\n",
    "    Xi_12 = (pose1.inv().dot(pose2)).log()\n",
    "    W = np.eye(4,4)\n",
    "    W[0,0] = 100\n",
    "    W[1,1] = 100\n",
    "    W[2,2] = 100\n",
    "    W[3,3] = 1\n",
    "    inner = np.trace(np.matmul(np.matmul(SE3.wedge(Xi_12),W),SE3.wedge(Xi_12).transpose()))\n",
    "    return np.sqrt(inner)\n",
    "def compute_se3_diff(T, T2):\n",
    "    pose1 = SE3.from_matrix(T)\n",
    "    pose2 = SE3.from_matrix(T2)    \n",
    "    Xi_12 = (pose1.inv().dot(pose2)).log()    \n",
    "    \n",
    "    inner = np.matmul(Xi_12.transpose(),Xi_12)    \n",
    "    return np.sqrt(inner)\n",
    "    \n",
    "def update_trans(T, vec):\n",
    "    T[0:3,3] = T[0:3,3] + vec.T\n",
    "    return T\n",
    "\n",
    "def update_rot(T, angle):\n",
    "    return create_SE3_pose(T[0:3,3], angle)"
   ]
  },
  {
   "cell_type": "code",
   "execution_count": 58,
   "metadata": {},
   "outputs": [],
   "source": [
    "T0 = create_SE3_pose(np.array([0,0,0]), 0.0)\n",
    "T_pert = create_SE3_pose(np.array([0,0,0]), 0.0)\n",
    "trans_incr = np.array([1,1,1])\n",
    "rot_incr = 0.4\n",
    "\n",
    "n_incr = 10\n",
    "trans_distance_R3 = np.zeros((n_incr, 1))\n",
    "rot_distance_rodr = np.zeros((n_incr, 1))\n",
    "trans_distance_SE3 = np.zeros((n_incr, 1))\n",
    "for i in range(0, n_incr):    \n",
    "    trans_distance_R3[i] = compute_trans_diff_R3(T0, T_pert)\n",
    "    rot_distance_rodr[i] = compute_rot_diff_rodr(T0, T_pert)\n",
    "    trans_distance_SE3[i] = compute_se3_diff_weighted(T0, T_pert)\n",
    "    \n",
    "    T_pert = update_trans(T_pert, trans_incr)\n",
    "    T_pert = update_rot(T_pert, rot_incr*i)\n",
    "    "
   ]
  },
  {
   "cell_type": "code",
   "execution_count": 59,
   "metadata": {},
   "outputs": [
    {
     "data": {
      "text/plain": [
       "[<matplotlib.lines.Line2D at 0x7f9774e86cf8>]"
      ]
     },
     "execution_count": 59,
     "metadata": {},
     "output_type": "execute_result"
    },
    {
     "data": {
      "image/png": "[encoded data removed]",
      "text/plain": [
       "<Figure size 576x576 with 2 Axes>"
      ]
     },
     "metadata": {
      "needs_background": "light"
     },
     "output_type": "display_data"
    }
   ],
   "source": [
    "fig, axes = plt.subplots(2, 1, figsize=(8, 8))\n",
    "fig.subplots_adjust(hspace=0.5)\n",
    "\n",
    "axes[0].plot(range(0,n_incr), trans_distance_R3, '-')\n",
    "axes[0].plot(range(0,n_incr), rot_distance_rodr, '-')\n",
    "axes[1].plot(range(0,n_incr), trans_distance_SE3, '-')"
   ]
  },
  {
   "cell_type": "code",
   "execution_count": 40,
   "metadata": {},
   "outputs": [
    {
     "data": {
      "text/plain": [
       "array([[ 0.        ],\n",
       "       [ 1.73205081],\n",
       "       [ 3.46410162],\n",
       "       [ 5.19615242],\n",
       "       [ 6.92820323],\n",
       "       [ 8.66025404],\n",
       "       [10.39230485],\n",
       "       [12.12435565],\n",
       "       [13.85640646],\n",
       "       [15.58845727]])"
      ]
     },
     "execution_count": 40,
     "metadata": {},
     "output_type": "execute_result"
    }
   ],
   "source": []
  }
 ],
 "metadata": {
  "kernelspec": {
   "display_name": "Python 3",
   "language": "python",
   "name": "python3"
  },
  "language_info": {
   "codemirror_mode": {
    "name": "ipython",
    "version": 3
   },
   "file_extension": ".py",
   "mimetype": "text/x-python",
   "name": "python",
   "nbconvert_exporter": "python",
   "pygments_lexer": "ipython3",
   "version": "3.6.9"
  }
 },
 "nbformat": 4,
 "nbformat_minor": 4
}
