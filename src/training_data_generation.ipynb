{
 "cells": [
  {
   "cell_type": "markdown",
   "metadata": {},
   "source": [
    "# Training Data Evaluation\n"
   ]
  },
  {
   "cell_type": "code",
   "execution_count": 73,
   "metadata": {},
   "outputs": [
    {
     "name": "stdout",
     "output_type": "stream",
     "text": [
      "The autoreload extension is already loaded. To reload it, use:\n",
      "  %reload_ext autoreload\n"
     ]
    }
   ],
   "source": [
    "import numpy as np\n",
    "import matplotlib.pyplot as plt\n",
    "from pygsp import graphs, filters, plotting, reduction\n",
    "import pandas\n",
    "from enum import Enum\n",
    "import scipy.spatial\n",
    "from sklearn.model_selection import train_test_split\n",
    "from sklearn.ensemble import RandomForestClassifier\n",
    "from sklearn import metrics\n",
    "import seaborn as sns\n",
    "from sklearn.tree import export_graphviz\n",
    "import pydot\n",
    "import pickle\n",
    "from joblib import dump, load\n",
    "import os.path\n",
    "\n",
    "%load_ext autoreload\n",
    "%autoreload 2\n",
    "%matplotlib inline\n",
    "\n",
    "plotting.BACKEND = 'matplotlib'\n",
    "plt.rcParams['figure.figsize'] = (10, 5)"
   ]
  },
  {
   "cell_type": "code",
   "execution_count": 126,
   "metadata": {},
   "outputs": [],
   "source": [
    "class SubmapState(Enum):\n",
    "    ALL_GOOD = 1\n",
    "    LOCAL_GOOD = 2\n",
    "    NO_GOOD = 3\n",
    "\n",
    "class WaveletEvaluator(object):\n",
    "\n",
    "    def __init__(self, n_scales = 7):\n",
    "        self.n_scales = n_scales\n",
    "\n",
    "    def set_scales(self, n_scales):\n",
    "        self.n_scales = n_scales\n",
    "\n",
    "    def compare_signals(self, G, x_1, x_2):\n",
    "\n",
    "        # Compute the wavelets for each node and scale.\n",
    "        psi = self.compute_wavelets(G)\n",
    "        print(f\"[WaveletEvaluator] psi = {psi.shape}\")\n",
    "\n",
    "        # Compute the wavelet coefficients for x_1 and x_2.\n",
    "        W_1 = self.compute_wavelet_coefficients(psi, x_1)\n",
    "        W_2 = self.compute_wavelet_coefficients(psi, x_2)\n",
    "        print(f\"[WaveletEvaluator] W_1 = {W_1.shape}\")\n",
    "        print(f\"[WaveletEvaluator] W_2 = {W_2.shape}\")\n",
    "\n",
    "\n",
    "    def compute_wavelets(self, G):\n",
    "        print(f\"[WaveletEvaluator] Computing wavelets for {self.n_scales}\")\n",
    "        g = filters.Meyer(G, self.n_scales)\n",
    "\n",
    "        # Evalute filter bank on the frequencies (eigenvalues).\n",
    "        f = g.evaluate(G.e)\n",
    "        f = np.expand_dims(f.T, 1)\n",
    "        psi = np.zeros((G.N, G.N, self.n_scales))\n",
    "\n",
    "        for i in range(0, G.N):\n",
    "\n",
    "            # Create a Dirac centered at node i.\n",
    "            x = np.zeros((G.N,1))\n",
    "            x[i] = 1\n",
    "\n",
    "            # Transform the signal to spectral domain.\n",
    "            s = G._check_signal(x)\n",
    "            s = G.gft(s)\n",
    "\n",
    "            # Multiply the transformed signal with filter.\n",
    "            if s.ndim == 1:\n",
    "                s = np.expand_dims(s, -1)\n",
    "            s = np.expand_dims(s, 1)\n",
    "            s = np.matmul(s, f)\n",
    "\n",
    "            # Transform back the features to the vertex domain.\n",
    "            psi[i, :, :] = G.igft(s).squeeze()\n",
    "\n",
    "        return psi\n",
    "\n",
    "    def compute_wavelets_coeffs(self, wavelet, x_signal):\n",
    "        n_values = x_signal.shape[0]\n",
    "        W = np.zeros((n_values, self.n_scales))\n",
    "        for i in range(0, n_values):\n",
    "            for j in range(0, self.n_scales):\n",
    "                W[i,j] = np.matmul(wavelet[i,:,j].transpose(), x_signal)\n",
    "\n",
    "        return W\n",
    "\n",
    "    def check_submap(self, coeffs_1, coeffs_2, submap_ids):\n",
    "        submap_coeffs_1 = coeffs_1[submap_ids, :]\n",
    "        submap_coeffs_2 = coeffs_2[submap_ids, :]\n",
    "\n",
    "        D = self.compute_generic_distance(submap_coeffs_1, submap_coeffs_2)\n",
    "        #D = self.compute_cosine_distance(submap_coeffs_1, submap_coeffs_2)\n",
    "        #print(f\"dist: {D.transpose()}\")\n",
    "        return self.evaluate_scales(D)\n",
    "    \n",
    "    def compute_features_for_submap(self, coeffs_1, coeffs_2, submap_ids):\n",
    "        submap_coeffs_1 = coeffs_1[submap_ids, :]\n",
    "        submap_coeffs_2 = coeffs_2[submap_ids, :]\n",
    "        \n",
    "        D = self.compute_distances(submap_coeffs_1, submap_coeffs_2)\n",
    "                              \n",
    "        data = np.array([            \n",
    "            # Euclidean distance.\n",
    "            np.sum(D[0, 0:2]),\n",
    "            np.sum(D[0, 2:4]),\n",
    "            np.sum(D[0, 5:]),            \n",
    "            \n",
    "            # Correlation.\n",
    "            np.sum(D[1, 0:2]),\n",
    "            np.sum(D[1, 2:4]),\n",
    "            np.sum(D[1, 5:]),                        \n",
    "            \n",
    "            # Cityblock distance.\n",
    "            np.sum(D[2, 0:2]),\n",
    "            np.sum(D[2, 2:4]),\n",
    "            np.sum(D[2, 5:]),\n",
    "            \n",
    "            # Chebyshev distance.\n",
    "            np.sum(D[3, 0:2]),\n",
    "            np.sum(D[3, 2:4]),\n",
    "            np.sum(D[3, 5:]),            \n",
    "        ])\n",
    "        \n",
    "        return data\n",
    "        \n",
    "\n",
    "    def compute_cosine_distance(self, coeffs_1, coeffs_2):\n",
    "        #print(f\"c1 {coeffs_1.shape} and c2 {coeffs_2.shape}\")\n",
    "        cosine_distance = np.zeros((self.n_scales, 1))\n",
    "        for j in range(0, self.n_scales):\n",
    "            cross = np.dot(coeffs_1[:,j], coeffs_2[:,j])\n",
    "            n_1 = np.linalg.norm(coeffs_1[:,j])\n",
    "            n_2 = np.linalg.norm(coeffs_2[:,j])\n",
    "\n",
    "\n",
    "            cosine_similarity = cross/(n_1*n_2)\n",
    "            cosine_distance[j] = 1 - cosine_similarity\n",
    "        return cosine_distance\n",
    "    \n",
    "    def compute_distances(self, coeffs_1, coeffs_2):\n",
    "        distances = np.zeros((9, self.n_scales))            \n",
    "        for j in range(0, self.n_scales):                              \n",
    "            distances[0, j] = scipy.spatial.distance.euclidean(coeffs_1[:,j], coeffs_2[:,j])            \n",
    "            distances[1, j] = scipy.spatial.distance.correlation(coeffs_1[:,j], coeffs_2[:,j])\n",
    "            distances[2, j] = scipy.spatial.distance.cityblock(coeffs_1[:,j], coeffs_2[:,j])         \n",
    "            distances[3, j] = scipy.spatial.distance.chebyshev(coeffs_1[:,j], coeffs_2[:,j])\n",
    "            \n",
    "        return distances\n",
    "\n",
    "    def evaluate_scales(self, D):\n",
    "        k_eps = 0.3\n",
    "        \n",
    "        sum_lower = np.sum(D[0:2])\n",
    "        print(f\"Lower sum resulting in {sum_lower.transpose()}\")\n",
    "        \n",
    "        sum_band = np.sum(D[2:4])\n",
    "        print(f\"Band sum resulting in {sum_band.transpose()}\")\n",
    "        \n",
    "        sum_higher = np.sum(D[5:])\n",
    "        print(f\"Higher sum resulting in {sum_higher.transpose()}\")\n",
    "        sum_total = sum_lower + sum_higher\n",
    "        print(f\"--------------------\")\n",
    "\n",
    "        if (sum_total < k_eps):\n",
    "            return SubmapState.ALL_GOOD\n",
    "        elif (sum_lower < k_eps and sum_higher >= k_eps):\n",
    "            return SubmapState.LOW_GOOD\n",
    "        elif (sum_lower >= k_eps and sum_higher < k_eps):\n",
    "            return SubmapState.HIGH_GOOD\n",
    "        else:\n",
    "            return SubmapState.NO_GOOD\n"
   ]
  },
  {
   "cell_type": "markdown",
   "metadata": {},
   "source": [
    "## Load Input from File"
   ]
  },
  {
   "cell_type": "code",
   "execution_count": 78,
   "metadata": {},
   "outputs": [
    {
     "name": "stdout",
     "output_type": "stream",
     "text": [
      "Loading data from /mnt/data/datasets/fgsp/gonzen_mission_03_cerberus/\n",
      "=======================================\n",
      "Finished loading 1 datasets and 1 trajectories.\n"
     ]
    }
   ],
   "source": [
    "dataroot = '/mnt/data/datasets/fgsp/'\n",
    "datasets = ['gonzen_mission_03_cerberus/']\n",
    "\n",
    "n_datasets = len(datasets)\n",
    "opt_signals = []\n",
    "est_signals = []\n",
    "opt_trajectory = []\n",
    "est_trajectory = []\n",
    "opt_graph_coords = []\n",
    "opt_graph_adj = []\n",
    "for ds in datasets:\n",
    "    ds_path = dataroot + ds\n",
    "    print(f'Loading data from {ds_path}')\n",
    "    opt_signal_path = ds_path + 'opt_signal.npy'\n",
    "    opt_traj_path = ds_path + 'opt_trajectory.npy'\n",
    "    est_signal_path = ds_path + 'est_signal.npy'\n",
    "    est_traj_path = ds_path + 'est_trajectory.npy'  \n",
    "    opt_graph_coords_path = ds_path + 'opt_graph_coords.npy'\n",
    "    opt_graph_adj_path = ds_path + 'opt_graph_adj.npy'\n",
    " \n",
    "    if os.path.isfile(opt_signal_path) and os.path.isfile(est_signal_path):\n",
    "        opt_signals.append(np.load(opt_signal_path))\n",
    "        est_signals.append(np.load(est_signal_path))\n",
    "        \n",
    "    if os.path.isfile(opt_traj_path) and os.path.isfile(est_traj_path):\n",
    "        opt_trajectory.append(np.load(opt_traj_path))\n",
    "        est_trajectory.append(np.load(est_traj_path))\n",
    "    \n",
    "    if os.path.isfile(opt_graph_coords_path) and os.path.isfile(opt_graph_adj_path):\n",
    "        opt_graph_coords.append(np.load(opt_graph_coords_path))\n",
    "        opt_graph_adj.append(np.load(opt_graph_adj_path))\n",
    "    \n",
    "    \n",
    "print(f'=======================================')\n",
    "n_datasets = len(opt_signals)\n",
    "n_trajectories = len(opt_trajectory)\n",
    "assert n_datasets == len(est_signals)\n",
    "assert n_trajectories == len(opt_trajectory)\n",
    "print(f'Finished loading {n_datasets} datasets and {n_trajectories} trajectories.')"
   ]
  },
  {
   "cell_type": "code",
   "execution_count": 80,
   "metadata": {},
   "outputs": [
    {
     "data": {
      "text/plain": [
       "(<Figure size 720x360 with 1 Axes>,\n",
       " <matplotlib.axes._subplots.Axes3DSubplot at 0x7f7ebe919b00>)"
      ]
     },
     "execution_count": 80,
     "metadata": {},
     "output_type": "execute_result"
    },
    {
     "data": {
      "image/png": "[encoded data removed]",
      "text/plain": [
       "<Figure size 720x360 with 1 Axes>"
      ]
     },
     "metadata": {
      "needs_background": "light"
     },
     "output_type": "display_data"
    }
   ],
   "source": [
    "graph_per_dataset = []\n",
    "for i in range(0, n_datasets):\n",
    "    G = graphs.Graph(opt_graph_adj[i])\n",
    "    G.set_coordinates(opt_graph_coords[i])\n",
    "    G.compute_fourier_basis()\n",
    "    graph_per_dataset.append(G)\n",
    "\n",
    "graph_per_dataset[0].plot()"
   ]
  },
  {
   "cell_type": "code",
   "execution_count": 98,
   "metadata": {},
   "outputs": [
    {
     "data": {
      "image/png": "[encoded data removed]",
      "text/plain": [
       "<Figure size 720x360 with 1 Axes>"
      ]
     },
     "metadata": {
      "needs_background": "light"
     },
     "output_type": "display_data"
    },
    {
     "name": "stdout",
     "output_type": "stream",
     "text": [
      "Signal shapes are (452,) and (452,)\n"
     ]
    }
   ],
   "source": [
    "def compare_signals(signal_1, signal_2):\n",
    "    plt.plot(signal_1, label='Signal 1')\n",
    "    plt.plot(signal_2, label='Signal 2')\n",
    "    plt.legend()\n",
    "    plt.show()\n",
    "\n",
    "i = 0\n",
    "compare_signals(est_signals[i], opt_signals[i])\n",
    "print(f'Signal shapes are {est_signals[i].shape} and {opt_signals[i].shape}')"
   ]
  },
  {
   "cell_type": "code",
   "execution_count": 82,
   "metadata": {},
   "outputs": [
    {
     "data": {
      "image/png": "[encoded data removed]",
      "text/plain": [
       "<Figure size 720x360 with 1 Axes>"
      ]
     },
     "metadata": {
      "needs_background": "light"
     },
     "output_type": "display_data"
    },
    {
     "name": "stdout",
     "output_type": "stream",
     "text": [
      "Signal shapes are (452, 3) and (452, 3)\n"
     ]
    }
   ],
   "source": [
    "def compare_trajectories(est_traj, opt_traj):    \n",
    "    plt.plot(est_traj[:,0], est_traj[:,1], label='Estimated Trajectory')\n",
    "    plt.plot(opt_traj[:,0], opt_traj[:,1], label='Optimized Trajectory')\n",
    "    plt.legend()\n",
    "    plt.show()\n",
    "    \n",
    "i = 0\n",
    "compare_trajectories(est_trajectory[i], opt_trajectory[i])\n",
    "print(f'Signal shapes are {est_trajectory[i].shape} and {opt_trajectory[i].shape}')"
   ]
  },
  {
   "cell_type": "markdown",
   "metadata": {},
   "source": [
    "----------------------------------------\n",
    "## Learn a Random Forest Classifier"
   ]
  },
  {
   "cell_type": "code",
   "execution_count": 130,
   "metadata": {},
   "outputs": [],
   "source": [
    "all_data = pandas.DataFrame([])\n",
    "feature_names = ['Euclidean_L',\n",
    "                 'Euclidean_B',\n",
    "                 'Euclidean_H',\n",
    "                 'Correlation_L',\n",
    "                 'Correlation_B',\n",
    "                 'Correlation_H',                 \n",
    "                 'Manhattan_L',\n",
    "                 'Manhattan_B',\n",
    "                 'Manhattan_H',\n",
    "                 'Chebyshev_L',\n",
    "                 'Chebyshev_B',\n",
    "                 'Chebyshev_H']"
   ]
  },
  {
   "cell_type": "markdown",
   "metadata": {},
   "source": [
    "## Position-based Difference"
   ]
  },
  {
   "cell_type": "code",
   "execution_count": 138,
   "metadata": {},
   "outputs": [
    {
     "name": "stdout",
     "output_type": "stream",
     "text": [
      "[WaveletEvaluator] Computing wavelets for 7\n",
      " psi = (452, 452, 7)\n",
      "labels (41,) and submap_data (41, 12)\n"
     ]
    }
   ],
   "source": [
    "def compute_labels_for_signals(est_signal, opt_signal, submap_indices):    \n",
    "    n_est_signal = len(est_signal)\n",
    "    n_opt_signal = len(opt_signal)        \n",
    "    assert n_est_signal == n_opt_signal\n",
    "    for i in submap_indices:\n",
    "        diff = np.abs(est_signal[i] - opt_signal[i])\n",
    "        if diff > 1:\n",
    "            return 1\n",
    "        \n",
    "    return 0    \n",
    "\n",
    "labels = {}\n",
    "for ds_idx in range(0, n_datasets):\n",
    "    # Compute wavelets.\n",
    "    eval = WaveletEvaluator()\n",
    "    psi = eval.compute_wavelets(graph_per_dataset[ds_idx])\n",
    "    print(f\" psi = {psi.shape}\")\n",
    "    \n",
    "    W_1 = eval.compute_wavelets_coeffs(psi, est_signals[ds_idx])\n",
    "    W_2 = eval.compute_wavelets_coeffs(psi, opt_signals[ds_idx])\n",
    "    \n",
    "    n_submaps = 40\n",
    "    submap_size = int(G.N/n_submaps)\n",
    "    indices = []\n",
    "    submap_indices = []\n",
    "    state_signal = np.zeros((G.N, 1))\n",
    "\n",
    "    submap_data = []\n",
    "    submap_labels = []\n",
    "    for i in range(0, G.N):\n",
    "        n_indices_in_submap = len(submap_indices)\n",
    "\n",
    "        # If the submap reached max size, evaluate it.\n",
    "        if n_indices_in_submap > 0 and n_indices_in_submap % submap_size == 0:        \n",
    "            features = eval.compute_features_for_submap(W_1, W_2, submap_indices)\n",
    "            label = compute_labels_for_signals(est_signals[ds_idx], opt_signals[ds_idx], submap_indices)\n",
    "            \n",
    "            submap_data.append(features)\n",
    "            submap_labels.append(label)\n",
    "            submap_indices = []\n",
    "\n",
    "        submap_indices.append(i)\n",
    "    \n",
    "    submap_data = np.array(submap_data)\n",
    "    submap_labels = np.array(submap_labels)    \n",
    "    print(f'labels {submap_labels.shape} and submap_data {submap_data.shape}')\n",
    "    data=pandas.DataFrame({\n",
    "        feature_names[0]:submap_data[:,0],\n",
    "        feature_names[1]:submap_data[:,1],\n",
    "        feature_names[2]:submap_data[:,2],\n",
    "\n",
    "        feature_names[3]:submap_data[:,3],\n",
    "        feature_names[4]:submap_data[:,4],\n",
    "        feature_names[5]:submap_data[:,5],\n",
    "\n",
    "        feature_names[6]:submap_data[:,6],\n",
    "        feature_names[7]:submap_data[:,7],\n",
    "        feature_names[8]:submap_data[:,8],\n",
    "\n",
    "        feature_names[9]:submap_data[:,9],\n",
    "        feature_names[10]:submap_data[:,10],\n",
    "        feature_names[11]:submap_data[:,11],\n",
    "        \n",
    "        'state':submap_labels\n",
    "    })\n",
    "\n",
    "    all_data=all_data.append(data)"
   ]
  },
  {
   "cell_type": "code",
   "execution_count": 146,
   "metadata": {},
   "outputs": [
    {
     "name": "stdout",
     "output_type": "stream",
     "text": [
      "Size of all_data = 123\n"
     ]
    },
    {
     "data": {
      "text/html": [
       "<div>\n",
       "<style scoped>\n",
       "    .dataframe tbody tr th:only-of-type {\n",
       "        vertical-align: middle;\n",
       "    }\n",
       "\n",
       "    .dataframe tbody tr th {\n",
       "        vertical-align: top;\n",
       "    }\n",
       "\n",
       "    .dataframe thead th {\n",
       "        text-align: right;\n",
       "    }\n",
       "</style>\n",
       "<table border=\"1\" class=\"dataframe\">\n",
       "  <thead>\n",
       "    <tr style=\"text-align: right;\">\n",
       "      <th></th>\n",
       "      <th>Euclidean_L</th>\n",
       "      <th>Euclidean_B</th>\n",
       "      <th>Euclidean_H</th>\n",
       "      <th>Correlation_L</th>\n",
       "      <th>Correlation_B</th>\n",
       "      <th>Correlation_H</th>\n",
       "      <th>Manhattan_L</th>\n",
       "      <th>Manhattan_B</th>\n",
       "      <th>Manhattan_H</th>\n",
       "      <th>Chebyshev_L</th>\n",
       "      <th>Chebyshev_B</th>\n",
       "      <th>Chebyshev_H</th>\n",
       "      <th>state</th>\n",
       "    </tr>\n",
       "  </thead>\n",
       "  <tbody>\n",
       "    <tr>\n",
       "      <th>36</th>\n",
       "      <td>2.195811</td>\n",
       "      <td>0.070057</td>\n",
       "      <td>0.000059</td>\n",
       "      <td>0.011609</td>\n",
       "      <td>0.117267</td>\n",
       "      <td>0.000042</td>\n",
       "      <td>7.120629</td>\n",
       "      <td>0.178154</td>\n",
       "      <td>0.000153</td>\n",
       "      <td>0.780387</td>\n",
       "      <td>0.042218</td>\n",
       "      <td>0.000044</td>\n",
       "      <td>0</td>\n",
       "    </tr>\n",
       "    <tr>\n",
       "      <th>37</th>\n",
       "      <td>2.819803</td>\n",
       "      <td>0.521106</td>\n",
       "      <td>0.000013</td>\n",
       "      <td>0.000646</td>\n",
       "      <td>0.005177</td>\n",
       "      <td>0.000386</td>\n",
       "      <td>9.090143</td>\n",
       "      <td>1.283092</td>\n",
       "      <td>0.000030</td>\n",
       "      <td>1.027477</td>\n",
       "      <td>0.363473</td>\n",
       "      <td>0.000009</td>\n",
       "      <td>0</td>\n",
       "    </tr>\n",
       "    <tr>\n",
       "      <th>38</th>\n",
       "      <td>1.966559</td>\n",
       "      <td>0.800449</td>\n",
       "      <td>0.000804</td>\n",
       "      <td>0.000949</td>\n",
       "      <td>0.005916</td>\n",
       "      <td>0.000918</td>\n",
       "      <td>6.337687</td>\n",
       "      <td>2.390330</td>\n",
       "      <td>0.002023</td>\n",
       "      <td>0.863782</td>\n",
       "      <td>0.397562</td>\n",
       "      <td>0.000485</td>\n",
       "      <td>0</td>\n",
       "    </tr>\n",
       "    <tr>\n",
       "      <th>39</th>\n",
       "      <td>1.142216</td>\n",
       "      <td>1.125657</td>\n",
       "      <td>0.002012</td>\n",
       "      <td>0.000018</td>\n",
       "      <td>0.020342</td>\n",
       "      <td>0.056967</td>\n",
       "      <td>3.627584</td>\n",
       "      <td>3.189755</td>\n",
       "      <td>0.004729</td>\n",
       "      <td>0.423242</td>\n",
       "      <td>0.545278</td>\n",
       "      <td>0.001569</td>\n",
       "      <td>0</td>\n",
       "    </tr>\n",
       "    <tr>\n",
       "      <th>40</th>\n",
       "      <td>0.576908</td>\n",
       "      <td>1.104358</td>\n",
       "      <td>0.049576</td>\n",
       "      <td>0.008186</td>\n",
       "      <td>0.147512</td>\n",
       "      <td>0.050038</td>\n",
       "      <td>1.834771</td>\n",
       "      <td>3.028497</td>\n",
       "      <td>0.087787</td>\n",
       "      <td>0.234504</td>\n",
       "      <td>0.558642</td>\n",
       "      <td>0.040434</td>\n",
       "      <td>0</td>\n",
       "    </tr>\n",
       "  </tbody>\n",
       "</table>\n",
       "</div>"
      ],
      "text/plain": [
       "    Euclidean_L  Euclidean_B  Euclidean_H  Correlation_L  Correlation_B  \\\n",
       "36     2.195811     0.070057     0.000059       0.011609       0.117267   \n",
       "37     2.819803     0.521106     0.000013       0.000646       0.005177   \n",
       "38     1.966559     0.800449     0.000804       0.000949       0.005916   \n",
       "39     1.142216     1.125657     0.002012       0.000018       0.020342   \n",
       "40     0.576908     1.104358     0.049576       0.008186       0.147512   \n",
       "\n",
       "    Correlation_H  Manhattan_L  Manhattan_B  Manhattan_H  Chebyshev_L  \\\n",
       "36       0.000042     7.120629     0.178154     0.000153     0.780387   \n",
       "37       0.000386     9.090143     1.283092     0.000030     1.027477   \n",
       "38       0.000918     6.337687     2.390330     0.002023     0.863782   \n",
       "39       0.056967     3.627584     3.189755     0.004729     0.423242   \n",
       "40       0.050038     1.834771     3.028497     0.087787     0.234504   \n",
       "\n",
       "    Chebyshev_B  Chebyshev_H  state  \n",
       "36     0.042218     0.000044      0  \n",
       "37     0.363473     0.000009      0  \n",
       "38     0.397562     0.000485      0  \n",
       "39     0.545278     0.001569      0  \n",
       "40     0.558642     0.040434      0  "
      ]
     },
     "execution_count": 146,
     "metadata": {},
     "output_type": "execute_result"
    }
   ],
   "source": [
    "print(f\"Size of all_data = {all_data.shape[0]}\")\n",
    "all_data.tail()"
   ]
  },
  {
   "cell_type": "code",
   "execution_count": 147,
   "metadata": {},
   "outputs": [],
   "source": [
    "all_data = all_data.fillna(0)\n",
    "all_data = all_data.replace(float('inf'), 1)\n",
    "\n",
    "# without JSD\n",
    "#feature_names = ['Cosine_L', 'Cosine_B', 'Cosine_H','Euclidean_L', 'Euclidean_B', 'Euclidean_H','BrayCurtis_L', 'BrayCurtis_B', 'BrayCurtis_H','Correlation_L', 'Correlation_B', 'Correlation_H', 'Canberra_L', 'Canberra_B', 'Canberra_H', 'Minkowski_L', 'Minkowski_B', 'Minkowski_H', 'Manhattan_L', 'Manhattan_B', 'Manhattan_H', 'Chebyshev_L', 'Chebyshev_B', 'Chebyshev_H']\n",
    "\n",
    "# Full\n",
    "feature_names = ['Euclidean_L', 'Euclidean_B', 'Euclidean_H','Correlation_L', 'Correlation_B', 'Correlation_H', 'Manhattan_L', 'Manhattan_B', 'Manhattan_H', 'Chebyshev_L', 'Chebyshev_B', 'Chebyshev_H']\n"
   ]
  },
  {
   "cell_type": "code",
   "execution_count": 148,
   "metadata": {},
   "outputs": [
    {
     "data": {
      "text/plain": [
       "['../config/forest.joblib']"
      ]
     },
     "execution_count": 148,
     "metadata": {},
     "output_type": "execute_result"
    }
   ],
   "source": [
    "X=all_data[feature_names]\n",
    "y=all_data['state']\n",
    "\n",
    "X_train, X_test, y_train, y_test = train_test_split(X, y, test_size=0.3) # 70% training and 30% test\n",
    "\n",
    "clf=RandomForestClassifier(n_estimators=100)\n",
    "clf.fit(X_train,y_train)\n",
    "y_pred=clf.predict(X_test)\n",
    "\n",
    "dump(clf, '../config/forest.joblib') \n",
    "#clf = load('filename.joblib') "
   ]
  },
  {
   "cell_type": "code",
   "execution_count": 149,
   "metadata": {},
   "outputs": [
    {
     "name": "stdout",
     "output_type": "stream",
     "text": [
      "Accuracy: 0.7837837837837838\n"
     ]
    }
   ],
   "source": [
    "print(\"Accuracy:\",metrics.accuracy_score(y_test, y_pred))\n"
   ]
  },
  {
   "cell_type": "code",
   "execution_count": 137,
   "metadata": {},
   "outputs": [
    {
     "name": "stderr",
     "output_type": "stream",
     "text": [
      "No handles with labels found to put in legend.\n"
     ]
    },
    {
     "data": {
      "text/plain": [
       "<matplotlib.legend.Legend at 0x7f7ebc3703c8>"
      ]
     },
     "execution_count": 137,
     "metadata": {},
     "output_type": "execute_result"
    },
    {
     "data": {
      "image/png": "[encoded data removed]",
      "text/plain": [
       "<Figure size 720x360 with 1 Axes>"
      ]
     },
     "metadata": {
      "needs_background": "light"
     },
     "output_type": "display_data"
    }
   ],
   "source": [
    "feature_imp = pandas.Series(clf.feature_importances_, index=feature_names).sort_values(ascending=False)\n",
    "\n",
    "sns.barplot(x=feature_imp, y=feature_imp.index)\n",
    "\n",
    "# Add labels to your graph\n",
    "plt.xlabel('Feature Importance Score')\n",
    "plt.ylabel('Features')\n",
    "plt.title(\"Visualizing Important Features\")\n",
    "plt.legend()\n"
   ]
  },
  {
   "cell_type": "code",
   "execution_count": 240,
   "metadata": {},
   "outputs": [],
   "source": [
    "# Pull out one tree from the forest\n",
    "tree = clf.estimators_[5]\n",
    "# Export the image to a dot file\n",
    "export_graphviz(tree, out_file = 'tree.dot', feature_names = feature_names, rounded = True, precision = 1)\n",
    "# Use dot file to create a graph\n",
    "(graph, ) = pydot.graph_from_dot_file('tree.dot')\n",
    "# Write graph to a png file\n",
    "graph.write_png('tree.png')"
   ]
  },
  {
   "cell_type": "markdown",
   "metadata": {},
   "source": [
    "## Real Tests"
   ]
  },
  {
   "cell_type": "code",
   "execution_count": 7,
   "metadata": {},
   "outputs": [],
   "source": [
    "clf = load('../config/forest.joblib') "
   ]
  },
  {
   "cell_type": "code",
   "execution_count": null,
   "metadata": {},
   "outputs": [],
   "source": [
    "feature_names = ['Cosine_L', 'Cosine_B', 'Cosine_H','Euclidean_L', 'Euclidean_B', 'Euclidean_H','BrayCurtis_L', 'BrayCurtis_B', 'BrayCurtis_H','Correlation_L', 'Correlation_B', 'Correlation_H', 'Canberra_L', 'Canberra_B', 'Canberra_H', 'JSD_L', 'JSD_B', 'JSD_H', 'Minkowski_L', 'Minkowski_B', 'Minkowski_H', 'Manhattan_L', 'Manhattan_B', 'Manhattan_H', 'Chebyshev_L', 'Chebyshev_B', 'Chebyshev_H']\n",
    "\n",
    "W_1 = eval.compute_wavelets_coeffs(psi, x_opt)\n",
    "W_2 = eval.compute_wavelets_coeffs(psi, x_loam)\n",
    "#W_2 = eval.compute_wavelets_coeffs(psi, x_rovio)\n",
    "\n",
    "n_submaps = 40\n",
    "submap_size = int(G.N/n_submaps)\n",
    "\n",
    "n_all_good = 0\n",
    "n_low_good = 0\n",
    "n_high_good = 0\n",
    "n_no_good = 0\n",
    "\n",
    "indices = []\n",
    "submap_indices = []\n",
    "state_signal = np.zeros((G.N, 1))\n",
    "\n",
    "submap_data = []\n",
    "for i in range(0, G.N):\n",
    "    n_indices_in_submap = len(submap_indices)\n",
    "\n",
    "    # If the submap reached max size, evaluate it.\n",
    "\n",
    "    if n_indices_in_submap > 0 and n_indices_in_submap % submap_size == 0:        \n",
    "        features = eval.compute_features_for_submap(W_1, W_2, submap_indices)\n",
    "        submap_data.append(features)\n",
    "\n",
    "        submap_indices = []\n",
    "\n",
    "    submap_indices.append(i)\n",
    "\n",
    "submap_data = np.array(submap_data)                \n",
    "data=pandas.DataFrame({\n",
    "    feature_names[0]:submap_data[:,0],\n",
    "    feature_names[1]:submap_data[:,1],\n",
    "    feature_names[2]:submap_data[:,2],\n",
    "\n",
    "    feature_names[3]:submap_data[:,3],\n",
    "    feature_names[4]:submap_data[:,4],\n",
    "    feature_names[5]:submap_data[:,5],\n",
    "\n",
    "    feature_names[6]:submap_data[:,6],\n",
    "    feature_names[7]:submap_data[:,7],\n",
    "    feature_names[8]:submap_data[:,8],\n",
    "\n",
    "    feature_names[9]:submap_data[:,9],\n",
    "    feature_names[10]:submap_data[:,10],\n",
    "    feature_names[11]:submap_data[:,11],\n",
    "\n",
    "    feature_names[12]:submap_data[:,12],\n",
    "    feature_names[13]:submap_data[:,13],\n",
    "    feature_names[14]:submap_data[:,14],\n",
    "\n",
    "    feature_names[15]:submap_data[:,15],\n",
    "    feature_names[16]:submap_data[:,16],\n",
    "    feature_names[17]:submap_data[:,17],\n",
    "\n",
    "    feature_names[18]:submap_data[:,18],\n",
    "    feature_names[19]:submap_data[:,19],\n",
    "    feature_names[20]:submap_data[:,20],\n",
    "\n",
    "    feature_names[21]:submap_data[:,21],\n",
    "    feature_names[22]:submap_data[:,22],\n",
    "    feature_names[23]:submap_data[:,23],\n",
    "\n",
    "    feature_names[24]:submap_data[:,24],\n",
    "    feature_names[25]:submap_data[:,25],\n",
    "    feature_names[26]:submap_data[:,26]    \n",
    "})"
   ]
  },
  {
   "cell_type": "code",
   "execution_count": 15,
   "metadata": {},
   "outputs": [
    {
     "name": "stdout",
     "output_type": "stream",
     "text": [
      "Prediction shape (40,) and prob shape (40, 2)\n"
     ]
    },
    {
     "data": {
      "text/plain": [
       "40"
      ]
     },
     "execution_count": 15,
     "metadata": {},
     "output_type": "execute_result"
    }
   ],
   "source": [
    "data = data.fillna(0)\n",
    "data = data.replace(float('inf'), 1)\n",
    "\n",
    "prediction = clf.predict(data)\n",
    "prediction_prob = clf.predict_proba(data)\n",
    "\n",
    "print(f\"Prediction shape {prediction.shape} and prob shape {prediction_prob.shape}\")\n",
    "len(prediction)"
   ]
  },
  {
   "cell_type": "code",
   "execution_count": 2,
   "metadata": {},
   "outputs": [
    {
     "data": {
      "text/plain": [
       "[4, 5, 1]"
      ]
     },
     "execution_count": 2,
     "metadata": {},
     "output_type": "execute_result"
    }
   ],
   "source": [
    "a = [1,2,3,4,5,6]\n",
    "mask = [False,False,True,True,False,False,]\n",
    "idx = [3,4,0]\n",
    "#[a[i] for i in range(0,len(a)) if mask[i]]\n",
    "[a[id] for id in idx]"
   ]
  },
  {
   "cell_type": "code",
   "execution_count": 29,
   "metadata": {},
   "outputs": [
    {
     "data": {
      "text/plain": [
       "0"
      ]
     },
     "execution_count": 29,
     "metadata": {},
     "output_type": "execute_result"
    }
   ],
   "source": [
    "np.array([0])[0]"
   ]
  }
 ],
 "metadata": {
  "kernelspec": {
   "display_name": "Python 3",
   "language": "python",
   "name": "python3"
  },
  "language_info": {
   "codemirror_mode": {
    "name": "ipython",
    "version": 3
   },
   "file_extension": ".py",
   "mimetype": "text/x-python",
   "name": "python",
   "nbconvert_exporter": "python",
   "pygments_lexer": "ipython3",
   "version": "3.6.9"
  }
 },
 "nbformat": 4,
 "nbformat_minor": 4
}
