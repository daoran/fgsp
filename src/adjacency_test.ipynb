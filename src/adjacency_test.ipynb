{
 "cells": [
  {
   "cell_type": "markdown",
   "metadata": {},
   "source": [
    "# Adjacency Matrix Test"
   ]
  },
  {
   "cell_type": "code",
   "execution_count": 46,
   "metadata": {},
   "outputs": [
    {
     "name": "stdout",
     "output_type": "stream",
     "text": [
      "The autoreload extension is already loaded. To reload it, use:\n",
      "  %reload_ext autoreload\n"
     ]
    }
   ],
   "source": [
    "import numpy as np\n",
    "import matplotlib.pyplot as plt\n",
    "from pygsp import graphs, filters, plotting, reduction\n",
    "import pandas\n",
    "\n",
    "%load_ext autoreload\n",
    "%autoreload 2\n",
    "%matplotlib widget\n",
    "\n",
    "plotting.BACKEND = 'matplotlib'\n",
    "plt.rcParams['figure.figsize'] = (10, 5)\n",
    "\n",
    "#COLOR = 'white'\n",
    "#plt.rcParams['text.color'] = COLOR\n",
    "#plt.rcParams['axes.labelcolor'] = COLOR\n",
    "#plt.rcParams['xtick.color'] = COLOR\n",
    "#plt.rcParams['ytick.color'] = COLOR\n"
   ]
  },
  {
   "cell_type": "code",
   "execution_count": 47,
   "metadata": {},
   "outputs": [
    {
     "name": "stdout",
     "output_type": "stream",
     "text": [
      "\n",
      "Read 8664 (graph) and 1083 (signal)  entries.\n",
      "\n",
      "Shape of the adjacency matrix (1083, 1083)\n"
     ]
    }
   ],
   "source": [
    "dataset_path = '/home/berlukas/Documents/workspace/fgsp_ws/src/fgsp/data/mission_03/adj_test/'\n",
    "graph_file = dataset_path + 'cdpgo_graph.csv'\n",
    "signal_file = dataset_path + 'cdpgo_signal.csv'\n",
    "adj_file = dataset_path + 'cdpgo_adj.csv'\n",
    "\n",
    "graph_labels = ['ts', 'qw', 'qx', 'qy', 'qz', 'x', 'y', 'z']\n",
    "signal_labels = ['residual']\n",
    "graph_df = pandas.read_csv(graph_file, names=graph_labels, delimiter=',', header=0)\n",
    "signal_df = pandas.read_csv(signal_file, names=signal_labels, delimiter=',', header=None)\n",
    "#adj_df = pandas.read_csv(adj_file, delimiter=' ', header=None)\n",
    "adj = np.genfromtxt(adj_file, dtype=float)\n",
    "\n",
    "\n",
    "print(f'\\nRead {graph_df.size} (graph) and {signal_df.size} (signal)  entries.')\n",
    "print(f'\\nShape of the adjacency matrix {adj.shape}')"
   ]
  },
  {
   "cell_type": "code",
   "execution_count": 48,
   "metadata": {},
   "outputs": [
    {
     "data": {
      "application/vnd.jupyter.widget-view+json": {
       "model_id": "3669e87a78424386a8f8a6a3a9c53cdc",
       "version_major": 2,
       "version_minor": 0
      },
      "text/plain": [
       "Canvas(toolbar=Toolbar(toolitems=[('Home', 'Reset original view', 'home', 'home'), ('Back', 'Back to  previous…"
      ]
     },
     "metadata": {},
     "output_type": "display_data"
    }
   ],
   "source": [
    "adj_plot = plt.imshow(adj)"
   ]
  },
  {
   "cell_type": "code",
   "execution_count": 49,
   "metadata": {},
   "outputs": [
    {
     "name": "stderr",
     "output_type": "stream",
     "text": [
      "/usr/local/lib/python3.6/dist-packages/matplotlib/__init__.py:941: MatplotlibDeprecationWarning: nbagg.transparent is deprecated and ignored. Use figure.facecolor instead.\n",
      "  mplDeprecation)\n"
     ]
    },
    {
     "data": {
      "application/vnd.jupyter.widget-view+json": {
       "model_id": "47c59bd0f50242118866f115cdf18f6f",
       "version_major": 2,
       "version_minor": 0
      },
      "text/plain": [
       "Canvas(toolbar=Toolbar(toolitems=[('Home', 'Reset original view', 'home', 'home'), ('Back', 'Back to  previous…"
      ]
     },
     "metadata": {},
     "output_type": "display_data"
    },
    {
     "data": {
      "text/plain": [
       "(<Figure size 1000x500 with 1 Axes>,\n",
       " <matplotlib.axes._subplots.AxesSubplot at 0x7f9a5e17b390>)"
      ]
     },
     "execution_count": 49,
     "metadata": {},
     "output_type": "execute_result"
    }
   ],
   "source": [
    "N = graph_df[['x', 'y']].to_numpy()\n",
    "G = graphs.Graph(adj)\n",
    "G.set_coordinates(N)\n",
    "G.compute_fourier_basis()\n",
    "\n",
    "G.plot()"
   ]
  },
  {
   "cell_type": "code",
   "execution_count": 50,
   "metadata": {},
   "outputs": [
    {
     "name": "stderr",
     "output_type": "stream",
     "text": [
      "2021-02-12 10:00:53,883:[WARNING](pygsp.graphs.graph.__init__): Adjacency: there are negative edge weights.\n",
      "/usr/local/lib/python3.6/dist-packages/matplotlib/__init__.py:941: MatplotlibDeprecationWarning: nbagg.transparent is deprecated and ignored. Use figure.facecolor instead.\n",
      "  mplDeprecation)\n"
     ]
    },
    {
     "data": {
      "application/vnd.jupyter.widget-view+json": {
       "model_id": "fe40f5c362c143c2855a6c4dcb420e50",
       "version_major": 2,
       "version_minor": 0
      },
      "text/plain": [
       "Canvas(toolbar=Toolbar(toolitems=[('Home', 'Reset original view', 'home', 'home'), ('Back', 'Back to  previous…"
      ]
     },
     "metadata": {},
     "output_type": "display_data"
    },
    {
     "data": {
      "text/plain": [
       "(<Figure size 1000x500 with 1 Axes>,\n",
       " <matplotlib.axes._subplots.AxesSubplot at 0x7f9a5e1f10f0>)"
      ]
     },
     "execution_count": 50,
     "metadata": {},
     "output_type": "execute_result"
    }
   ],
   "source": [
    "n_nodes = np.shape(N)[0]\n",
    "ind = np.arange(0, n_nodes, 2)\n",
    "Ns = N[ind]\n",
    "Gs = reduction.kron_reduction(G, ind)\n",
    "Gs.compute_fourier_basis()\n",
    "Gs.plot()"
   ]
  },
  {
   "cell_type": "code",
   "execution_count": 65,
   "metadata": {},
   "outputs": [],
   "source": [
    "Gs = G\n",
    "Ns = N"
   ]
  },
  {
   "cell_type": "code",
   "execution_count": 51,
   "metadata": {},
   "outputs": [
    {
     "name": "stdout",
     "output_type": "stream",
     "text": [
      "$x^T L x = 53086.27008977678$\n"
     ]
    },
    {
     "data": {
      "application/vnd.jupyter.widget-view+json": {
       "model_id": "e0e143e0b58b40de86212275534616dc",
       "version_major": 2,
       "version_minor": 0
      },
      "text/plain": [
       "Canvas(toolbar=Toolbar(toolitems=[('Home', 'Reset original view', 'home', 'home'), ('Back', 'Back to  previous…"
      ]
     },
     "metadata": {},
     "output_type": "display_data"
    },
    {
     "data": {
      "text/plain": [
       "(<Figure size 1000x500 with 2 Axes>,\n",
       " <matplotlib.axes._subplots.AxesSubplot at 0x7f9a5e0d5588>)"
      ]
     },
     "execution_count": 51,
     "metadata": {},
     "output_type": "execute_result"
    }
   ],
   "source": [
    "\n",
    "origin = Ns[0,:]\n",
    "pos_signal = (Ns - origin).squeeze()\n",
    "\n",
    "x = np.linalg.norm(pos_signal, ord=2, axis=1)\n",
    "x_hat = Gs.gft(x).squeeze()\n",
    "\n",
    "\n",
    "print(f'$x^T L x = {Gs.dirichlet_energy(x)}$')\n",
    "Gs.plot(x)"
   ]
  },
  {
   "cell_type": "code",
   "execution_count": 52,
   "metadata": {},
   "outputs": [
    {
     "data": {
      "application/vnd.jupyter.widget-view+json": {
       "model_id": "ba967382cfa44949bf4313e4163e69be",
       "version_major": 2,
       "version_minor": 0
      },
      "text/plain": [
       "Canvas(toolbar=Toolbar(toolitems=[('Home', 'Reset original view', 'home', 'home'), ('Back', 'Back to  previous…"
      ]
     },
     "metadata": {},
     "output_type": "display_data"
    }
   ],
   "source": [
    "fig, axes = plt.subplots(1, 1, figsize=(10, 5))\n",
    "\n",
    "axes.plot(Gs.e, np.abs(x_hat), '.-')\n",
    "axes.set_xticks(range(0, 300, 20))\n",
    "axes.set_xlabel(r'graph frequency $\\lambda$')\n",
    "axes.set_ylim(-0.05, 55)\n",
    "axes.set_ylabel(r'frequency content $\\hat{x}(\\lambda)$')\n",
    "axes.grid()\n"
   ]
  },
  {
   "cell_type": "code",
   "execution_count": 53,
   "metadata": {},
   "outputs": [
    {
     "data": {
      "text/plain": [
       "True"
      ]
     },
     "execution_count": 53,
     "metadata": {},
     "output_type": "execute_result"
    }
   ],
   "source": [
    "Gs.is_connected()"
   ]
  }
 ],
 "metadata": {
  "kernelspec": {
   "display_name": "Python 3",
   "language": "python",
   "name": "python3"
  },
  "language_info": {
   "codemirror_mode": {
    "name": "ipython",
    "version": 3
   },
   "file_extension": ".py",
   "mimetype": "text/x-python",
   "name": "python",
   "nbconvert_exporter": "python",
   "pygments_lexer": "ipython3",
   "version": "3.6.9"
  }
 },
 "nbformat": 4,
 "nbformat_minor": 4
}
