{
 "cells": [
  {
   "cell_type": "markdown",
   "metadata": {},
   "source": [
    "# Submap Evaluation\n",
    "This notebook performs several simulated tests with trajectories:\n",
    " * **Test 1:** Sanity test, compares the same trajectory.\n",
    " * **Test 2:** Translates one trajectory and compares it.\n",
    " * **Test 3:** Scales one trajectory and compares it.\n",
    " * **Test 4:** Adds additive normal distributed noise and compares it.\n",
    " * **Test 5:** Adds multiplicative normal distributed noise and compares it."
   ]
  },
  {
   "cell_type": "code",
   "execution_count": 3,
   "metadata": {},
   "outputs": [],
   "source": [
    "import numpy as np\n",
    "import matplotlib.pyplot as plt\n",
    "from pygsp import graphs, filters, plotting, reduction\n",
    "import pandas\n",
    "from enum import Enum\n",
    "import scipy.spatial\n",
    "from sklearn.model_selection import train_test_split\n",
    "from sklearn.ensemble import RandomForestClassifier\n",
    "from sklearn import metrics\n",
    "import seaborn as sns\n",
    "from sklearn.tree import export_graphviz\n",
    "import pydot\n",
    "import pickle\n",
    "from joblib import dump, load\n",
    "\n",
    "\n",
    "%load_ext autoreload\n",
    "%autoreload 2\n",
    "%matplotlib inline\n",
    "\n",
    "plotting.BACKEND = 'matplotlib'\n",
    "plt.rcParams['figure.figsize'] = (10, 5)\n"
   ]
  },
  {
   "cell_type": "code",
   "execution_count": 4,
   "metadata": {},
   "outputs": [],
   "source": [
    "class SubmapState(Enum):\n",
    "    ALL_GOOD = 1\n",
    "    LOW_GOOD = 2\n",
    "    BAND_GOOD = 3\n",
    "    HIGH_GOOD = 4\n",
    "    NO_GOOD = 5\n",
    "\n",
    "class WaveletEvaluator(object):\n",
    "\n",
    "    def __init__(self, n_scales = 7):\n",
    "        self.n_scales = n_scales\n",
    "\n",
    "    def set_scales(self, n_scales):\n",
    "        self.n_scales = n_scales\n",
    "\n",
    "    def compare_signals(self, G, x_1, x_2):\n",
    "\n",
    "        # Compute the wavelets for each node and scale.\n",
    "        psi = self.compute_wavelets(G)\n",
    "        print(f\"[WaveletEvaluator] psi = {psi.shape}\")\n",
    "\n",
    "        # Compute the wavelet coefficients for x_1 and x_2.\n",
    "        W_1 = self.compute_wavelet_coefficients(psi, x_1)\n",
    "        W_2 = self.compute_wavelet_coefficients(psi, x_2)\n",
    "        print(f\"[WaveletEvaluator] W_1 = {W_1.shape}\")\n",
    "        print(f\"[WaveletEvaluator] W_2 = {W_2.shape}\")\n",
    "\n",
    "\n",
    "    def compute_wavelets(self, G):\n",
    "        print(f\"[WaveletEvaluator] Computing wavelets for {self.n_scales}\")\n",
    "        g = filters.Meyer(G, self.n_scales)\n",
    "\n",
    "        # Evalute filter bank on the frequencies (eigenvalues).\n",
    "        f = g.evaluate(G.e)\n",
    "        f = np.expand_dims(f.T, 1)\n",
    "        psi = np.zeros((G.N, G.N, self.n_scales))\n",
    "\n",
    "        for i in range(0, G.N):\n",
    "\n",
    "            # Create a Dirac centered at node i.\n",
    "            x = np.zeros((G.N,1))\n",
    "            x[i] = 1\n",
    "\n",
    "            # Transform the signal to spectral domain.\n",
    "            s = G._check_signal(x)\n",
    "            s = G.gft(s)\n",
    "\n",
    "            # Multiply the transformed signal with filter.\n",
    "            if s.ndim == 1:\n",
    "                s = np.expand_dims(s, -1)\n",
    "            s = np.expand_dims(s, 1)\n",
    "            s = np.matmul(s, f)\n",
    "\n",
    "            # Transform back the features to the vertex domain.\n",
    "            psi[i, :, :] = G.igft(s).squeeze()\n",
    "\n",
    "        return psi\n",
    "\n",
    "    def compute_wavelets_coeffs(self, wavelet, x_signal):\n",
    "        n_values = x_signal.shape[0]\n",
    "        W = np.zeros((n_values, self.n_scales))\n",
    "        for i in range(0, n_values):\n",
    "            for j in range(0, self.n_scales):\n",
    "                W[i,j] = np.matmul(wavelet[i,:,j].transpose(), x_signal)\n",
    "\n",
    "        return W\n",
    "\n",
    "    def check_submap(self, coeffs_1, coeffs_2, submap_ids):\n",
    "        submap_coeffs_1 = coeffs_1[submap_ids, :]\n",
    "        submap_coeffs_2 = coeffs_2[submap_ids, :]\n",
    "\n",
    "        D = self.compute_generic_distance(submap_coeffs_1, submap_coeffs_2)\n",
    "        #D = self.compute_cosine_distance(submap_coeffs_1, submap_coeffs_2)\n",
    "        #print(f\"dist: {D.transpose()}\")\n",
    "        return self.evaluate_scales(D)\n",
    "    \n",
    "    def compute_features_for_submap(self, coeffs_1, coeffs_2, submap_ids):\n",
    "        submap_coeffs_1 = coeffs_1[submap_ids, :]\n",
    "        submap_coeffs_2 = coeffs_2[submap_ids, :]\n",
    "        \n",
    "        D = self.compute_distances(submap_coeffs_1, submap_coeffs_2)\n",
    "                              \n",
    "        data = np.array([\n",
    "            # Cosine distance.\n",
    "            np.sum(D[0, 0:2]),\n",
    "            np.sum(D[0, 2:4]),\n",
    "            np.sum(D[0, 5:]),\n",
    "            \n",
    "            # Euclidean distance.\n",
    "            np.sum(D[1, 0:2]),\n",
    "            np.sum(D[1, 2:4]),\n",
    "            np.sum(D[1, 5:]),\n",
    "            \n",
    "            # Bray-Curtis distance.\n",
    "            np.sum(D[2, 0:2]),\n",
    "            np.sum(D[2, 2:4]),\n",
    "            np.sum(D[2, 5:]),\n",
    "            \n",
    "            # Correlation.\n",
    "            np.sum(D[3, 0:2]),\n",
    "            np.sum(D[3, 2:4]),\n",
    "            np.sum(D[3, 5:]),\n",
    "            \n",
    "            # Canberra distance.\n",
    "            np.sum(D[4, 0:2]),\n",
    "            np.sum(D[4, 2:4]),\n",
    "            np.sum(D[4, 5:]),\n",
    "            \n",
    "            # JSD.\n",
    "            np.sum(D[5, 0:2]),\n",
    "            np.sum(D[5, 2:4]),\n",
    "            np.sum(D[5, 5:]),\n",
    "            \n",
    "            # Minkowski distance.\n",
    "            np.sum(D[6, 0:2]),\n",
    "            np.sum(D[6, 2:4]),\n",
    "            np.sum(D[6, 5:]),\n",
    "            \n",
    "            # Cityblock distance.\n",
    "            np.sum(D[7, 0:2]),\n",
    "            np.sum(D[7, 2:4]),\n",
    "            np.sum(D[7, 5:]),\n",
    "            \n",
    "            # Chebyshev distance.\n",
    "            np.sum(D[8, 0:2]),\n",
    "            np.sum(D[8, 2:4]),\n",
    "            np.sum(D[8, 5:]),            \n",
    "        ])\n",
    "        \n",
    "        return data\n",
    "        \n",
    "\n",
    "    def compute_cosine_distance(self, coeffs_1, coeffs_2):\n",
    "        #print(f\"c1 {coeffs_1.shape} and c2 {coeffs_2.shape}\")\n",
    "        cosine_distance = np.zeros((self.n_scales, 1))\n",
    "        for j in range(0, self.n_scales):\n",
    "            cross = np.dot(coeffs_1[:,j], coeffs_2[:,j])\n",
    "            n_1 = np.linalg.norm(coeffs_1[:,j])\n",
    "            n_2 = np.linalg.norm(coeffs_2[:,j])\n",
    "\n",
    "\n",
    "            cosine_similarity = cross/(n_1*n_2)\n",
    "            cosine_distance[j] = 1 - cosine_similarity\n",
    "        return cosine_distance\n",
    "    \n",
    "    def compute_distances(self, coeffs_1, coeffs_2):\n",
    "        distances = np.zeros((9, self.n_scales))            \n",
    "        for j in range(0, self.n_scales):      \n",
    "            #w = np.abs(np.divide(coeffs_1[:,j], coeffs_2[:,j]))\n",
    "            distances[0, j] = scipy.spatial.distance.cosine(coeffs_1[:,j], coeffs_2[:,j])\n",
    "            distances[1, j] = scipy.spatial.distance.euclidean(coeffs_1[:,j], coeffs_2[:,j])\n",
    "            distances[2, j] = scipy.spatial.distance.braycurtis(coeffs_1[:,j], coeffs_2[:,j])\n",
    "            distances[3, j] = scipy.spatial.distance.correlation(coeffs_1[:,j], coeffs_2[:,j])\n",
    "            distances[4, j] = scipy.spatial.distance.canberra(coeffs_1[:,j], coeffs_2[:,j])\n",
    "            distances[5, j] = scipy.spatial.distance.jensenshannon(coeffs_1[:,j], coeffs_2[:,j])\n",
    "            distances[6, j] = scipy.spatial.distance.minkowski(coeffs_1[:,j], coeffs_2[:,j])         \n",
    "            distances[7, j] = scipy.spatial.distance.cityblock(coeffs_1[:,j], coeffs_2[:,j])         \n",
    "            distances[8, j] = scipy.spatial.distance.chebyshev(coeffs_1[:,j], coeffs_2[:,j])\n",
    "            \n",
    "        return distances\n",
    "\n",
    "    def evaluate_scales(self, D):\n",
    "        k_eps = 0.3\n",
    "        \n",
    "        sum_lower = np.sum(D[0:2])\n",
    "        print(f\"Lower sum resulting in {sum_lower.transpose()}\")\n",
    "        \n",
    "        sum_band = np.sum(D[2:4])\n",
    "        print(f\"Band sum resulting in {sum_band.transpose()}\")\n",
    "        \n",
    "        sum_higher = np.sum(D[5:])\n",
    "        print(f\"Higher sum resulting in {sum_higher.transpose()}\")\n",
    "        sum_total = sum_lower + sum_higher\n",
    "        print(f\"--------------------\")\n",
    "\n",
    "        if (sum_total < k_eps):\n",
    "            return SubmapState.ALL_GOOD\n",
    "        elif (sum_lower < k_eps and sum_higher >= k_eps):\n",
    "            return SubmapState.LOW_GOOD\n",
    "        elif (sum_lower >= k_eps and sum_higher < k_eps):\n",
    "            return SubmapState.HIGH_GOOD\n",
    "        else:\n",
    "            return SubmapState.NO_GOOD"
   ]
  },
  {
   "cell_type": "markdown",
   "metadata": {},
   "source": [
    "### Load Input from File"
   ]
  },
  {
   "cell_type": "code",
   "execution_count": 5,
   "metadata": {},
   "outputs": [
    {
     "name": "stdout",
     "output_type": "stream",
     "text": [
      "\n",
      "Read 8664 (graph) and 1083 (signal)  entries.\n",
      "\n",
      "Shape of the adjacency matrix (1083, 1083)\n",
      "\n",
      "Read 27690 (loam), 27768 (rovio) and 12220 (opt)  entries.\n",
      "Processing 1083 optimized entries.\n"
     ]
    }
   ],
   "source": [
    "dataset_path = '/home/berlukas/Documents/workspace/fgsp_ws/src/fgsp/data/mission_03/adj_test/'\n",
    "graph_file = dataset_path + 'cdpgo_graph.csv'\n",
    "signal_file = dataset_path + 'cdpgo_signal.csv'\n",
    "adj_file = dataset_path + 'cdpgo_adj.csv'\n",
    "\n",
    "graph_labels = ['ts', 'qw', 'qx', 'qy', 'qz', 'x', 'y', 'z']\n",
    "signal_labels = ['residual']\n",
    "graph_df = pandas.read_csv(graph_file, names=graph_labels, delimiter=',', header=0)\n",
    "signal_df = pandas.read_csv(signal_file, names=signal_labels, delimiter=',', header=None)\n",
    "#adj_df = pandas.read_csv(adj_file, delimiter=' ', header=None)\n",
    "adj = np.genfromtxt(t, dtype=float)\n",
    "\n",
    "\n",
    "print(f'\\nRead {graph_df.size} (graph) and {signal_df.size} (signal)  entries.')\n",
    "print(f'\\nShape of the adjacency matrix {adj.shape}')\n",
    "\n",
    "dataset_path = '/home/berlukas/Documents/workspace/fgsp_ws/src/fgsp/data/mission_03/'\n",
    "loam_file = dataset_path + 'loam_header_less.csv'\n",
    "rovio_file = dataset_path + 'rovio_header_less.csv'\n",
    "opt_file = dataset_path + 'opt_header_less.csv'\n",
    "\n",
    "labels = ['ts', 'vertex-id', 'mission_id', 'p_G_Ix', 'p_G_Iy', 'p_G_Iz', 'q_G_Iw', 'q_G_Ix', 'q_G_Iy', 'q_G_Iz', 'p_M_Ix', 'p_M_Iy', 'p_M_Iz', 'q_M_Iw', 'q_M_Ix', 'q_M_Iy', 'q_M_Iz', 'v_Mx', 'v_My', 'v_Mz', 'bgx', 'bgy', 'bgz', 'bax', 'bay', 'baz']\n",
    "loam_df = pandas.read_csv(loam_file, names=labels, delimiter=',', header=None)\n",
    "rovio_df = pandas.read_csv(rovio_file, names=labels, delimiter=',', header=None)\n",
    "opt_df = pandas.read_csv(opt_file, names=labels, delimiter=',', header=None)\n",
    "\n",
    "print(f'\\nRead {loam_df.size} (loam), {rovio_df.size} (rovio) and {opt_df.size} (opt)  entries.')\n",
    "\n",
    "loam_ts = loam_df[['ts']].to_numpy()\n",
    "rovio_ts = rovio_df[['ts']].to_numpy()\n",
    "opt_ts = opt_df[['ts']].to_numpy()\n",
    "server_ts = graph_df[['ts']].to_numpy()\n",
    "\n",
    "server_size = server_ts.shape[0]\n",
    "\n",
    "print(f'Processing {server_size} optimized entries.')\n",
    "loam_idx = np.zeros((server_size, 1))\n",
    "rovio_idx = np.zeros((server_size, 1))\n",
    "opt_idx = np.zeros((server_size, 1))\n",
    "\n",
    "for i in range(0, server_size):\n",
    "    cur_ts = server_ts[i,0]    \n",
    "        \n",
    "    loam_ts_diff = np.absolute(loam_ts - cur_ts)    \n",
    "    cur_min_loam_index = np.where(loam_ts_diff == np.amin(loam_ts_diff))[0]    \n",
    "    loam_idx[i] = cur_min_loam_index[0]\n",
    "    \n",
    "    rovio_ts_diff = np.absolute(rovio_ts - cur_ts)\n",
    "    cur_min_rovio_index = np.where(rovio_ts_diff == np.amin(rovio_ts_diff))[0]\n",
    "    rovio_idx[i] = cur_min_rovio_index[0]\n",
    "    \n",
    "    opt_ts_diff = np.absolute(opt_ts - cur_ts)\n",
    "    cur_min_opt_index = np.where(opt_ts_diff == np.amin(opt_ts_diff))[0]\n",
    "    opt_idx[i] = cur_min_opt_index[0]\n",
    "    \n",
    "loam_graph = loam_df[['p_G_Ix', 'p_G_Iy', 'p_G_Iz']].to_numpy()\n",
    "rovio_graph = rovio_df[['p_G_Ix', 'p_G_Iy', 'p_G_Iz']].to_numpy()\n",
    "opt_graph = opt_df[['p_G_Ix', 'p_G_Iy', 'p_G_Iz']].to_numpy()\n",
    "loam_graph = loam_graph[loam_idx.astype(int),:].squeeze()\n",
    "rovio_graph = rovio_graph[rovio_idx.astype(int),:].squeeze()\n",
    "opt_graph = opt_graph[opt_idx.astype(int),:].squeeze()\n",
    "\n",
    "loam_origin = loam_graph[0,:]\n",
    "rovio_origin = rovio_graph[0,:]\n",
    "opt_origin = opt_graph[0,:]\n",
    "\n",
    "loam_pos_signal = (loam_graph - loam_origin).squeeze()\n",
    "rovio_pos_signal = (rovio_graph - rovio_origin).squeeze()\n",
    "opt_pos_signal = (opt_graph - opt_origin).squeeze()\n",
    "\n",
    "x_loam = np.linalg.norm(loam_pos_signal, ord=2, axis=1)\n",
    "x_rovio = np.linalg.norm(rovio_pos_signal, ord=2, axis=1)\n",
    "x_opt = np.linalg.norm(opt_pos_signal, ord=2, axis=1)"
   ]
  },
  {
   "cell_type": "markdown",
   "metadata": {},
   "source": [
    "### Graph Generation"
   ]
  },
  {
   "cell_type": "code",
   "execution_count": 6,
   "metadata": {},
   "outputs": [
    {
     "data": {
      "image/png": "[encoded data removed]",
      "text/plain": [
       "<Figure size 432x288 with 1 Axes>"
      ]
     },
     "metadata": {
      "needs_background": "light"
     },
     "output_type": "display_data"
    }
   ],
   "source": [
    "N = graph_df[['x', 'y']].to_numpy()\n",
    "G = graphs.Graph(adj)\n",
    "G.set_coordinates(N)\n",
    "G.compute_fourier_basis()\n",
    "\n",
    "G.plot()\n",
    "eval = WaveletEvaluator()"
   ]
  },
  {
   "cell_type": "code",
   "execution_count": 7,
   "metadata": {},
   "outputs": [
    {
     "name": "stdout",
     "output_type": "stream",
     "text": [
      "[WaveletEvaluator] Computing wavelets for 7\n",
      " psi = (1083, 1083, 7)\n"
     ]
    }
   ],
   "source": [
    "# Compute wavelets.\n",
    "psi = eval.compute_wavelets(G)\n",
    "print(f\" psi = {psi.shape}\")"
   ]
  },
  {
   "cell_type": "markdown",
   "metadata": {},
   "source": [
    "## Test Scenario 1"
   ]
  },
  {
   "cell_type": "code",
   "execution_count": 145,
   "metadata": {},
   "outputs": [
    {
     "data": {
      "image/png": "[encoded data removed]",
      "text/plain": [
       "<Figure size 720x360 with 1 Axes>"
      ]
     },
     "metadata": {
      "needs_background": "light"
     },
     "output_type": "display_data"
    },
    {
     "name": "stdout",
     "output_type": "stream",
     "text": [
      " W_1 = (1083, 7) andd W_2 = (1083, 7)\n"
     ]
    }
   ],
   "source": [
    "plt.plot(opt_graph[:, 0], opt_graph[:,1], label='Optimized')\n",
    "plt.legend()\n",
    "plt.show()\n",
    "\n",
    "x_1 = np.linalg.norm(opt_graph, ord=2, axis=1)\n",
    "x_2 = np.linalg.norm(opt_graph, ord=2, axis=1)\n",
    "\n",
    "W_1 = eval.compute_wavelets_coeffs(psi, x_1)\n",
    "W_2 = eval.compute_wavelets_coeffs(psi, x_2)\n",
    "print(f\" W_1 = {W_1.shape} andd W_2 = {W_2.shape}\")"
   ]
  },
  {
   "cell_type": "markdown",
   "metadata": {},
   "source": [
    "## Test Scenario 2"
   ]
  },
  {
   "cell_type": "code",
   "execution_count": 37,
   "metadata": {},
   "outputs": [
    {
     "data": {
      "image/png": "[encoded data removed]",
      "text/plain": [
       "<Figure size 432x288 with 1 Axes>"
      ]
     },
     "metadata": {
      "needs_background": "light"
     },
     "output_type": "display_data"
    },
    {
     "name": "stdout",
     "output_type": "stream",
     "text": [
      " W_1 = (1083, 7) andd W_2 = (1083, 7)\n"
     ]
    }
   ],
   "source": [
    "translation = np.array([50, 50, 15]).transpose()\n",
    "shifted_opt_graph = opt_graph + translation\n",
    "\n",
    "plt.plot(opt_graph[:, 0], opt_graph[:,1], label='Signal 1')\n",
    "plt.plot(shifted_opt_graph[:, 0], shifted_opt_graph[:,1], label='Signal 2')\n",
    "plt.legend()\n",
    "plt.show()\n",
    "\n",
    "opt_origin = opt_graph[0,:]\n",
    "opt_pos_signal = (opt_graph - opt_origin).squeeze()\n",
    "\n",
    "shifted_opt_origin = shifted_opt_graph[0,:]\n",
    "shifted_opt_pos_signal = (shifted_opt_origin - shifted_opt_graph).squeeze()\n",
    "\n",
    "x_1 = np.linalg.norm(opt_pos_signal, ord=2, axis=1)\n",
    "x_2 = np.linalg.norm(shifted_opt_pos_signal, ord=2, axis=1)\n",
    "\n",
    "W_1 = eval.compute_wavelets_coeffs(psi, x_1)\n",
    "W_2 = eval.compute_wavelets_coeffs(psi, x_2)\n",
    "print(f\" W_1 = {W_1.shape} andd W_2 = {W_2.shape}\")"
   ]
  },
  {
   "cell_type": "markdown",
   "metadata": {},
   "source": [
    "## Test Scenario 3"
   ]
  },
  {
   "cell_type": "code",
   "execution_count": 104,
   "metadata": {},
   "outputs": [
    {
     "data": {
      "image/png": "[encoded data removed]",
      "text/plain": [
       "<Figure size 432x288 with 1 Axes>"
      ]
     },
     "metadata": {
      "needs_background": "light"
     },
     "output_type": "display_data"
    },
    {
     "name": "stdout",
     "output_type": "stream",
     "text": [
      " W_1 = (1083, 7) andd W_2 = (1083, 7)\n"
     ]
    }
   ],
   "source": [
    "shifted_opt_graph = opt_graph * 1.5\n",
    "\n",
    "plt.plot(opt_graph[:, 0], opt_graph[:,1], label='Signal 1')\n",
    "plt.plot(shifted_opt_graph[:, 0], shifted_opt_graph[:,1], label='Signal 2')\n",
    "plt.legend()\n",
    "plt.show()\n",
    "\n",
    "opt_origin = opt_graph[0,:]\n",
    "opt_pos_signal = (opt_graph - opt_origin).squeeze()\n",
    "\n",
    "shifted_opt_origin = shifted_opt_graph[0,:]\n",
    "shifted_opt_pos_signal = (shifted_opt_origin - shifted_opt_graph).squeeze()\n",
    "\n",
    "x_1 = np.linalg.norm(opt_pos_signal, ord=2, axis=1)\n",
    "x_2 = np.linalg.norm(shifted_opt_pos_signal, ord=2, axis=1)\n",
    "\n",
    "W_1 = eval.compute_wavelets_coeffs(psi, x_1)\n",
    "W_2 = eval.compute_wavelets_coeffs(psi, x_2)\n",
    "print(f\" W_1 = {W_1.shape} andd W_2 = {W_2.shape}\")"
   ]
  },
  {
   "cell_type": "markdown",
   "metadata": {},
   "source": [
    "## Test Scenario 4"
   ]
  },
  {
   "cell_type": "code",
   "execution_count": 264,
   "metadata": {},
   "outputs": [
    {
     "data": {
      "image/png": "[encoded data removed]",
      "text/plain": [
       "<Figure size 720x360 with 1 Axes>"
      ]
     },
     "metadata": {
      "needs_background": "light"
     },
     "output_type": "display_data"
    },
    {
     "name": "stdout",
     "output_type": "stream",
     "text": [
      " W_1 = (1083, 7) andd W_2 = (1083, 7)\n"
     ]
    }
   ],
   "source": [
    "sigma = 0.3\n",
    "samples_1 = np.random.normal(0, sigma, G.N)\n",
    "samples_2 = np.random.normal(0, sigma, G.N)\n",
    "samples_3 = np.random.normal(0, sigma, G.N)\n",
    "shifted_opt_graph = opt_graph + np.array([samples_1, samples_2, samples_3]).transpose()\n",
    "\n",
    "plt.plot(opt_graph[:, 0], opt_graph[:,1], label='Signal 1')\n",
    "plt.plot(shifted_opt_graph[:, 0], shifted_opt_graph[:,1], label='Signal 2')\n",
    "plt.legend()\n",
    "plt.show()\n",
    "\n",
    "opt_origin = opt_graph[0,:]\n",
    "opt_pos_signal = (opt_graph - opt_origin).squeeze()\n",
    "\n",
    "shifted_opt_origin = shifted_opt_graph[0,:]\n",
    "shifted_opt_pos_signal = (shifted_opt_origin - shifted_opt_graph).squeeze()\n",
    "\n",
    "x_1 = np.linalg.norm(opt_pos_signal, ord=2, axis=1)\n",
    "x_2 = np.linalg.norm(shifted_opt_pos_signal, ord=2, axis=1)\n",
    "\n",
    "W_1 = eval.compute_wavelets_coeffs(psi, x_1)\n",
    "W_2 = eval.compute_wavelets_coeffs(psi, x_2)\n",
    "print(f\" W_1 = {W_1.shape} andd W_2 = {W_2.shape}\")"
   ]
  },
  {
   "cell_type": "markdown",
   "metadata": {},
   "source": [
    "## Test Scenario 5"
   ]
  },
  {
   "cell_type": "code",
   "execution_count": 207,
   "metadata": {},
   "outputs": [
    {
     "data": {
      "image/png": "[encoded data removed]",
      "text/plain": [
       "<Figure size 720x360 with 1 Axes>"
      ]
     },
     "metadata": {
      "needs_background": "light"
     },
     "output_type": "display_data"
    },
    {
     "name": "stdout",
     "output_type": "stream",
     "text": [
      " W_1 = (1083, 7) andd W_2 = (1083, 7)\n"
     ]
    }
   ],
   "source": [
    "sigma = 0.1\n",
    "samples_1 = np.random.normal(1, sigma, G.N)\n",
    "samples_2 = np.random.normal(1, sigma, G.N)\n",
    "samples_3 = np.random.normal(1, sigma, G.N)\n",
    "shifted_opt_graph = opt_graph * np.array([samples_1, samples_2, samples_3]).transpose()\n",
    "\n",
    "plt.plot(opt_graph[:, 0], opt_graph[:,1], label='Signal 1')\n",
    "plt.plot(shifted_opt_graph[:, 0], shifted_opt_graph[:,1], label='Signal 2')\n",
    "plt.legend()\n",
    "plt.show()\n",
    "\n",
    "opt_origin = opt_graph[0,:]\n",
    "opt_pos_signal = (opt_graph - opt_origin).squeeze()\n",
    "\n",
    "shifted_opt_origin = shifted_opt_graph[0,:]\n",
    "shifted_opt_pos_signal = (shifted_opt_origin - shifted_opt_graph).squeeze()\n",
    "\n",
    "x_1 = np.linalg.norm(opt_pos_signal, ord=2, axis=1)\n",
    "x_2 = np.linalg.norm(shifted_opt_pos_signal, ord=2, axis=1)\n",
    "\n",
    "W_1 = eval.compute_wavelets_coeffs(psi, x_1)\n",
    "W_2 = eval.compute_wavelets_coeffs(psi, x_2)\n",
    "print(f\" W_1 = {W_1.shape} andd W_2 = {W_2.shape}\")"
   ]
  },
  {
   "cell_type": "markdown",
   "metadata": {},
   "source": [
    "## Test Scenario 6"
   ]
  },
  {
   "cell_type": "code",
   "execution_count": 16,
   "metadata": {},
   "outputs": [
    {
     "data": {
      "image/png": "[encoded data removed]",
      "text/plain": [
       "<Figure size 432x288 with 1 Axes>"
      ]
     },
     "metadata": {
      "needs_background": "light"
     },
     "output_type": "display_data"
    },
    {
     "name": "stdout",
     "output_type": "stream",
     "text": [
      " W_1 = (1083, 7) andd W_2 = (1083, 7)\n"
     ]
    }
   ],
   "source": [
    "#sigma = 0.034\n",
    "sigma = 0.0015\n",
    "noise = np.array([0.0, 0.0, 0.0])\n",
    "shifted_opt_graph = np.copy(opt_graph)\n",
    "for i in range(0, G.N):\n",
    "    noise[0] += np.abs(np.random.normal(0, sigma, 1))\n",
    "    noise[1] += np.abs(np.random.normal(0, sigma, 1))\n",
    "    noise[2] += np.abs(np.random.normal(0, sigma, 1))\n",
    "    shifted_opt_graph[i] += noise.transpose()\n",
    "\n",
    "plt.plot(opt_graph[:, 0], opt_graph[:,1], label='Signal 1')\n",
    "plt.plot(shifted_opt_graph[:, 0], shifted_opt_graph[:,1], label='Signal 2')\n",
    "plt.legend()\n",
    "plt.show()\n",
    "\n",
    "opt_origin = opt_graph[0,:]\n",
    "opt_pos_signal = (opt_graph - opt_origin).squeeze()\n",
    "\n",
    "shifted_opt_origin = shifted_opt_graph[0,:]\n",
    "shifted_opt_pos_signal = (shifted_opt_origin - shifted_opt_graph).squeeze()\n",
    "\n",
    "x_1 = np.linalg.norm(opt_pos_signal, ord=2, axis=1)\n",
    "x_2 = np.linalg.norm(shifted_opt_pos_signal, ord=2, axis=1)\n",
    "\n",
    "W_1 = eval.compute_wavelets_coeffs(psi, x_1)\n",
    "W_2 = eval.compute_wavelets_coeffs(psi, x_2)\n",
    "print(f\" W_1 = {W_1.shape} andd W_2 = {W_2.shape}\")"
   ]
  },
  {
   "cell_type": "markdown",
   "metadata": {},
   "source": [
    "## Test Scenario 6"
   ]
  },
  {
   "cell_type": "code",
   "execution_count": 123,
   "metadata": {},
   "outputs": [
    {
     "data": {
      "image/png": "[encoded data removed]",
      "text/plain": [
       "<Figure size 432x288 with 1 Axes>"
      ]
     },
     "metadata": {
      "needs_background": "light"
     },
     "output_type": "display_data"
    },
    {
     "name": "stdout",
     "output_type": "stream",
     "text": [
      " W_1 = (1083, 7) andd W_2 = (1083, 7)\n"
     ]
    }
   ],
   "source": [
    "shifted_opt_graph = np.copy(opt_graph)\n",
    "shifted_opt_graph[142:145, :] += 2\n",
    "shifted_opt_graph[342:345, :] *= 1.2\n",
    "shifted_opt_graph[542:555, :] += 2\n",
    "shifted_opt_graph[742:755, :] += 2\n",
    "shifted_opt_graph[902:925, :] += 2\n",
    "shifted_opt_graph[922:925, :] += 2\n",
    "shifted_opt_graph[422:423, :] += 5\n",
    "\n",
    "\n",
    "plt.plot(opt_graph[:, 0], opt_graph[:,1], label='Signal 1')\n",
    "plt.plot(shifted_opt_graph[:, 0], shifted_opt_graph[:,1], label='Signal 2')\n",
    "plt.legend()\n",
    "plt.show()\n",
    "\n",
    "opt_origin = opt_graph[0,:]\n",
    "opt_pos_signal = (opt_graph - opt_origin).squeeze()\n",
    "\n",
    "shifted_opt_origin = shifted_opt_graph[0,:]\n",
    "shifted_opt_pos_signal = (shifted_opt_origin - shifted_opt_graph).squeeze()\n",
    "\n",
    "x_1 = np.linalg.norm(opt_pos_signal, ord=2, axis=1)\n",
    "x_2 = np.linalg.norm(shifted_opt_pos_signal, ord=2, axis=1)\n",
    "\n",
    "W_1 = eval.compute_wavelets_coeffs(psi, x_1)\n",
    "W_2 = eval.compute_wavelets_coeffs(psi, x_2)\n",
    "print(f\" W_1 = {W_1.shape} andd W_2 = {W_2.shape}\")"
   ]
  },
  {
   "cell_type": "markdown",
   "metadata": {},
   "source": [
    "-------------------"
   ]
  },
  {
   "cell_type": "code",
   "execution_count": null,
   "metadata": {},
   "outputs": [],
   "source": [
    "fig, axes = plt.subplots(eval.n_scales, 1, figsize=(25, 30))\n",
    "#fig.subplots_adjust(hspace=0.5)\n",
    "\n",
    "for i in range(0, eval.n_scales):\n",
    "    axes[i].plot(W_1[:,i], label='Signal 1')\n",
    "    axes[i].plot(W_2[:,i], label='Signal 2')    \n",
    "    #axes[i].plot(submap_split)\n",
    "    axes[i].legend()\n",
    "plt.tight_layout()"
   ]
  },
  {
   "cell_type": "markdown",
   "metadata": {},
   "source": [
    "----------------------------------------"
   ]
  },
  {
   "cell_type": "markdown",
   "metadata": {},
   "source": [
    "## Evaluation"
   ]
  },
  {
   "cell_type": "code",
   "execution_count": null,
   "metadata": {},
   "outputs": [],
   "source": [
    "n_submaps = 40\n",
    "submap_size = int(G.N/n_submaps)\n",
    "print(f\"Dividing {G.N} nodes into {n_submaps} = {submap_size} \")\n",
    "\n",
    "n_all_good = 0\n",
    "n_low_good = 0\n",
    "n_high_good = 0\n",
    "n_no_good = 0\n",
    "\n",
    "indices = []\n",
    "submap_indices = []\n",
    "state_signal = np.zeros((G.N, 1))\n",
    "for i in range(0, G.N):\n",
    "    n_indices_in_submap = len(submap_indices)\n",
    "    \n",
    "    # If the submap reached max size, evaluate it.\n",
    "    if n_indices_in_submap > 0 and n_indices_in_submap % submap_size == 0:\n",
    "        #print(f\"Checking submap for indices: {submap_indices}\")\n",
    "        eval_code = eval.check_submap(W_1, W_2, submap_indices)\n",
    "        if (eval_code is SubmapState.ALL_GOOD):\n",
    "            n_all_good += 1\n",
    "            state_signal[submap_indices] = 5\n",
    "        elif (eval_code is SubmapState.LOW_GOOD):\n",
    "            n_low_good += 1\n",
    "            state_signal[submap_indices] = 3\n",
    "        elif (eval_code is SubmapState.HIGH_GOOD):\n",
    "            n_high_good += 1\n",
    "            state_signal[submap_indices] = 1\n",
    "        else:\n",
    "            n_no_good += 1\n",
    "            state_signal[submap_indices] = 0\n",
    "        #print(f\"Submap state code: {eval_code}\")\n",
    "        submap_indices = []\n",
    "    \n",
    "    submap_indices.append(i)\n",
    "    \n",
    "if len(submap_indices) is not 0:    \n",
    "    eval_code = eval.check_submap(W_1, W_2, submap_indices)\n",
    "    if (eval_code is SubmapState.ALL_GOOD):\n",
    "        n_all_good += 1\n",
    "        state_signal[submap_indices] = 5\n",
    "    elif (eval_code is SubmapState.LOW_GOOD):        \n",
    "        n_low_good += 1\n",
    "        state_signal[submap_indices] = 3\n",
    "    elif (eval_code is SubmapState.HIGH_GOOD):\n",
    "        n_high_good += 1\n",
    "        state_signal[submap_indices] = 1\n",
    "    else:\n",
    "        n_no_good += 1\n",
    "        state_signal[submap_indices] = 0\n",
    "\n",
    "fig, axes = plt.subplots(2, 1, figsize=(10, 10))\n",
    "x = ['ALL_GOOD', 'LOW_GOOD', 'HIGH_GOOD', 'NO_GOOD']\n",
    "y = [n_all_good, n_low_good, n_high_good, n_no_good]\n",
    "axes[0].bar(x, y)\n",
    "G.plot(state_signal, ax=axes[1])"
   ]
  },
  {
   "cell_type": "markdown",
   "metadata": {},
   "source": [
    "----------------------------------------\n",
    "## Learn a Random Forest Classifier"
   ]
  },
  {
   "cell_type": "code",
   "execution_count": 18,
   "metadata": {},
   "outputs": [],
   "source": [
    "all_data = pandas.DataFrame([])\n",
    "feature_names = ['Cosine_L', 'Cosine_B', 'Cosine_H','Euclidean_L', 'Euclidean_B', 'Euclidean_H','BrayCurtis_L', 'BrayCurtis_B', 'BrayCurtis_H','Correlation_L', 'Correlation_B', 'Correlation_H', 'Canberra_L', 'Canberra_B', 'Canberra_H', 'JSD_L', 'JSD_B', 'JSD_H', 'Minkowski_L', 'Minkowski_B', 'Minkowski_H', 'Manhattan_L', 'Manhattan_B', 'Manhattan_H', 'Chebyshev_L', 'Chebyshev_B', 'Chebyshev_H']\n"
   ]
  },
  {
   "cell_type": "markdown",
   "metadata": {},
   "source": [
    "### Additive noise"
   ]
  },
  {
   "cell_type": "code",
   "execution_count": 19,
   "metadata": {},
   "outputs": [],
   "source": [
    "noise_levels = np.arange(0.005, 0.25, 0.001)\n",
    "for sigma in noise_levels:    \n",
    "    samples_1 = np.random.normal(0, sigma, G.N)\n",
    "    samples_2 = np.random.normal(0, sigma, G.N)\n",
    "    samples_3 = np.random.normal(0, sigma, G.N)\n",
    "    shifted_opt_graph = opt_graph + np.array([samples_1, samples_2, samples_3]).transpose()\n",
    "\n",
    "    opt_origin = opt_graph[0,:]\n",
    "    opt_pos_signal = (opt_graph - opt_origin).squeeze()\n",
    "\n",
    "    shifted_opt_origin = shifted_opt_graph[0,:]\n",
    "    shifted_opt_pos_signal = (shifted_opt_origin - shifted_opt_graph).squeeze()\n",
    "\n",
    "    x_1 = np.linalg.norm(opt_pos_signal, ord=2, axis=1)\n",
    "    x_2 = np.linalg.norm(shifted_opt_pos_signal, ord=2, axis=1)\n",
    "\n",
    "    W_1 = eval.compute_wavelets_coeffs(psi, x_1)\n",
    "    W_2 = eval.compute_wavelets_coeffs(psi, x_2)\n",
    "\n",
    "    n_submaps = 40\n",
    "    submap_size = int(G.N/n_submaps)\n",
    "\n",
    "    indices = []\n",
    "    submap_indices = []\n",
    "    state_signal = np.zeros((G.N, 1))\n",
    "\n",
    "    submap_data = []\n",
    "    for i in range(0, G.N):\n",
    "        n_indices_in_submap = len(submap_indices)\n",
    "\n",
    "        # If the submap reached max size, evaluate it.\n",
    "\n",
    "        if n_indices_in_submap > 0 and n_indices_in_submap % submap_size == 0:        \n",
    "            features = eval.compute_features_for_submap(W_1, W_2, submap_indices)\n",
    "            submap_data.append(features)\n",
    "\n",
    "            submap_indices = []\n",
    "\n",
    "        submap_indices.append(i)\n",
    "        \n",
    "    # TODO(lbern): add remaining submaps\n",
    "        \n",
    "    submap_data = np.array(submap_data)        \n",
    "    label = 0\n",
    "    data=pandas.DataFrame({\n",
    "        feature_names[0]:submap_data[:,0],\n",
    "        feature_names[1]:submap_data[:,1],\n",
    "        feature_names[2]:submap_data[:,2],\n",
    "\n",
    "        feature_names[3]:submap_data[:,3],\n",
    "        feature_names[4]:submap_data[:,4],\n",
    "        feature_names[5]:submap_data[:,5],\n",
    "\n",
    "        feature_names[6]:submap_data[:,6],\n",
    "        feature_names[7]:submap_data[:,7],\n",
    "        feature_names[8]:submap_data[:,8],\n",
    "\n",
    "        feature_names[9]:submap_data[:,9],\n",
    "        feature_names[10]:submap_data[:,10],\n",
    "        feature_names[11]:submap_data[:,11],\n",
    "\n",
    "        feature_names[12]:submap_data[:,12],\n",
    "        feature_names[13]:submap_data[:,13],\n",
    "        feature_names[14]:submap_data[:,14],\n",
    "\n",
    "        feature_names[15]:submap_data[:,15],\n",
    "        feature_names[16]:submap_data[:,16],\n",
    "        feature_names[17]:submap_data[:,17],\n",
    "\n",
    "        feature_names[18]:submap_data[:,18],\n",
    "        feature_names[19]:submap_data[:,19],\n",
    "        feature_names[20]:submap_data[:,20],\n",
    "\n",
    "        feature_names[21]:submap_data[:,21],\n",
    "        feature_names[22]:submap_data[:,22],\n",
    "        feature_names[23]:submap_data[:,23],\n",
    "\n",
    "        feature_names[24]:submap_data[:,24],\n",
    "        feature_names[25]:submap_data[:,25],\n",
    "        feature_names[26]:submap_data[:,26],\n",
    "        'state':label\n",
    "    })\n",
    "\n",
    "    all_data=all_data.append(data)"
   ]
  },
  {
   "cell_type": "markdown",
   "metadata": {},
   "source": [
    "### Drift "
   ]
  },
  {
   "cell_type": "code",
   "execution_count": 20,
   "metadata": {},
   "outputs": [],
   "source": [
    "noise_levels = np.arange(0.0001, 0.0011, 0.0001)\n",
    "for sigma in noise_levels:    \n",
    "    noise = np.array([0.0, 0.0, 0.0])\n",
    "    shifted_opt_graph = np.copy(opt_graph)\n",
    "    for i in range(0, G.N):\n",
    "        noise[0] += np.abs(np.random.normal(0, sigma, 1))\n",
    "        noise[1] += np.abs(np.random.normal(0, sigma, 1))\n",
    "        noise[2] += np.abs(np.random.normal(0, sigma, 1))\n",
    "        shifted_opt_graph[i] += noise.transpose()\n",
    "\n",
    "    opt_origin = opt_graph[0,:]\n",
    "    opt_pos_signal = (opt_graph - opt_origin).squeeze()\n",
    "\n",
    "    shifted_opt_origin = shifted_opt_graph[0,:]\n",
    "    shifted_opt_pos_signal = (shifted_opt_origin - shifted_opt_graph).squeeze()\n",
    "\n",
    "    x_1 = np.linalg.norm(opt_pos_signal, ord=2, axis=1)\n",
    "    x_2 = np.linalg.norm(shifted_opt_pos_signal, ord=2, axis=1)\n",
    "\n",
    "    W_1 = eval.compute_wavelets_coeffs(psi, x_1)\n",
    "    W_2 = eval.compute_wavelets_coeffs(psi, x_2)\n",
    "    \n",
    "    n_submaps = 40\n",
    "    submap_size = int(G.N/n_submaps)\n",
    "\n",
    "    indices = []\n",
    "    submap_indices = []\n",
    "    state_signal = np.zeros((G.N, 1))\n",
    "\n",
    "    submap_data = []\n",
    "    for i in range(0, G.N):\n",
    "        n_indices_in_submap = len(submap_indices)\n",
    "\n",
    "        # If the submap reached max size, evaluate it.\n",
    "\n",
    "        if n_indices_in_submap > 0 and n_indices_in_submap % submap_size == 0:        \n",
    "            features = eval.compute_features_for_submap(W_1, W_2, submap_indices)\n",
    "            submap_data.append(features)\n",
    "\n",
    "            submap_indices = []\n",
    "\n",
    "        submap_indices.append(i)\n",
    "        \n",
    "    # TODO(lbern): add remaining submaps\n",
    "        \n",
    "    submap_data = np.array(submap_data)        \n",
    "    label = 0\n",
    "    data=pandas.DataFrame({\n",
    "        feature_names[0]:submap_data[:,0],\n",
    "        feature_names[1]:submap_data[:,1],\n",
    "        feature_names[2]:submap_data[:,2],\n",
    "\n",
    "        feature_names[3]:submap_data[:,3],\n",
    "        feature_names[4]:submap_data[:,4],\n",
    "        feature_names[5]:submap_data[:,5],\n",
    "\n",
    "        feature_names[6]:submap_data[:,6],\n",
    "        feature_names[7]:submap_data[:,7],\n",
    "        feature_names[8]:submap_data[:,8],\n",
    "\n",
    "        feature_names[9]:submap_data[:,9],\n",
    "        feature_names[10]:submap_data[:,10],\n",
    "        feature_names[11]:submap_data[:,11],\n",
    "\n",
    "        feature_names[12]:submap_data[:,12],\n",
    "        feature_names[13]:submap_data[:,13],\n",
    "        feature_names[14]:submap_data[:,14],\n",
    "\n",
    "        feature_names[15]:submap_data[:,15],\n",
    "        feature_names[16]:submap_data[:,16],\n",
    "        feature_names[17]:submap_data[:,17],\n",
    "\n",
    "        feature_names[18]:submap_data[:,18],\n",
    "        feature_names[19]:submap_data[:,19],\n",
    "        feature_names[20]:submap_data[:,20],\n",
    "\n",
    "        feature_names[21]:submap_data[:,21],\n",
    "        feature_names[22]:submap_data[:,22],\n",
    "        feature_names[23]:submap_data[:,23],\n",
    "\n",
    "        feature_names[24]:submap_data[:,24],\n",
    "        feature_names[25]:submap_data[:,25],\n",
    "        feature_names[26]:submap_data[:,26],\n",
    "        'state':label\n",
    "    })\n",
    "\n",
    "    all_data=all_data.append(data)"
   ]
  },
  {
   "cell_type": "markdown",
   "metadata": {},
   "source": [
    "### Bad Drift"
   ]
  },
  {
   "cell_type": "code",
   "execution_count": 21,
   "metadata": {},
   "outputs": [],
   "source": [
    "noise_levels = np.arange(0.01, 0.055, 0.001)\n",
    "for sigma in noise_levels:    \n",
    "    noise = np.array([0.0, 0.0, 0.0])\n",
    "    shifted_opt_graph = np.copy(opt_graph)\n",
    "    for i in range(0, G.N):\n",
    "        noise[0] += np.abs(np.random.normal(0, sigma, 1))\n",
    "        noise[1] += np.abs(np.random.normal(0, sigma, 1))\n",
    "        noise[2] += np.abs(np.random.normal(0, sigma, 1))\n",
    "        shifted_opt_graph[i] += noise.transpose()\n",
    "\n",
    "    opt_origin = opt_graph[0,:]\n",
    "    opt_pos_signal = (opt_graph - opt_origin).squeeze()\n",
    "\n",
    "    shifted_opt_origin = shifted_opt_graph[0,:]\n",
    "    shifted_opt_pos_signal = (shifted_opt_origin - shifted_opt_graph).squeeze()\n",
    "\n",
    "    x_1 = np.linalg.norm(opt_pos_signal, ord=2, axis=1)\n",
    "    x_2 = np.linalg.norm(shifted_opt_pos_signal, ord=2, axis=1)\n",
    "\n",
    "    W_1 = eval.compute_wavelets_coeffs(psi, x_1)\n",
    "    W_2 = eval.compute_wavelets_coeffs(psi, x_2)\n",
    "    \n",
    "    n_submaps = 40\n",
    "    submap_size = int(G.N/n_submaps)\n",
    "\n",
    "    indices = []\n",
    "    submap_indices = []\n",
    "    state_signal = np.zeros((G.N, 1))\n",
    "\n",
    "    submap_data = []\n",
    "    for i in range(0, G.N):\n",
    "        n_indices_in_submap = len(submap_indices)\n",
    "\n",
    "        # If the submap reached max size, evaluate it.\n",
    "\n",
    "        if n_indices_in_submap > 0 and n_indices_in_submap % submap_size == 0:        \n",
    "            features = eval.compute_features_for_submap(W_1, W_2, submap_indices)\n",
    "            submap_data.append(features)\n",
    "\n",
    "            submap_indices = []\n",
    "\n",
    "        submap_indices.append(i)\n",
    "        \n",
    "    # TODO(lbern): add remaining submaps\n",
    "        \n",
    "    submap_data = np.array(submap_data)        \n",
    "    label = 1\n",
    "    data=pandas.DataFrame({\n",
    "        feature_names[0]:submap_data[:,0],\n",
    "        feature_names[1]:submap_data[:,1],\n",
    "        feature_names[2]:submap_data[:,2],\n",
    "\n",
    "        feature_names[3]:submap_data[:,3],\n",
    "        feature_names[4]:submap_data[:,4],\n",
    "        feature_names[5]:submap_data[:,5],\n",
    "\n",
    "        feature_names[6]:submap_data[:,6],\n",
    "        feature_names[7]:submap_data[:,7],\n",
    "        feature_names[8]:submap_data[:,8],\n",
    "\n",
    "        feature_names[9]:submap_data[:,9],\n",
    "        feature_names[10]:submap_data[:,10],\n",
    "        feature_names[11]:submap_data[:,11],\n",
    "\n",
    "        feature_names[12]:submap_data[:,12],\n",
    "        feature_names[13]:submap_data[:,13],\n",
    "        feature_names[14]:submap_data[:,14],\n",
    "\n",
    "        feature_names[15]:submap_data[:,15],\n",
    "        feature_names[16]:submap_data[:,16],\n",
    "        feature_names[17]:submap_data[:,17],\n",
    "\n",
    "        feature_names[18]:submap_data[:,18],\n",
    "        feature_names[19]:submap_data[:,19],\n",
    "        feature_names[20]:submap_data[:,20],\n",
    "\n",
    "        feature_names[21]:submap_data[:,21],\n",
    "        feature_names[22]:submap_data[:,22],\n",
    "        feature_names[23]:submap_data[:,23],\n",
    "\n",
    "        feature_names[24]:submap_data[:,24],\n",
    "        feature_names[25]:submap_data[:,25],\n",
    "        feature_names[26]:submap_data[:,26],\n",
    "        'state':label\n",
    "    })\n",
    "\n",
    "    all_data=all_data.append(data)"
   ]
  },
  {
   "cell_type": "code",
   "execution_count": 22,
   "metadata": {},
   "outputs": [
    {
     "name": "stdout",
     "output_type": "stream",
     "text": [
      "Size of all_data = 12000\n"
     ]
    },
    {
     "data": {
      "text/html": [
       "<div>\n",
       "<style scoped>\n",
       "    .dataframe tbody tr th:only-of-type {\n",
       "        vertical-align: middle;\n",
       "    }\n",
       "\n",
       "    .dataframe tbody tr th {\n",
       "        vertical-align: top;\n",
       "    }\n",
       "\n",
       "    .dataframe thead th {\n",
       "        text-align: right;\n",
       "    }\n",
       "</style>\n",
       "<table border=\"1\" class=\"dataframe\">\n",
       "  <thead>\n",
       "    <tr style=\"text-align: right;\">\n",
       "      <th></th>\n",
       "      <th>Cosine_L</th>\n",
       "      <th>Cosine_B</th>\n",
       "      <th>Cosine_H</th>\n",
       "      <th>Euclidean_L</th>\n",
       "      <th>Euclidean_B</th>\n",
       "      <th>Euclidean_H</th>\n",
       "      <th>BrayCurtis_L</th>\n",
       "      <th>BrayCurtis_B</th>\n",
       "      <th>BrayCurtis_H</th>\n",
       "      <th>Correlation_L</th>\n",
       "      <th>...</th>\n",
       "      <th>Minkowski_L</th>\n",
       "      <th>Minkowski_B</th>\n",
       "      <th>Minkowski_H</th>\n",
       "      <th>Manhattan_L</th>\n",
       "      <th>Manhattan_B</th>\n",
       "      <th>Manhattan_H</th>\n",
       "      <th>Chebyshev_L</th>\n",
       "      <th>Chebyshev_B</th>\n",
       "      <th>Chebyshev_H</th>\n",
       "      <th>state</th>\n",
       "    </tr>\n",
       "  </thead>\n",
       "  <tbody>\n",
       "    <tr>\n",
       "      <th>35</th>\n",
       "      <td>1.566758e-01</td>\n",
       "      <td>0.147981</td>\n",
       "      <td>2.437961</td>\n",
       "      <td>274.587649</td>\n",
       "      <td>78.642152</td>\n",
       "      <td>38.781744</td>\n",
       "      <td>1.793847</td>\n",
       "      <td>1.690751</td>\n",
       "      <td>2.008013</td>\n",
       "      <td>0.007413</td>\n",
       "      <td>...</td>\n",
       "      <td>274.587649</td>\n",
       "      <td>78.642152</td>\n",
       "      <td>38.781744</td>\n",
       "      <td>1410.384658</td>\n",
       "      <td>339.259179</td>\n",
       "      <td>120.774533</td>\n",
       "      <td>56.623470</td>\n",
       "      <td>24.879953</td>\n",
       "      <td>19.008040</td>\n",
       "      <td>1</td>\n",
       "    </tr>\n",
       "    <tr>\n",
       "      <th>36</th>\n",
       "      <td>1.138536e-02</td>\n",
       "      <td>0.425329</td>\n",
       "      <td>1.618783</td>\n",
       "      <td>256.358729</td>\n",
       "      <td>3.289214</td>\n",
       "      <td>99.848057</td>\n",
       "      <td>1.339867</td>\n",
       "      <td>0.876865</td>\n",
       "      <td>1.982886</td>\n",
       "      <td>2.046488</td>\n",
       "      <td>...</td>\n",
       "      <td>256.358729</td>\n",
       "      <td>3.289214</td>\n",
       "      <td>99.848057</td>\n",
       "      <td>1331.724206</td>\n",
       "      <td>15.567021</td>\n",
       "      <td>501.633399</td>\n",
       "      <td>49.581756</td>\n",
       "      <td>0.983510</td>\n",
       "      <td>26.636322</td>\n",
       "      <td>1</td>\n",
       "    </tr>\n",
       "    <tr>\n",
       "      <th>37</th>\n",
       "      <td>2.472151e-06</td>\n",
       "      <td>1.999906</td>\n",
       "      <td>0.271851</td>\n",
       "      <td>256.310349</td>\n",
       "      <td>3.089874</td>\n",
       "      <td>132.167607</td>\n",
       "      <td>1.200896</td>\n",
       "      <td>7.457707</td>\n",
       "      <td>1.983236</td>\n",
       "      <td>2.000232</td>\n",
       "      <td>...</td>\n",
       "      <td>256.310349</td>\n",
       "      <td>3.089874</td>\n",
       "      <td>132.167607</td>\n",
       "      <td>1331.827570</td>\n",
       "      <td>16.054694</td>\n",
       "      <td>685.296010</td>\n",
       "      <td>49.332616</td>\n",
       "      <td>0.598669</td>\n",
       "      <td>26.128257</td>\n",
       "      <td>1</td>\n",
       "    </tr>\n",
       "    <tr>\n",
       "      <th>38</th>\n",
       "      <td>9.329996e-08</td>\n",
       "      <td>1.999997</td>\n",
       "      <td>0.958219</td>\n",
       "      <td>256.310306</td>\n",
       "      <td>3.098529</td>\n",
       "      <td>126.040213</td>\n",
       "      <td>1.200591</td>\n",
       "      <td>7.593338</td>\n",
       "      <td>1.991605</td>\n",
       "      <td>2.001195</td>\n",
       "      <td>...</td>\n",
       "      <td>256.310306</td>\n",
       "      <td>3.098529</td>\n",
       "      <td>126.040213</td>\n",
       "      <td>1331.827414</td>\n",
       "      <td>16.100402</td>\n",
       "      <td>652.496536</td>\n",
       "      <td>49.327878</td>\n",
       "      <td>0.601264</td>\n",
       "      <td>24.759712</td>\n",
       "      <td>1</td>\n",
       "    </tr>\n",
       "    <tr>\n",
       "      <th>39</th>\n",
       "      <td>3.823039e-08</td>\n",
       "      <td>1.999999</td>\n",
       "      <td>1.952902</td>\n",
       "      <td>256.310306</td>\n",
       "      <td>3.097777</td>\n",
       "      <td>133.904082</td>\n",
       "      <td>1.200617</td>\n",
       "      <td>7.582253</td>\n",
       "      <td>1.998542</td>\n",
       "      <td>2.030112</td>\n",
       "      <td>...</td>\n",
       "      <td>256.310306</td>\n",
       "      <td>3.097777</td>\n",
       "      <td>133.904082</td>\n",
       "      <td>1331.827418</td>\n",
       "      <td>16.096508</td>\n",
       "      <td>693.709904</td>\n",
       "      <td>49.327407</td>\n",
       "      <td>0.598297</td>\n",
       "      <td>26.663342</td>\n",
       "      <td>1</td>\n",
       "    </tr>\n",
       "  </tbody>\n",
       "</table>\n",
       "<p>5 rows × 28 columns</p>\n",
       "</div>"
      ],
      "text/plain": [
       "        Cosine_L  Cosine_B  Cosine_H  Euclidean_L  Euclidean_B  Euclidean_H  \\\n",
       "35  1.566758e-01  0.147981  2.437961   274.587649    78.642152    38.781744   \n",
       "36  1.138536e-02  0.425329  1.618783   256.358729     3.289214    99.848057   \n",
       "37  2.472151e-06  1.999906  0.271851   256.310349     3.089874   132.167607   \n",
       "38  9.329996e-08  1.999997  0.958219   256.310306     3.098529   126.040213   \n",
       "39  3.823039e-08  1.999999  1.952902   256.310306     3.097777   133.904082   \n",
       "\n",
       "    BrayCurtis_L  BrayCurtis_B  BrayCurtis_H  Correlation_L  ...  Minkowski_L  \\\n",
       "35      1.793847      1.690751      2.008013       0.007413  ...   274.587649   \n",
       "36      1.339867      0.876865      1.982886       2.046488  ...   256.358729   \n",
       "37      1.200896      7.457707      1.983236       2.000232  ...   256.310349   \n",
       "38      1.200591      7.593338      1.991605       2.001195  ...   256.310306   \n",
       "39      1.200617      7.582253      1.998542       2.030112  ...   256.310306   \n",
       "\n",
       "    Minkowski_B  Minkowski_H  Manhattan_L  Manhattan_B  Manhattan_H  \\\n",
       "35    78.642152    38.781744  1410.384658   339.259179   120.774533   \n",
       "36     3.289214    99.848057  1331.724206    15.567021   501.633399   \n",
       "37     3.089874   132.167607  1331.827570    16.054694   685.296010   \n",
       "38     3.098529   126.040213  1331.827414    16.100402   652.496536   \n",
       "39     3.097777   133.904082  1331.827418    16.096508   693.709904   \n",
       "\n",
       "    Chebyshev_L  Chebyshev_B  Chebyshev_H  state  \n",
       "35    56.623470    24.879953    19.008040      1  \n",
       "36    49.581756     0.983510    26.636322      1  \n",
       "37    49.332616     0.598669    26.128257      1  \n",
       "38    49.327878     0.601264    24.759712      1  \n",
       "39    49.327407     0.598297    26.663342      1  \n",
       "\n",
       "[5 rows x 28 columns]"
      ]
     },
     "execution_count": 22,
     "metadata": {},
     "output_type": "execute_result"
    }
   ],
   "source": [
    "print(f\"Size of all_data = {all_data.shape[0]}\")\n",
    "all_data.tail()"
   ]
  },
  {
   "cell_type": "code",
   "execution_count": 23,
   "metadata": {},
   "outputs": [],
   "source": [
    "all_data = all_data.fillna(0)\n",
    "all_data = all_data.replace(float('inf'), 1)\n",
    "\n",
    "# without JSD\n",
    "#feature_names = ['Cosine_L', 'Cosine_B', 'Cosine_H','Euclidean_L', 'Euclidean_B', 'Euclidean_H','BrayCurtis_L', 'BrayCurtis_B', 'BrayCurtis_H','Correlation_L', 'Correlation_B', 'Correlation_H', 'Canberra_L', 'Canberra_B', 'Canberra_H', 'Minkowski_L', 'Minkowski_B', 'Minkowski_H', 'Manhattan_L', 'Manhattan_B', 'Manhattan_H', 'Chebyshev_L', 'Chebyshev_B', 'Chebyshev_H']\n",
    "\n",
    "# Full\n",
    "feature_names = ['Cosine_L', 'Cosine_B', 'Cosine_H','Euclidean_L', 'Euclidean_B', 'Euclidean_H','BrayCurtis_L', 'BrayCurtis_B', 'BrayCurtis_H','Correlation_L', 'Correlation_B', 'Correlation_H', 'Canberra_L', 'Canberra_B', 'Canberra_H', 'JSD_L', 'JSD_B', 'JSD_H', 'Minkowski_L', 'Minkowski_B', 'Minkowski_H', 'Manhattan_L', 'Manhattan_B', 'Manhattan_H', 'Chebyshev_L', 'Chebyshev_B', 'Chebyshev_H']\n"
   ]
  },
  {
   "cell_type": "code",
   "execution_count": 24,
   "metadata": {},
   "outputs": [
    {
     "data": {
      "text/plain": [
       "['../config/forest.joblib']"
      ]
     },
     "execution_count": 24,
     "metadata": {},
     "output_type": "execute_result"
    }
   ],
   "source": [
    "X=all_data[feature_names]\n",
    "y=all_data['state']\n",
    "\n",
    "X_train, X_test, y_train, y_test = train_test_split(X, y, test_size=0.3) # 70% training and 30% test\n",
    "\n",
    "clf=RandomForestClassifier(n_estimators=100)\n",
    "clf.fit(X_train,y_train)\n",
    "y_pred=clf.predict(X_test)\n",
    "\n",
    "dump(clf, '../config/forest.joblib') \n",
    "#clf = load('filename.joblib') "
   ]
  },
  {
   "cell_type": "code",
   "execution_count": 25,
   "metadata": {},
   "outputs": [
    {
     "name": "stdout",
     "output_type": "stream",
     "text": [
      "Accuracy: 1.0\n"
     ]
    }
   ],
   "source": [
    "print(\"Accuracy:\",metrics.accuracy_score(y_test, y_pred))\n"
   ]
  },
  {
   "cell_type": "code",
   "execution_count": 26,
   "metadata": {},
   "outputs": [
    {
     "name": "stderr",
     "output_type": "stream",
     "text": [
      "No handles with labels found to put in legend.\n"
     ]
    },
    {
     "data": {
      "text/plain": [
       "<matplotlib.legend.Legend at 0x7f796b2141d0>"
      ]
     },
     "execution_count": 26,
     "metadata": {},
     "output_type": "execute_result"
    },
    {
     "data": {
      "image/png": "[encoded data removed]",
      "text/plain": [
       "<Figure size 432x288 with 1 Axes>"
      ]
     },
     "metadata": {
      "needs_background": "light"
     },
     "output_type": "display_data"
    }
   ],
   "source": [
    "feature_imp = pandas.Series(clf.feature_importances_, index=feature_names).sort_values(ascending=False)\n",
    "\n",
    "sns.barplot(x=feature_imp, y=feature_imp.index)\n",
    "\n",
    "# Add labels to your graph\n",
    "plt.xlabel('Feature Importance Score')\n",
    "plt.ylabel('Features')\n",
    "plt.title(\"Visualizing Important Features\")\n",
    "plt.legend()\n"
   ]
  },
  {
   "cell_type": "code",
   "execution_count": 240,
   "metadata": {},
   "outputs": [],
   "source": [
    "# Pull out one tree from the forest\n",
    "tree = clf.estimators_[5]\n",
    "# Export the image to a dot file\n",
    "export_graphviz(tree, out_file = 'tree.dot', feature_names = feature_names, rounded = True, precision = 1)\n",
    "# Use dot file to create a graph\n",
    "(graph, ) = pydot.graph_from_dot_file('tree.dot')\n",
    "# Write graph to a png file\n",
    "graph.write_png('tree.png')"
   ]
  },
  {
   "cell_type": "markdown",
   "metadata": {},
   "source": [
    "## Real Tests"
   ]
  },
  {
   "cell_type": "code",
   "execution_count": 7,
   "metadata": {},
   "outputs": [],
   "source": [
    "clf = load('../config/forest.joblib') "
   ]
  },
  {
   "cell_type": "code",
   "execution_count": null,
   "metadata": {},
   "outputs": [],
   "source": [
    "feature_names = ['Cosine_L', 'Cosine_B', 'Cosine_H','Euclidean_L', 'Euclidean_B', 'Euclidean_H','BrayCurtis_L', 'BrayCurtis_B', 'BrayCurtis_H','Correlation_L', 'Correlation_B', 'Correlation_H', 'Canberra_L', 'Canberra_B', 'Canberra_H', 'JSD_L', 'JSD_B', 'JSD_H', 'Minkowski_L', 'Minkowski_B', 'Minkowski_H', 'Manhattan_L', 'Manhattan_B', 'Manhattan_H', 'Chebyshev_L', 'Chebyshev_B', 'Chebyshev_H']\n",
    "\n",
    "W_1 = eval.compute_wavelets_coeffs(psi, x_opt)\n",
    "W_2 = eval.compute_wavelets_coeffs(psi, x_loam)\n",
    "#W_2 = eval.compute_wavelets_coeffs(psi, x_rovio)\n",
    "\n",
    "n_submaps = 40\n",
    "submap_size = int(G.N/n_submaps)\n",
    "\n",
    "n_all_good = 0\n",
    "n_low_good = 0\n",
    "n_high_good = 0\n",
    "n_no_good = 0\n",
    "\n",
    "indices = []\n",
    "submap_indices = []\n",
    "state_signal = np.zeros((G.N, 1))\n",
    "\n",
    "submap_data = []\n",
    "for i in range(0, G.N):\n",
    "    n_indices_in_submap = len(submap_indices)\n",
    "\n",
    "    # If the submap reached max size, evaluate it.\n",
    "\n",
    "    if n_indices_in_submap > 0 and n_indices_in_submap % submap_size == 0:        \n",
    "        features = eval.compute_features_for_submap(W_1, W_2, submap_indices)\n",
    "        submap_data.append(features)\n",
    "\n",
    "        submap_indices = []\n",
    "\n",
    "    submap_indices.append(i)\n",
    "\n",
    "submap_data = np.array(submap_data)                \n",
    "data=pandas.DataFrame({\n",
    "    feature_names[0]:submap_data[:,0],\n",
    "    feature_names[1]:submap_data[:,1],\n",
    "    feature_names[2]:submap_data[:,2],\n",
    "\n",
    "    feature_names[3]:submap_data[:,3],\n",
    "    feature_names[4]:submap_data[:,4],\n",
    "    feature_names[5]:submap_data[:,5],\n",
    "\n",
    "    feature_names[6]:submap_data[:,6],\n",
    "    feature_names[7]:submap_data[:,7],\n",
    "    feature_names[8]:submap_data[:,8],\n",
    "\n",
    "    feature_names[9]:submap_data[:,9],\n",
    "    feature_names[10]:submap_data[:,10],\n",
    "    feature_names[11]:submap_data[:,11],\n",
    "\n",
    "    feature_names[12]:submap_data[:,12],\n",
    "    feature_names[13]:submap_data[:,13],\n",
    "    feature_names[14]:submap_data[:,14],\n",
    "\n",
    "    feature_names[15]:submap_data[:,15],\n",
    "    feature_names[16]:submap_data[:,16],\n",
    "    feature_names[17]:submap_data[:,17],\n",
    "\n",
    "    feature_names[18]:submap_data[:,18],\n",
    "    feature_names[19]:submap_data[:,19],\n",
    "    feature_names[20]:submap_data[:,20],\n",
    "\n",
    "    feature_names[21]:submap_data[:,21],\n",
    "    feature_names[22]:submap_data[:,22],\n",
    "    feature_names[23]:submap_data[:,23],\n",
    "\n",
    "    feature_names[24]:submap_data[:,24],\n",
    "    feature_names[25]:submap_data[:,25],\n",
    "    feature_names[26]:submap_data[:,26]    \n",
    "})"
   ]
  },
  {
   "cell_type": "code",
   "execution_count": 15,
   "metadata": {},
   "outputs": [
    {
     "name": "stdout",
     "output_type": "stream",
     "text": [
      "Prediction shape (40,) and prob shape (40, 2)\n"
     ]
    },
    {
     "data": {
      "text/plain": [
       "40"
      ]
     },
     "execution_count": 15,
     "metadata": {},
     "output_type": "execute_result"
    }
   ],
   "source": [
    "data = data.fillna(0)\n",
    "data = data.replace(float('inf'), 1)\n",
    "\n",
    "prediction = clf.predict(data)\n",
    "prediction_prob = clf.predict_proba(data)\n",
    "\n",
    "print(f\"Prediction shape {prediction.shape} and prob shape {prediction_prob.shape}\")\n",
    "len(prediction)"
   ]
  },
  {
   "cell_type": "code",
   "execution_count": 2,
   "metadata": {},
   "outputs": [
    {
     "data": {
      "text/plain": [
       "[4, 5, 1]"
      ]
     },
     "execution_count": 2,
     "metadata": {},
     "output_type": "execute_result"
    }
   ],
   "source": [
    "a = [1,2,3,4,5,6]\n",
    "mask = [False,False,True,True,False,False,]\n",
    "idx = [3,4,0]\n",
    "#[a[i] for i in range(0,len(a)) if mask[i]]\n",
    "[a[id] for id in idx]"
   ]
  },
  {
   "cell_type": "code",
   "execution_count": 29,
   "metadata": {},
   "outputs": [
    {
     "data": {
      "text/plain": [
       "0"
      ]
     },
     "execution_count": 29,
     "metadata": {},
     "output_type": "execute_result"
    }
   ],
   "source": [
    "np.array([0])[0]"
   ]
  },
  {
   "cell_type": "code",
   "execution_count": 65,
   "metadata": {},
   "outputs": [
    {
     "data": {
      "text/plain": [
       "150"
      ]
     },
     "execution_count": 65,
     "metadata": {},
     "output_type": "execute_result"
    }
   ],
   "source": []
  }
 ],
 "metadata": {
  "kernelspec": {
   "display_name": "Python 3",
   "language": "python",
   "name": "python3"
  },
  "language_info": {
   "codemirror_mode": {
    "name": "ipython",
    "version": 3
   },
   "file_extension": ".py",
   "mimetype": "text/x-python",
   "name": "python",
   "nbconvert_exporter": "python",
   "pygments_lexer": "ipython3",
   "version": "3.6.9"
  }
 },
 "nbformat": 4,
 "nbformat_minor": 4
}
